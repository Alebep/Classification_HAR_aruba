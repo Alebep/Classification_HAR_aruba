{
 "cells": [
  {
   "cell_type": "markdown",
   "metadata": {},
   "source": [
    "# Bibliotecas e Frameworks"
   ]
  },
  {
   "cell_type": "code",
   "execution_count": 78,
   "metadata": {},
   "outputs": [],
   "source": [
    "import torch\n",
    "from torch import nn, optim\n",
    "from torch.utils.data import DataLoader, TensorDataset\n",
    "import pandas as pd\n",
    "import numpy as np\n",
    "import matplotlib.pyplot as plt\n",
    "import seaborn as sns\n",
    "import scipy.stats as sts\n",
    "import statistics\n",
    "from sklearn.preprocessing import LabelEncoder\n",
    "from sklearn.preprocessing import OneHotEncoder"
   ]
  },
  {
   "cell_type": "markdown",
   "metadata": {},
   "source": [
    "# Carregar Dataset\n"
   ]
  },
  {
   "cell_type": "code",
   "execution_count": 2,
   "metadata": {},
   "outputs": [],
   "source": [
    "root = '/home/alebex/pratica-dissertacao/Plano A/'\n",
    "caminho = root+'aruba.csv'\n",
    "caminho_original = root+'data'"
   ]
  },
  {
   "cell_type": "markdown",
   "metadata": {},
   "source": [
    "# Dataset Original Gerar novo em CSV Corrigido"
   ]
  },
  {
   "cell_type": "code",
   "execution_count": 86,
   "metadata": {},
   "outputs": [
    {
     "name": "stdout",
     "output_type": "stream",
     "text": [
      "<class 'pandas.core.frame.DataFrame'>\n",
      "RangeIndex: 1719558 entries, 0 to 1719557\n",
      "Data columns (total 6 columns):\n",
      " #   Column        Dtype \n",
      "---  ------        ----- \n",
      " 0   Data          object\n",
      " 1   Hora          object\n",
      " 2   Id_Sensor     object\n",
      " 3   Valor_Sensor  object\n",
      " 4   Label         object\n",
      " 5   Log           object\n",
      "dtypes: object(6)\n",
      "memory usage: 78.7+ MB\n"
     ]
    }
   ],
   "source": [
    "colunas = ['Data', 'Hora', 'Id_Sensor', 'Valor_Sensor', 'Label', 'Log']\n",
    "df = pd.read_csv(caminho_original, header=None, sep='\\s+', names=colunas)\n",
    "df.info()"
   ]
  },
  {
   "cell_type": "code",
   "execution_count": 87,
   "metadata": {},
   "outputs": [],
   "source": [
    "df['TimeStamp'] = pd.to_datetime(df['Data']+ \" \" +df['Hora'])"
   ]
  },
  {
   "cell_type": "code",
   "execution_count": 88,
   "metadata": {},
   "outputs": [],
   "source": [
    "df = df[['TimeStamp','Data','Hora','Id_Sensor','Valor_Sensor','Label','Log']]"
   ]
  },
  {
   "cell_type": "code",
   "execution_count": 89,
   "metadata": {},
   "outputs": [
    {
     "name": "stdout",
     "output_type": "stream",
     "text": [
      "<class 'pandas.core.frame.DataFrame'>\n",
      "RangeIndex: 1719558 entries, 0 to 1719557\n",
      "Data columns (total 7 columns):\n",
      " #   Column        Dtype         \n",
      "---  ------        -----         \n",
      " 0   TimeStamp     datetime64[ns]\n",
      " 1   Data          object        \n",
      " 2   Hora          object        \n",
      " 3   Id_Sensor     object        \n",
      " 4   Valor_Sensor  object        \n",
      " 5   Label         object        \n",
      " 6   Log           object        \n",
      "dtypes: datetime64[ns](1), object(6)\n",
      "memory usage: 91.8+ MB\n"
     ]
    }
   ],
   "source": [
    "df.info()"
   ]
  },
  {
   "cell_type": "code",
   "execution_count": 90,
   "metadata": {},
   "outputs": [],
   "source": [
    "df.sort_values(by=['TimeStamp'],ascending=True,inplace=True)"
   ]
  },
  {
   "cell_type": "code",
   "execution_count": 91,
   "metadata": {},
   "outputs": [
    {
     "data": {
      "text/plain": [
       "(1719558, 1719557)"
      ]
     },
     "execution_count": 91,
     "metadata": {},
     "output_type": "execute_result"
    }
   ],
   "source": [
    "len(df), max(df.index)"
   ]
  },
  {
   "cell_type": "markdown",
   "metadata": {},
   "source": [
    "## Remover Inconsistencias\n",
    "\n",
    "O conjunto de celulas na presente tarefa demora mais de 30 minutos para executar devido ao volume de dados."
   ]
  },
  {
   "cell_type": "code",
   "execution_count": 96,
   "metadata": {},
   "outputs": [],
   "source": [
    "flag = False\n",
    "rotulo = ''\n",
    "for x in range(len(df)):\n",
    "    if(df.iloc[x]['Log']=='begin'):\n",
    "        flag = True\n",
    "        rotulo = df.iloc[x]['Label']\n",
    "    if(df.iloc[x]['Log']=='end'):\n",
    "        flag = False\n",
    "    \n",
    "    if(flag and df.iloc[x]['Log'] != 'begin'):\n",
    "        df.iloc[x, df.columns.get_loc('Label')] = rotulo"
   ]
  },
  {
   "cell_type": "code",
   "execution_count": 97,
   "metadata": {},
   "outputs": [],
   "source": [
    "df.loc[df['Label'].isnull(), 'Label'] = 'zzero'"
   ]
  },
  {
   "cell_type": "code",
   "execution_count": 98,
   "metadata": {},
   "outputs": [],
   "source": [
    "flag = False\n",
    "rotulo = 'other'\n",
    "for x in range(len(df)):\n",
    "    if(df.iloc[x, df.columns.get_loc('Label')] == 'zzero'):\n",
    "        if (df.iloc[x-1, df.columns.get_loc('Log')] == 'end'):\n",
    "            df.iloc[x, df.columns.get_loc('Label')] = 'other'"
   ]
  },
  {
   "cell_type": "code",
   "execution_count": 99,
   "metadata": {},
   "outputs": [],
   "source": [
    "df.loc[df['Label'] == 'other', 'Log'] = 'Ubegin'"
   ]
  },
  {
   "cell_type": "markdown",
   "metadata": {},
   "source": [
    "### Remoção de sensor com valor que representa um outlier, o presente sensor não se encontra na planta"
   ]
  },
  {
   "cell_type": "code",
   "execution_count": 101,
   "metadata": {},
   "outputs": [
    {
     "data": {
      "text/html": [
       "<div>\n",
       "<style scoped>\n",
       "    .dataframe tbody tr th:only-of-type {\n",
       "        vertical-align: middle;\n",
       "    }\n",
       "\n",
       "    .dataframe tbody tr th {\n",
       "        vertical-align: top;\n",
       "    }\n",
       "\n",
       "    .dataframe thead th {\n",
       "        text-align: right;\n",
       "    }\n",
       "</style>\n",
       "<table border=\"1\" class=\"dataframe\">\n",
       "  <thead>\n",
       "    <tr style=\"text-align: right;\">\n",
       "      <th></th>\n",
       "      <th>TimeStamp</th>\n",
       "      <th>Data</th>\n",
       "      <th>Hora</th>\n",
       "      <th>Id_Sensor</th>\n",
       "      <th>Valor_Sensor</th>\n",
       "      <th>Label</th>\n",
       "      <th>Log</th>\n",
       "    </tr>\n",
       "  </thead>\n",
       "  <tbody>\n",
       "    <tr>\n",
       "      <th>1530061</th>\n",
       "      <td>2011-05-18 14:12:13.738946</td>\n",
       "      <td>2011-05-18</td>\n",
       "      <td>14:12:13.738946</td>\n",
       "      <td>ENTERHOME</td>\n",
       "      <td>6592</td>\n",
       "      <td>Enter_Home</td>\n",
       "      <td>NaN</td>\n",
       "    </tr>\n",
       "  </tbody>\n",
       "</table>\n",
       "</div>"
      ],
      "text/plain": [
       "                         TimeStamp        Data             Hora  Id_Sensor  \\\n",
       "1530061 2011-05-18 14:12:13.738946  2011-05-18  14:12:13.738946  ENTERHOME   \n",
       "\n",
       "        Valor_Sensor       Label  Log  \n",
       "1530061         6592  Enter_Home  NaN  "
      ]
     },
     "execution_count": 101,
     "metadata": {},
     "output_type": "execute_result"
    }
   ],
   "source": [
    "df[df['Id_Sensor'] == 'ENTERHOME']"
   ]
  },
  {
   "cell_type": "code",
   "execution_count": 58,
   "metadata": {},
   "outputs": [],
   "source": [
    "temp= df[df['Id_Sensor'] == 'ENTERHOME']['TimeStamp'].values[0]"
   ]
  },
  {
   "cell_type": "code",
   "execution_count": 77,
   "metadata": {},
   "outputs": [
    {
     "data": {
      "text/plain": [
       "'43'"
      ]
     },
     "execution_count": 77,
     "metadata": {},
     "output_type": "execute_result"
    }
   ],
   "source": [
    "max(df[df['Id_Sensor'].str[0]=='T']['Valor_Sensor'])"
   ]
  },
  {
   "cell_type": "code",
   "execution_count": 106,
   "metadata": {},
   "outputs": [
    {
     "data": {
      "text/html": [
       "<div>\n",
       "<style scoped>\n",
       "    .dataframe tbody tr th:only-of-type {\n",
       "        vertical-align: middle;\n",
       "    }\n",
       "\n",
       "    .dataframe tbody tr th {\n",
       "        vertical-align: top;\n",
       "    }\n",
       "\n",
       "    .dataframe thead th {\n",
       "        text-align: right;\n",
       "    }\n",
       "</style>\n",
       "<table border=\"1\" class=\"dataframe\">\n",
       "  <thead>\n",
       "    <tr style=\"text-align: right;\">\n",
       "      <th></th>\n",
       "      <th>TimeStamp</th>\n",
       "      <th>Data</th>\n",
       "      <th>Hora</th>\n",
       "      <th>Id_Sensor</th>\n",
       "      <th>Valor_Sensor</th>\n",
       "      <th>Label</th>\n",
       "      <th>Log</th>\n",
       "    </tr>\n",
       "  </thead>\n",
       "  <tbody>\n",
       "    <tr>\n",
       "      <th>1530059</th>\n",
       "      <td>2011-05-18 14:12:12.278942</td>\n",
       "      <td>2011-05-18</td>\n",
       "      <td>14:12:12.278942</td>\n",
       "      <td>D004</td>\n",
       "      <td>OPEN</td>\n",
       "      <td>Enter_Home</td>\n",
       "      <td>begin</td>\n",
       "    </tr>\n",
       "    <tr>\n",
       "      <th>1530060</th>\n",
       "      <td>2011-05-18 14:12:13.376805</td>\n",
       "      <td>2011-05-18</td>\n",
       "      <td>14:12:13.376805</td>\n",
       "      <td>M030</td>\n",
       "      <td>ON</td>\n",
       "      <td>Enter_Home</td>\n",
       "      <td>NaN</td>\n",
       "    </tr>\n",
       "    <tr>\n",
       "      <th>1530061</th>\n",
       "      <td>2011-05-18 14:12:13.738946</td>\n",
       "      <td>2011-05-18</td>\n",
       "      <td>14:12:13.738946</td>\n",
       "      <td>ENTERHOME</td>\n",
       "      <td>6592</td>\n",
       "      <td>Enter_Home</td>\n",
       "      <td>NaN</td>\n",
       "    </tr>\n",
       "    <tr>\n",
       "      <th>1530062</th>\n",
       "      <td>2011-05-18 14:12:15.019207</td>\n",
       "      <td>2011-05-18</td>\n",
       "      <td>14:12:15.019207</td>\n",
       "      <td>M029</td>\n",
       "      <td>ON</td>\n",
       "      <td>Enter_Home</td>\n",
       "      <td>NaN</td>\n",
       "    </tr>\n",
       "    <tr>\n",
       "      <th>1530063</th>\n",
       "      <td>2011-05-18 14:12:18.072472</td>\n",
       "      <td>2011-05-18</td>\n",
       "      <td>14:12:18.072472</td>\n",
       "      <td>M030</td>\n",
       "      <td>OFF</td>\n",
       "      <td>Enter_Home</td>\n",
       "      <td>NaN</td>\n",
       "    </tr>\n",
       "    <tr>\n",
       "      <th>1530064</th>\n",
       "      <td>2011-05-18 14:12:18.157839</td>\n",
       "      <td>2011-05-18</td>\n",
       "      <td>14:12:18.157839</td>\n",
       "      <td>D004</td>\n",
       "      <td>CLOSE</td>\n",
       "      <td>Enter_Home</td>\n",
       "      <td>end</td>\n",
       "    </tr>\n",
       "    <tr>\n",
       "      <th>1530065</th>\n",
       "      <td>2011-05-18 14:12:18.266487</td>\n",
       "      <td>2011-05-18</td>\n",
       "      <td>14:12:18.266487</td>\n",
       "      <td>M028</td>\n",
       "      <td>ON</td>\n",
       "      <td>other</td>\n",
       "      <td>Ubegin</td>\n",
       "    </tr>\n",
       "  </tbody>\n",
       "</table>\n",
       "</div>"
      ],
      "text/plain": [
       "                         TimeStamp        Data             Hora  Id_Sensor  \\\n",
       "1530059 2011-05-18 14:12:12.278942  2011-05-18  14:12:12.278942       D004   \n",
       "1530060 2011-05-18 14:12:13.376805  2011-05-18  14:12:13.376805       M030   \n",
       "1530061 2011-05-18 14:12:13.738946  2011-05-18  14:12:13.738946  ENTERHOME   \n",
       "1530062 2011-05-18 14:12:15.019207  2011-05-18  14:12:15.019207       M029   \n",
       "1530063 2011-05-18 14:12:18.072472  2011-05-18  14:12:18.072472       M030   \n",
       "1530064 2011-05-18 14:12:18.157839  2011-05-18  14:12:18.157839       D004   \n",
       "1530065 2011-05-18 14:12:18.266487  2011-05-18  14:12:18.266487       M028   \n",
       "\n",
       "        Valor_Sensor       Label     Log  \n",
       "1530059         OPEN  Enter_Home   begin  \n",
       "1530060           ON  Enter_Home     NaN  \n",
       "1530061         6592  Enter_Home     NaN  \n",
       "1530062           ON  Enter_Home     NaN  \n",
       "1530063          OFF  Enter_Home     NaN  \n",
       "1530064        CLOSE  Enter_Home     end  \n",
       "1530065           ON       other  Ubegin  "
      ]
     },
     "execution_count": 106,
     "metadata": {},
     "output_type": "execute_result"
    }
   ],
   "source": [
    "df[(df['TimeStamp'] > temp-pd.Timedelta('5 sec')) & (df['TimeStamp'] < temp+pd.Timedelta('5 sec'))]"
   ]
  },
  {
   "cell_type": "code",
   "execution_count": 107,
   "metadata": {},
   "outputs": [
    {
     "data": {
      "text/html": [
       "<div>\n",
       "<style scoped>\n",
       "    .dataframe tbody tr th:only-of-type {\n",
       "        vertical-align: middle;\n",
       "    }\n",
       "\n",
       "    .dataframe tbody tr th {\n",
       "        vertical-align: top;\n",
       "    }\n",
       "\n",
       "    .dataframe thead th {\n",
       "        text-align: right;\n",
       "    }\n",
       "</style>\n",
       "<table border=\"1\" class=\"dataframe\">\n",
       "  <thead>\n",
       "    <tr style=\"text-align: right;\">\n",
       "      <th></th>\n",
       "      <th>TimeStamp</th>\n",
       "      <th>Data</th>\n",
       "      <th>Hora</th>\n",
       "      <th>Id_Sensor</th>\n",
       "      <th>Valor_Sensor</th>\n",
       "      <th>Label</th>\n",
       "      <th>Log</th>\n",
       "    </tr>\n",
       "  </thead>\n",
       "  <tbody>\n",
       "    <tr>\n",
       "      <th>1685541</th>\n",
       "      <td>2011-06-07 12:55:53.954734</td>\n",
       "      <td>2011-06-07</td>\n",
       "      <td>12:55:53.954734</td>\n",
       "      <td>M030</td>\n",
       "      <td>OFF</td>\n",
       "      <td>Enter_Home</td>\n",
       "      <td>NaN</td>\n",
       "    </tr>\n",
       "    <tr>\n",
       "      <th>1685542</th>\n",
       "      <td>2011-06-07 12:55:54.555560</td>\n",
       "      <td>2011-06-07</td>\n",
       "      <td>12:55:54.55556</td>\n",
       "      <td>M029</td>\n",
       "      <td>ON</td>\n",
       "      <td>Enter_Home</td>\n",
       "      <td>NaN</td>\n",
       "    </tr>\n",
       "    <tr>\n",
       "      <th>1685543</th>\n",
       "      <td>2011-06-07 12:55:56.467248</td>\n",
       "      <td>2011-06-07</td>\n",
       "      <td>12:55:56.467248</td>\n",
       "      <td>D004</td>\n",
       "      <td>CLOSE</td>\n",
       "      <td>Enter_Home</td>\n",
       "      <td>end</td>\n",
       "    </tr>\n",
       "    <tr>\n",
       "      <th>1686178</th>\n",
       "      <td>2011-06-07 15:09:09.192105</td>\n",
       "      <td>2011-06-07</td>\n",
       "      <td>15:09:09.192105</td>\n",
       "      <td>D004</td>\n",
       "      <td>OPEN</td>\n",
       "      <td>Enter_Home</td>\n",
       "      <td>begin</td>\n",
       "    </tr>\n",
       "    <tr>\n",
       "      <th>1686179</th>\n",
       "      <td>2011-06-07 15:09:10.112987</td>\n",
       "      <td>2011-06-07</td>\n",
       "      <td>15:09:10.112987</td>\n",
       "      <td>M030</td>\n",
       "      <td>ON</td>\n",
       "      <td>Enter_Home</td>\n",
       "      <td>NaN</td>\n",
       "    </tr>\n",
       "    <tr>\n",
       "      <th>1686180</th>\n",
       "      <td>2011-06-07 15:09:15.339567</td>\n",
       "      <td>2011-06-07</td>\n",
       "      <td>15:09:15.339567</td>\n",
       "      <td>M030</td>\n",
       "      <td>OFF</td>\n",
       "      <td>Enter_Home</td>\n",
       "      <td>NaN</td>\n",
       "    </tr>\n",
       "    <tr>\n",
       "      <th>1686181</th>\n",
       "      <td>2011-06-07 15:09:20.552610</td>\n",
       "      <td>2011-06-07</td>\n",
       "      <td>15:09:20.55261</td>\n",
       "      <td>M030</td>\n",
       "      <td>ON</td>\n",
       "      <td>Enter_Home</td>\n",
       "      <td>NaN</td>\n",
       "    </tr>\n",
       "    <tr>\n",
       "      <th>1686182</th>\n",
       "      <td>2011-06-07 15:09:24.660303</td>\n",
       "      <td>2011-06-07</td>\n",
       "      <td>15:09:24.660303</td>\n",
       "      <td>M029</td>\n",
       "      <td>ON</td>\n",
       "      <td>Enter_Home</td>\n",
       "      <td>NaN</td>\n",
       "    </tr>\n",
       "    <tr>\n",
       "      <th>1686183</th>\n",
       "      <td>2011-06-07 15:09:25.722928</td>\n",
       "      <td>2011-06-07</td>\n",
       "      <td>15:09:25.722928</td>\n",
       "      <td>M028</td>\n",
       "      <td>ON</td>\n",
       "      <td>Enter_Home</td>\n",
       "      <td>NaN</td>\n",
       "    </tr>\n",
       "    <tr>\n",
       "      <th>1686184</th>\n",
       "      <td>2011-06-07 15:09:26.772919</td>\n",
       "      <td>2011-06-07</td>\n",
       "      <td>15:09:26.772919</td>\n",
       "      <td>M022</td>\n",
       "      <td>ON</td>\n",
       "      <td>Enter_Home</td>\n",
       "      <td>NaN</td>\n",
       "    </tr>\n",
       "    <tr>\n",
       "      <th>1686185</th>\n",
       "      <td>2011-06-07 15:09:27.156153</td>\n",
       "      <td>2011-06-07</td>\n",
       "      <td>15:09:27.156153</td>\n",
       "      <td>M030</td>\n",
       "      <td>OFF</td>\n",
       "      <td>Enter_Home</td>\n",
       "      <td>NaN</td>\n",
       "    </tr>\n",
       "    <tr>\n",
       "      <th>1686186</th>\n",
       "      <td>2011-06-07 15:09:27.783371</td>\n",
       "      <td>2011-06-07</td>\n",
       "      <td>15:09:27.783371</td>\n",
       "      <td>M028</td>\n",
       "      <td>OFF</td>\n",
       "      <td>Enter_Home</td>\n",
       "      <td>NaN</td>\n",
       "    </tr>\n",
       "    <tr>\n",
       "      <th>1686187</th>\n",
       "      <td>2011-06-07 15:09:28.164709</td>\n",
       "      <td>2011-06-07</td>\n",
       "      <td>15:09:28.164709</td>\n",
       "      <td>D004</td>\n",
       "      <td>CLOSE</td>\n",
       "      <td>Enter_Home</td>\n",
       "      <td>end</td>\n",
       "    </tr>\n",
       "    <tr>\n",
       "      <th>1688502</th>\n",
       "      <td>2011-06-07 18:53:40.862386</td>\n",
       "      <td>2011-06-07</td>\n",
       "      <td>18:53:40.862386</td>\n",
       "      <td>D004</td>\n",
       "      <td>OPEN</td>\n",
       "      <td>Enter_Home</td>\n",
       "      <td>begin</td>\n",
       "    </tr>\n",
       "    <tr>\n",
       "      <th>1688503</th>\n",
       "      <td>2011-06-07 18:53:41.293911</td>\n",
       "      <td>2011-06-07</td>\n",
       "      <td>18:53:41.293911</td>\n",
       "      <td>M030</td>\n",
       "      <td>ON</td>\n",
       "      <td>Enter_Home</td>\n",
       "      <td>NaN</td>\n",
       "    </tr>\n",
       "    <tr>\n",
       "      <th>1688504</th>\n",
       "      <td>2011-06-07 18:53:43.724190</td>\n",
       "      <td>2011-06-07</td>\n",
       "      <td>18:53:43.72419</td>\n",
       "      <td>M029</td>\n",
       "      <td>ON</td>\n",
       "      <td>Enter_Home</td>\n",
       "      <td>NaN</td>\n",
       "    </tr>\n",
       "    <tr>\n",
       "      <th>1688505</th>\n",
       "      <td>2011-06-07 18:53:44.666893</td>\n",
       "      <td>2011-06-07</td>\n",
       "      <td>18:53:44.666893</td>\n",
       "      <td>M030</td>\n",
       "      <td>OFF</td>\n",
       "      <td>Enter_Home</td>\n",
       "      <td>NaN</td>\n",
       "    </tr>\n",
       "    <tr>\n",
       "      <th>1688506</th>\n",
       "      <td>2011-06-07 18:53:45.505182</td>\n",
       "      <td>2011-06-07</td>\n",
       "      <td>18:53:45.505182</td>\n",
       "      <td>D004</td>\n",
       "      <td>CLOSE</td>\n",
       "      <td>Enter_Home</td>\n",
       "      <td>end</td>\n",
       "    </tr>\n",
       "    <tr>\n",
       "      <th>1694611</th>\n",
       "      <td>2011-06-08 13:40:53.273731</td>\n",
       "      <td>2011-06-08</td>\n",
       "      <td>13:40:53.273731</td>\n",
       "      <td>D004</td>\n",
       "      <td>OPEN</td>\n",
       "      <td>Enter_Home</td>\n",
       "      <td>begin</td>\n",
       "    </tr>\n",
       "    <tr>\n",
       "      <th>1694612</th>\n",
       "      <td>2011-06-08 13:40:53.899409</td>\n",
       "      <td>2011-06-08</td>\n",
       "      <td>13:40:53.899409</td>\n",
       "      <td>M030</td>\n",
       "      <td>ON</td>\n",
       "      <td>Enter_Home</td>\n",
       "      <td>NaN</td>\n",
       "    </tr>\n",
       "    <tr>\n",
       "      <th>1694613</th>\n",
       "      <td>2011-06-08 13:40:57.043534</td>\n",
       "      <td>2011-06-08</td>\n",
       "      <td>13:40:57.043534</td>\n",
       "      <td>M030</td>\n",
       "      <td>OFF</td>\n",
       "      <td>Enter_Home</td>\n",
       "      <td>NaN</td>\n",
       "    </tr>\n",
       "    <tr>\n",
       "      <th>1694614</th>\n",
       "      <td>2011-06-08 13:40:58.345734</td>\n",
       "      <td>2011-06-08</td>\n",
       "      <td>13:40:58.345734</td>\n",
       "      <td>D004</td>\n",
       "      <td>CLOSE</td>\n",
       "      <td>Enter_Home</td>\n",
       "      <td>end</td>\n",
       "    </tr>\n",
       "    <tr>\n",
       "      <th>1695837</th>\n",
       "      <td>2011-06-08 16:34:38.607574</td>\n",
       "      <td>2011-06-08</td>\n",
       "      <td>16:34:38.607574</td>\n",
       "      <td>D004</td>\n",
       "      <td>OPEN</td>\n",
       "      <td>Enter_Home</td>\n",
       "      <td>begin</td>\n",
       "    </tr>\n",
       "    <tr>\n",
       "      <th>1695838</th>\n",
       "      <td>2011-06-08 16:34:39.918700</td>\n",
       "      <td>2011-06-08</td>\n",
       "      <td>16:34:39.9187</td>\n",
       "      <td>M030</td>\n",
       "      <td>ON</td>\n",
       "      <td>Enter_Home</td>\n",
       "      <td>NaN</td>\n",
       "    </tr>\n",
       "    <tr>\n",
       "      <th>1695839</th>\n",
       "      <td>2011-06-08 16:34:41.941732</td>\n",
       "      <td>2011-06-08</td>\n",
       "      <td>16:34:41.941732</td>\n",
       "      <td>M030</td>\n",
       "      <td>OFF</td>\n",
       "      <td>Enter_Home</td>\n",
       "      <td>NaN</td>\n",
       "    </tr>\n",
       "    <tr>\n",
       "      <th>1695840</th>\n",
       "      <td>2011-06-08 16:34:43.679483</td>\n",
       "      <td>2011-06-08</td>\n",
       "      <td>16:34:43.679483</td>\n",
       "      <td>D004</td>\n",
       "      <td>CLOSE</td>\n",
       "      <td>Enter_Home</td>\n",
       "      <td>end</td>\n",
       "    </tr>\n",
       "    <tr>\n",
       "      <th>1700817</th>\n",
       "      <td>2011-06-09 11:37:54.933543</td>\n",
       "      <td>2011-06-09</td>\n",
       "      <td>11:37:54.933543</td>\n",
       "      <td>D004</td>\n",
       "      <td>OPEN</td>\n",
       "      <td>Enter_Home</td>\n",
       "      <td>begin</td>\n",
       "    </tr>\n",
       "    <tr>\n",
       "      <th>1700818</th>\n",
       "      <td>2011-06-09 11:37:55.312994</td>\n",
       "      <td>2011-06-09</td>\n",
       "      <td>11:37:55.312994</td>\n",
       "      <td>M030</td>\n",
       "      <td>ON</td>\n",
       "      <td>Enter_Home</td>\n",
       "      <td>NaN</td>\n",
       "    </tr>\n",
       "    <tr>\n",
       "      <th>1700819</th>\n",
       "      <td>2011-06-09 11:37:59.142308</td>\n",
       "      <td>2011-06-09</td>\n",
       "      <td>11:37:59.142308</td>\n",
       "      <td>D004</td>\n",
       "      <td>CLOSE</td>\n",
       "      <td>Enter_Home</td>\n",
       "      <td>end</td>\n",
       "    </tr>\n",
       "    <tr>\n",
       "      <th>1701969</th>\n",
       "      <td>2011-06-09 14:53:49.914775</td>\n",
       "      <td>2011-06-09</td>\n",
       "      <td>14:53:49.914775</td>\n",
       "      <td>D004</td>\n",
       "      <td>OPEN</td>\n",
       "      <td>Enter_Home</td>\n",
       "      <td>begin</td>\n",
       "    </tr>\n",
       "    <tr>\n",
       "      <th>1701970</th>\n",
       "      <td>2011-06-09 14:53:50.725784</td>\n",
       "      <td>2011-06-09</td>\n",
       "      <td>14:53:50.725784</td>\n",
       "      <td>M030</td>\n",
       "      <td>ON</td>\n",
       "      <td>Enter_Home</td>\n",
       "      <td>NaN</td>\n",
       "    </tr>\n",
       "    <tr>\n",
       "      <th>1701971</th>\n",
       "      <td>2011-06-09 14:53:52.464413</td>\n",
       "      <td>2011-06-09</td>\n",
       "      <td>14:53:52.464413</td>\n",
       "      <td>M030</td>\n",
       "      <td>OFF</td>\n",
       "      <td>Enter_Home</td>\n",
       "      <td>NaN</td>\n",
       "    </tr>\n",
       "    <tr>\n",
       "      <th>1701972</th>\n",
       "      <td>2011-06-09 14:53:52.846282</td>\n",
       "      <td>2011-06-09</td>\n",
       "      <td>14:53:52.846282</td>\n",
       "      <td>M029</td>\n",
       "      <td>ON</td>\n",
       "      <td>Enter_Home</td>\n",
       "      <td>NaN</td>\n",
       "    </tr>\n",
       "    <tr>\n",
       "      <th>1701973</th>\n",
       "      <td>2011-06-09 14:53:54.589217</td>\n",
       "      <td>2011-06-09</td>\n",
       "      <td>14:53:54.589217</td>\n",
       "      <td>D004</td>\n",
       "      <td>CLOSE</td>\n",
       "      <td>Enter_Home</td>\n",
       "      <td>end</td>\n",
       "    </tr>\n",
       "    <tr>\n",
       "      <th>1702863</th>\n",
       "      <td>2011-06-09 17:56:31.139752</td>\n",
       "      <td>2011-06-09</td>\n",
       "      <td>17:56:31.139752</td>\n",
       "      <td>D004</td>\n",
       "      <td>OPEN</td>\n",
       "      <td>Enter_Home</td>\n",
       "      <td>begin</td>\n",
       "    </tr>\n",
       "    <tr>\n",
       "      <th>1702864</th>\n",
       "      <td>2011-06-09 17:56:31.522465</td>\n",
       "      <td>2011-06-09</td>\n",
       "      <td>17:56:31.522465</td>\n",
       "      <td>M030</td>\n",
       "      <td>ON</td>\n",
       "      <td>Enter_Home</td>\n",
       "      <td>NaN</td>\n",
       "    </tr>\n",
       "    <tr>\n",
       "      <th>1702865</th>\n",
       "      <td>2011-06-09 17:56:33.951540</td>\n",
       "      <td>2011-06-09</td>\n",
       "      <td>17:56:33.95154</td>\n",
       "      <td>M029</td>\n",
       "      <td>ON</td>\n",
       "      <td>Enter_Home</td>\n",
       "      <td>NaN</td>\n",
       "    </tr>\n",
       "    <tr>\n",
       "      <th>1702866</th>\n",
       "      <td>2011-06-09 17:56:36.299662</td>\n",
       "      <td>2011-06-09</td>\n",
       "      <td>17:56:36.299662</td>\n",
       "      <td>M030</td>\n",
       "      <td>OFF</td>\n",
       "      <td>Enter_Home</td>\n",
       "      <td>NaN</td>\n",
       "    </tr>\n",
       "    <tr>\n",
       "      <th>1702867</th>\n",
       "      <td>2011-06-09 17:56:36.382007</td>\n",
       "      <td>2011-06-09</td>\n",
       "      <td>17:56:36.382007</td>\n",
       "      <td>D004</td>\n",
       "      <td>CLOSE</td>\n",
       "      <td>Enter_Home</td>\n",
       "      <td>end</td>\n",
       "    </tr>\n",
       "    <tr>\n",
       "      <th>1703366</th>\n",
       "      <td>2011-06-09 21:17:51.239682</td>\n",
       "      <td>2011-06-09</td>\n",
       "      <td>21:17:51.239682</td>\n",
       "      <td>D004</td>\n",
       "      <td>OPEN</td>\n",
       "      <td>Enter_Home</td>\n",
       "      <td>begin</td>\n",
       "    </tr>\n",
       "    <tr>\n",
       "      <th>1703367</th>\n",
       "      <td>2011-06-09 21:17:51.615039</td>\n",
       "      <td>2011-06-09</td>\n",
       "      <td>21:17:51.615039</td>\n",
       "      <td>M030</td>\n",
       "      <td>ON</td>\n",
       "      <td>Enter_Home</td>\n",
       "      <td>NaN</td>\n",
       "    </tr>\n",
       "    <tr>\n",
       "      <th>1703368</th>\n",
       "      <td>2011-06-09 21:17:54.499163</td>\n",
       "      <td>2011-06-09</td>\n",
       "      <td>21:17:54.499163</td>\n",
       "      <td>M029</td>\n",
       "      <td>ON</td>\n",
       "      <td>Enter_Home</td>\n",
       "      <td>NaN</td>\n",
       "    </tr>\n",
       "    <tr>\n",
       "      <th>1703369</th>\n",
       "      <td>2011-06-09 21:17:54.890486</td>\n",
       "      <td>2011-06-09</td>\n",
       "      <td>21:17:54.890486</td>\n",
       "      <td>M030</td>\n",
       "      <td>OFF</td>\n",
       "      <td>Enter_Home</td>\n",
       "      <td>NaN</td>\n",
       "    </tr>\n",
       "    <tr>\n",
       "      <th>1703370</th>\n",
       "      <td>2011-06-09 21:17:56.094785</td>\n",
       "      <td>2011-06-09</td>\n",
       "      <td>21:17:56.094785</td>\n",
       "      <td>D004</td>\n",
       "      <td>CLOSE</td>\n",
       "      <td>Enter_Home</td>\n",
       "      <td>end</td>\n",
       "    </tr>\n",
       "    <tr>\n",
       "      <th>1703386</th>\n",
       "      <td>2011-06-09 21:21:35.632376</td>\n",
       "      <td>2011-06-09</td>\n",
       "      <td>21:21:35.632376</td>\n",
       "      <td>D004</td>\n",
       "      <td>OPEN</td>\n",
       "      <td>Enter_Home</td>\n",
       "      <td>begin</td>\n",
       "    </tr>\n",
       "    <tr>\n",
       "      <th>1703387</th>\n",
       "      <td>2011-06-09 21:21:36.684255</td>\n",
       "      <td>2011-06-09</td>\n",
       "      <td>21:21:36.684255</td>\n",
       "      <td>M030</td>\n",
       "      <td>ON</td>\n",
       "      <td>Enter_Home</td>\n",
       "      <td>NaN</td>\n",
       "    </tr>\n",
       "    <tr>\n",
       "      <th>1703388</th>\n",
       "      <td>2011-06-09 21:21:39.931920</td>\n",
       "      <td>2011-06-09</td>\n",
       "      <td>21:21:39.93192</td>\n",
       "      <td>M030</td>\n",
       "      <td>OFF</td>\n",
       "      <td>Enter_Home</td>\n",
       "      <td>NaN</td>\n",
       "    </tr>\n",
       "    <tr>\n",
       "      <th>1703389</th>\n",
       "      <td>2011-06-09 21:21:42.391909</td>\n",
       "      <td>2011-06-09</td>\n",
       "      <td>21:21:42.391909</td>\n",
       "      <td>M030</td>\n",
       "      <td>ON</td>\n",
       "      <td>Enter_Home</td>\n",
       "      <td>NaN</td>\n",
       "    </tr>\n",
       "    <tr>\n",
       "      <th>1703390</th>\n",
       "      <td>2011-06-09 21:21:55.346920</td>\n",
       "      <td>2011-06-09</td>\n",
       "      <td>21:21:55.34692</td>\n",
       "      <td>M030</td>\n",
       "      <td>OFF</td>\n",
       "      <td>Enter_Home</td>\n",
       "      <td>NaN</td>\n",
       "    </tr>\n",
       "    <tr>\n",
       "      <th>1703391</th>\n",
       "      <td>2011-06-09 21:21:55.445189</td>\n",
       "      <td>2011-06-09</td>\n",
       "      <td>21:21:55.445189</td>\n",
       "      <td>T003</td>\n",
       "      <td>24</td>\n",
       "      <td>Enter_Home</td>\n",
       "      <td>NaN</td>\n",
       "    </tr>\n",
       "    <tr>\n",
       "      <th>1703392</th>\n",
       "      <td>2011-06-09 21:21:56.278267</td>\n",
       "      <td>2011-06-09</td>\n",
       "      <td>21:21:56.278267</td>\n",
       "      <td>D004</td>\n",
       "      <td>CLOSE</td>\n",
       "      <td>Enter_Home</td>\n",
       "      <td>end</td>\n",
       "    </tr>\n",
       "    <tr>\n",
       "      <th>1705709</th>\n",
       "      <td>2011-06-10 10:02:01.981027</td>\n",
       "      <td>2011-06-10</td>\n",
       "      <td>10:02:01.981027</td>\n",
       "      <td>D004</td>\n",
       "      <td>OPEN</td>\n",
       "      <td>Enter_Home</td>\n",
       "      <td>begin</td>\n",
       "    </tr>\n",
       "    <tr>\n",
       "      <th>1705710</th>\n",
       "      <td>2011-06-10 10:02:02.581358</td>\n",
       "      <td>2011-06-10</td>\n",
       "      <td>10:02:02.581358</td>\n",
       "      <td>M030</td>\n",
       "      <td>ON</td>\n",
       "      <td>Enter_Home</td>\n",
       "      <td>NaN</td>\n",
       "    </tr>\n",
       "    <tr>\n",
       "      <th>1705711</th>\n",
       "      <td>2011-06-10 10:02:06.428311</td>\n",
       "      <td>2011-06-10</td>\n",
       "      <td>10:02:06.428311</td>\n",
       "      <td>M030</td>\n",
       "      <td>OFF</td>\n",
       "      <td>Enter_Home</td>\n",
       "      <td>NaN</td>\n",
       "    </tr>\n",
       "    <tr>\n",
       "      <th>1705712</th>\n",
       "      <td>2011-06-10 10:02:07.057770</td>\n",
       "      <td>2011-06-10</td>\n",
       "      <td>10:02:07.05777</td>\n",
       "      <td>D004</td>\n",
       "      <td>CLOSE</td>\n",
       "      <td>Enter_Home</td>\n",
       "      <td>end</td>\n",
       "    </tr>\n",
       "    <tr>\n",
       "      <th>1705970</th>\n",
       "      <td>2011-06-10 15:45:55.713285</td>\n",
       "      <td>2011-06-10</td>\n",
       "      <td>15:45:55.713285</td>\n",
       "      <td>D004</td>\n",
       "      <td>OPEN</td>\n",
       "      <td>Enter_Home</td>\n",
       "      <td>begin</td>\n",
       "    </tr>\n",
       "    <tr>\n",
       "      <th>1705971</th>\n",
       "      <td>2011-06-10 15:45:56.311602</td>\n",
       "      <td>2011-06-10</td>\n",
       "      <td>15:45:56.311602</td>\n",
       "      <td>M030</td>\n",
       "      <td>ON</td>\n",
       "      <td>Enter_Home</td>\n",
       "      <td>NaN</td>\n",
       "    </tr>\n",
       "    <tr>\n",
       "      <th>1705972</th>\n",
       "      <td>2011-06-10 15:45:59.964622</td>\n",
       "      <td>2011-06-10</td>\n",
       "      <td>15:45:59.964622</td>\n",
       "      <td>M029</td>\n",
       "      <td>ON</td>\n",
       "      <td>Enter_Home</td>\n",
       "      <td>NaN</td>\n",
       "    </tr>\n",
       "    <tr>\n",
       "      <th>1705973</th>\n",
       "      <td>2011-06-10 15:46:01.619224</td>\n",
       "      <td>2011-06-10</td>\n",
       "      <td>15:46:01.619224</td>\n",
       "      <td>M030</td>\n",
       "      <td>OFF</td>\n",
       "      <td>Enter_Home</td>\n",
       "      <td>NaN</td>\n",
       "    </tr>\n",
       "    <tr>\n",
       "      <th>1705974</th>\n",
       "      <td>2011-06-10 15:46:01.693132</td>\n",
       "      <td>2011-06-10</td>\n",
       "      <td>15:46:01.693132</td>\n",
       "      <td>D004</td>\n",
       "      <td>CLOSE</td>\n",
       "      <td>Enter_Home</td>\n",
       "      <td>end</td>\n",
       "    </tr>\n",
       "  </tbody>\n",
       "</table>\n",
       "</div>"
      ],
      "text/plain": [
       "                         TimeStamp        Data             Hora Id_Sensor  \\\n",
       "1685541 2011-06-07 12:55:53.954734  2011-06-07  12:55:53.954734      M030   \n",
       "1685542 2011-06-07 12:55:54.555560  2011-06-07   12:55:54.55556      M029   \n",
       "1685543 2011-06-07 12:55:56.467248  2011-06-07  12:55:56.467248      D004   \n",
       "1686178 2011-06-07 15:09:09.192105  2011-06-07  15:09:09.192105      D004   \n",
       "1686179 2011-06-07 15:09:10.112987  2011-06-07  15:09:10.112987      M030   \n",
       "1686180 2011-06-07 15:09:15.339567  2011-06-07  15:09:15.339567      M030   \n",
       "1686181 2011-06-07 15:09:20.552610  2011-06-07   15:09:20.55261      M030   \n",
       "1686182 2011-06-07 15:09:24.660303  2011-06-07  15:09:24.660303      M029   \n",
       "1686183 2011-06-07 15:09:25.722928  2011-06-07  15:09:25.722928      M028   \n",
       "1686184 2011-06-07 15:09:26.772919  2011-06-07  15:09:26.772919      M022   \n",
       "1686185 2011-06-07 15:09:27.156153  2011-06-07  15:09:27.156153      M030   \n",
       "1686186 2011-06-07 15:09:27.783371  2011-06-07  15:09:27.783371      M028   \n",
       "1686187 2011-06-07 15:09:28.164709  2011-06-07  15:09:28.164709      D004   \n",
       "1688502 2011-06-07 18:53:40.862386  2011-06-07  18:53:40.862386      D004   \n",
       "1688503 2011-06-07 18:53:41.293911  2011-06-07  18:53:41.293911      M030   \n",
       "1688504 2011-06-07 18:53:43.724190  2011-06-07   18:53:43.72419      M029   \n",
       "1688505 2011-06-07 18:53:44.666893  2011-06-07  18:53:44.666893      M030   \n",
       "1688506 2011-06-07 18:53:45.505182  2011-06-07  18:53:45.505182      D004   \n",
       "1694611 2011-06-08 13:40:53.273731  2011-06-08  13:40:53.273731      D004   \n",
       "1694612 2011-06-08 13:40:53.899409  2011-06-08  13:40:53.899409      M030   \n",
       "1694613 2011-06-08 13:40:57.043534  2011-06-08  13:40:57.043534      M030   \n",
       "1694614 2011-06-08 13:40:58.345734  2011-06-08  13:40:58.345734      D004   \n",
       "1695837 2011-06-08 16:34:38.607574  2011-06-08  16:34:38.607574      D004   \n",
       "1695838 2011-06-08 16:34:39.918700  2011-06-08    16:34:39.9187      M030   \n",
       "1695839 2011-06-08 16:34:41.941732  2011-06-08  16:34:41.941732      M030   \n",
       "1695840 2011-06-08 16:34:43.679483  2011-06-08  16:34:43.679483      D004   \n",
       "1700817 2011-06-09 11:37:54.933543  2011-06-09  11:37:54.933543      D004   \n",
       "1700818 2011-06-09 11:37:55.312994  2011-06-09  11:37:55.312994      M030   \n",
       "1700819 2011-06-09 11:37:59.142308  2011-06-09  11:37:59.142308      D004   \n",
       "1701969 2011-06-09 14:53:49.914775  2011-06-09  14:53:49.914775      D004   \n",
       "1701970 2011-06-09 14:53:50.725784  2011-06-09  14:53:50.725784      M030   \n",
       "1701971 2011-06-09 14:53:52.464413  2011-06-09  14:53:52.464413      M030   \n",
       "1701972 2011-06-09 14:53:52.846282  2011-06-09  14:53:52.846282      M029   \n",
       "1701973 2011-06-09 14:53:54.589217  2011-06-09  14:53:54.589217      D004   \n",
       "1702863 2011-06-09 17:56:31.139752  2011-06-09  17:56:31.139752      D004   \n",
       "1702864 2011-06-09 17:56:31.522465  2011-06-09  17:56:31.522465      M030   \n",
       "1702865 2011-06-09 17:56:33.951540  2011-06-09   17:56:33.95154      M029   \n",
       "1702866 2011-06-09 17:56:36.299662  2011-06-09  17:56:36.299662      M030   \n",
       "1702867 2011-06-09 17:56:36.382007  2011-06-09  17:56:36.382007      D004   \n",
       "1703366 2011-06-09 21:17:51.239682  2011-06-09  21:17:51.239682      D004   \n",
       "1703367 2011-06-09 21:17:51.615039  2011-06-09  21:17:51.615039      M030   \n",
       "1703368 2011-06-09 21:17:54.499163  2011-06-09  21:17:54.499163      M029   \n",
       "1703369 2011-06-09 21:17:54.890486  2011-06-09  21:17:54.890486      M030   \n",
       "1703370 2011-06-09 21:17:56.094785  2011-06-09  21:17:56.094785      D004   \n",
       "1703386 2011-06-09 21:21:35.632376  2011-06-09  21:21:35.632376      D004   \n",
       "1703387 2011-06-09 21:21:36.684255  2011-06-09  21:21:36.684255      M030   \n",
       "1703388 2011-06-09 21:21:39.931920  2011-06-09   21:21:39.93192      M030   \n",
       "1703389 2011-06-09 21:21:42.391909  2011-06-09  21:21:42.391909      M030   \n",
       "1703390 2011-06-09 21:21:55.346920  2011-06-09   21:21:55.34692      M030   \n",
       "1703391 2011-06-09 21:21:55.445189  2011-06-09  21:21:55.445189      T003   \n",
       "1703392 2011-06-09 21:21:56.278267  2011-06-09  21:21:56.278267      D004   \n",
       "1705709 2011-06-10 10:02:01.981027  2011-06-10  10:02:01.981027      D004   \n",
       "1705710 2011-06-10 10:02:02.581358  2011-06-10  10:02:02.581358      M030   \n",
       "1705711 2011-06-10 10:02:06.428311  2011-06-10  10:02:06.428311      M030   \n",
       "1705712 2011-06-10 10:02:07.057770  2011-06-10   10:02:07.05777      D004   \n",
       "1705970 2011-06-10 15:45:55.713285  2011-06-10  15:45:55.713285      D004   \n",
       "1705971 2011-06-10 15:45:56.311602  2011-06-10  15:45:56.311602      M030   \n",
       "1705972 2011-06-10 15:45:59.964622  2011-06-10  15:45:59.964622      M029   \n",
       "1705973 2011-06-10 15:46:01.619224  2011-06-10  15:46:01.619224      M030   \n",
       "1705974 2011-06-10 15:46:01.693132  2011-06-10  15:46:01.693132      D004   \n",
       "\n",
       "        Valor_Sensor       Label    Log  \n",
       "1685541          OFF  Enter_Home    NaN  \n",
       "1685542           ON  Enter_Home    NaN  \n",
       "1685543        CLOSE  Enter_Home    end  \n",
       "1686178         OPEN  Enter_Home  begin  \n",
       "1686179           ON  Enter_Home    NaN  \n",
       "1686180          OFF  Enter_Home    NaN  \n",
       "1686181           ON  Enter_Home    NaN  \n",
       "1686182           ON  Enter_Home    NaN  \n",
       "1686183           ON  Enter_Home    NaN  \n",
       "1686184           ON  Enter_Home    NaN  \n",
       "1686185          OFF  Enter_Home    NaN  \n",
       "1686186          OFF  Enter_Home    NaN  \n",
       "1686187        CLOSE  Enter_Home    end  \n",
       "1688502         OPEN  Enter_Home  begin  \n",
       "1688503           ON  Enter_Home    NaN  \n",
       "1688504           ON  Enter_Home    NaN  \n",
       "1688505          OFF  Enter_Home    NaN  \n",
       "1688506        CLOSE  Enter_Home    end  \n",
       "1694611         OPEN  Enter_Home  begin  \n",
       "1694612           ON  Enter_Home    NaN  \n",
       "1694613          OFF  Enter_Home    NaN  \n",
       "1694614        CLOSE  Enter_Home    end  \n",
       "1695837         OPEN  Enter_Home  begin  \n",
       "1695838           ON  Enter_Home    NaN  \n",
       "1695839          OFF  Enter_Home    NaN  \n",
       "1695840        CLOSE  Enter_Home    end  \n",
       "1700817         OPEN  Enter_Home  begin  \n",
       "1700818           ON  Enter_Home    NaN  \n",
       "1700819        CLOSE  Enter_Home    end  \n",
       "1701969         OPEN  Enter_Home  begin  \n",
       "1701970           ON  Enter_Home    NaN  \n",
       "1701971          OFF  Enter_Home    NaN  \n",
       "1701972           ON  Enter_Home    NaN  \n",
       "1701973        CLOSE  Enter_Home    end  \n",
       "1702863         OPEN  Enter_Home  begin  \n",
       "1702864           ON  Enter_Home    NaN  \n",
       "1702865           ON  Enter_Home    NaN  \n",
       "1702866          OFF  Enter_Home    NaN  \n",
       "1702867        CLOSE  Enter_Home    end  \n",
       "1703366         OPEN  Enter_Home  begin  \n",
       "1703367           ON  Enter_Home    NaN  \n",
       "1703368           ON  Enter_Home    NaN  \n",
       "1703369          OFF  Enter_Home    NaN  \n",
       "1703370        CLOSE  Enter_Home    end  \n",
       "1703386         OPEN  Enter_Home  begin  \n",
       "1703387           ON  Enter_Home    NaN  \n",
       "1703388          OFF  Enter_Home    NaN  \n",
       "1703389           ON  Enter_Home    NaN  \n",
       "1703390          OFF  Enter_Home    NaN  \n",
       "1703391           24  Enter_Home    NaN  \n",
       "1703392        CLOSE  Enter_Home    end  \n",
       "1705709         OPEN  Enter_Home  begin  \n",
       "1705710           ON  Enter_Home    NaN  \n",
       "1705711          OFF  Enter_Home    NaN  \n",
       "1705712        CLOSE  Enter_Home    end  \n",
       "1705970         OPEN  Enter_Home  begin  \n",
       "1705971           ON  Enter_Home    NaN  \n",
       "1705972           ON  Enter_Home    NaN  \n",
       "1705973          OFF  Enter_Home    NaN  \n",
       "1705974        CLOSE  Enter_Home    end  "
      ]
     },
     "execution_count": 107,
     "metadata": {},
     "output_type": "execute_result"
    }
   ],
   "source": [
    "df[df['Label']=='Enter_Home'].tail(60)"
   ]
  },
  {
   "cell_type": "code",
   "execution_count": 112,
   "metadata": {},
   "outputs": [],
   "source": [
    "df.drop(df[df['Id_Sensor'] == 'ENTERHOME'].index[0], inplace=True)"
   ]
  },
  {
   "cell_type": "markdown",
   "metadata": {},
   "source": [
    "### Sensor com nome inconsistente"
   ]
  },
  {
   "cell_type": "code",
   "execution_count": 108,
   "metadata": {},
   "outputs": [],
   "source": [
    "df.loc[df['Id_Sensor']=='c', 'Id_Sensor'] = 'M014'"
   ]
  },
  {
   "cell_type": "code",
   "execution_count": 110,
   "metadata": {},
   "outputs": [
    {
     "data": {
      "text/html": [
       "<div>\n",
       "<style scoped>\n",
       "    .dataframe tbody tr th:only-of-type {\n",
       "        vertical-align: middle;\n",
       "    }\n",
       "\n",
       "    .dataframe tbody tr th {\n",
       "        vertical-align: top;\n",
       "    }\n",
       "\n",
       "    .dataframe thead th {\n",
       "        text-align: right;\n",
       "    }\n",
       "</style>\n",
       "<table border=\"1\" class=\"dataframe\">\n",
       "  <thead>\n",
       "    <tr style=\"text-align: right;\">\n",
       "      <th></th>\n",
       "      <th>TimeStamp</th>\n",
       "      <th>Data</th>\n",
       "      <th>Hora</th>\n",
       "      <th>Id_Sensor</th>\n",
       "      <th>Valor_Sensor</th>\n",
       "      <th>Label</th>\n",
       "      <th>Log</th>\n",
       "    </tr>\n",
       "  </thead>\n",
       "  <tbody>\n",
       "  </tbody>\n",
       "</table>\n",
       "</div>"
      ],
      "text/plain": [
       "Empty DataFrame\n",
       "Columns: [TimeStamp, Data, Hora, Id_Sensor, Valor_Sensor, Label, Log]\n",
       "Index: []"
      ]
     },
     "execution_count": 110,
     "metadata": {},
     "output_type": "execute_result"
    }
   ],
   "source": [
    "df[df['Id_Sensor']=='c']"
   ]
  },
  {
   "cell_type": "code",
   "execution_count": 113,
   "metadata": {},
   "outputs": [
    {
     "data": {
      "text/plain": [
       "TimeStamp       2011-05-10 18:42:45.169231\n",
       "Data                            2011-05-10\n",
       "Hora                       18:42:45.169231\n",
       "Id_Sensor                             M014\n",
       "Valor_Sensor                           OFF\n",
       "Label                               Eating\n",
       "Log                                    NaN\n",
       "Name: 1476693, dtype: object"
      ]
     },
     "execution_count": 113,
     "metadata": {},
     "output_type": "execute_result"
    }
   ],
   "source": [
    "df.iloc[1476693]"
   ]
  },
  {
   "cell_type": "markdown",
   "metadata": {},
   "source": [
    "### Inconsistencias nos valores dos sensores"
   ]
  },
  {
   "cell_type": "code",
   "execution_count": 114,
   "metadata": {},
   "outputs": [
    {
     "data": {
      "text/plain": [
       "Index(['TimeStamp', 'Data', 'Hora', 'Id_Sensor', 'Valor_Sensor', 'Label',\n",
       "       'Log'],\n",
       "      dtype='object')"
      ]
     },
     "execution_count": 114,
     "metadata": {},
     "output_type": "execute_result"
    }
   ],
   "source": [
    "df.columns"
   ]
  },
  {
   "cell_type": "code",
   "execution_count": 122,
   "metadata": {},
   "outputs": [],
   "source": [
    "lst_valores_sensor = df['Valor_Sensor'].unique()\n",
    "lst_valores_sensor = sorted(lst_valores_sensor)"
   ]
  },
  {
   "cell_type": "code",
   "execution_count": 143,
   "metadata": {},
   "outputs": [],
   "source": [
    "df.loc[df['Valor_Sensor']  == 'ONM026', 'Valor_Sensor'] = 'ON' "
   ]
  },
  {
   "cell_type": "code",
   "execution_count": 125,
   "metadata": {},
   "outputs": [
    {
     "data": {
      "text/plain": [
       "['16',\n",
       " '16.5',\n",
       " '17',\n",
       " '17.5',\n",
       " '18',\n",
       " '18.5',\n",
       " '180',\n",
       " '19',\n",
       " '19.5',\n",
       " '19.55',\n",
       " '20',\n",
       " '20.5',\n",
       " '21',\n",
       " '21.5',\n",
       " '22',\n",
       " '22.5',\n",
       " '225',\n",
       " '23',\n",
       " '23.5',\n",
       " '23.555',\n",
       " '235',\n",
       " '24',\n",
       " '24.5',\n",
       " '245',\n",
       " '25',\n",
       " '25.5',\n",
       " '26',\n",
       " '26.5',\n",
       " '26cc',\n",
       " '27',\n",
       " '27.5',\n",
       " '28',\n",
       " '28.5',\n",
       " '28.55c',\n",
       " '285',\n",
       " '29',\n",
       " '29.5',\n",
       " '30',\n",
       " '30.5',\n",
       " '300',\n",
       " '31',\n",
       " '31.5',\n",
       " '32',\n",
       " '32.5',\n",
       " '33',\n",
       " '33.5',\n",
       " '34',\n",
       " '34.5',\n",
       " '35',\n",
       " '35.5',\n",
       " '36',\n",
       " '36.5',\n",
       " '37',\n",
       " '37.5',\n",
       " '38',\n",
       " '38.5',\n",
       " '39',\n",
       " '39.5',\n",
       " '40.5',\n",
       " '41.5',\n",
       " '42',\n",
       " '42.5',\n",
       " '43',\n",
       " 'CLOSE',\n",
       " 'CLOSED',\n",
       " 'O',\n",
       " 'OF',\n",
       " 'OFF',\n",
       " 'OFF5',\n",
       " 'OFF5c',\n",
       " 'OFF5cc',\n",
       " 'OFFc',\n",
       " 'OFFc5',\n",
       " 'OFFcc',\n",
       " 'OFFccc5',\n",
       " 'OFcF',\n",
       " 'ON',\n",
       " 'ON5',\n",
       " 'ON55',\n",
       " 'ON5c',\n",
       " 'ONM009',\n",
       " 'ONM024',\n",
       " 'ONc',\n",
       " 'ONc5',\n",
       " 'ONc5c',\n",
       " 'ONcc',\n",
       " 'OPEN',\n",
       " 'OPENc',\n",
       " 'OcFF']"
      ]
     },
     "execution_count": 125,
     "metadata": {},
     "output_type": "execute_result"
    }
   ],
   "source": [
    "lst_valores_sensor"
   ]
  },
  {
   "cell_type": "code",
   "execution_count": 128,
   "metadata": {},
   "outputs": [
    {
     "name": "stdout",
     "output_type": "stream",
     "text": [
      "63\n"
     ]
    }
   ],
   "source": [
    "for x,y in enumerate(lst_valores_sensor):\n",
    "    try:\n",
    "        if(y == 'CLOSE'):\n",
    "            print(x)\n",
    "            break\n",
    "    except:\n",
    "        print(x)"
   ]
  },
  {
   "cell_type": "code",
   "execution_count": 131,
   "metadata": {},
   "outputs": [],
   "source": [
    "lst_valores_cat = lst_valores_sensor[63:]"
   ]
  },
  {
   "cell_type": "code",
   "execution_count": 140,
   "metadata": {},
   "outputs": [
    {
     "data": {
      "text/html": [
       "<div>\n",
       "<style scoped>\n",
       "    .dataframe tbody tr th:only-of-type {\n",
       "        vertical-align: middle;\n",
       "    }\n",
       "\n",
       "    .dataframe tbody tr th {\n",
       "        vertical-align: top;\n",
       "    }\n",
       "\n",
       "    .dataframe thead th {\n",
       "        text-align: right;\n",
       "    }\n",
       "</style>\n",
       "<table border=\"1\" class=\"dataframe\">\n",
       "  <thead>\n",
       "    <tr style=\"text-align: right;\">\n",
       "      <th></th>\n",
       "      <th>TimeStamp</th>\n",
       "      <th>Data</th>\n",
       "      <th>Hora</th>\n",
       "      <th>Id_Sensor</th>\n",
       "      <th>Valor_Sensor</th>\n",
       "      <th>Label</th>\n",
       "      <th>Log</th>\n",
       "    </tr>\n",
       "  </thead>\n",
       "  <tbody>\n",
       "    <tr>\n",
       "      <th>886911</th>\n",
       "      <td>2011-02-23 15:28:52.875123</td>\n",
       "      <td>2011-02-23</td>\n",
       "      <td>15:28:52.875123</td>\n",
       "      <td>M009</td>\n",
       "      <td>O</td>\n",
       "      <td>Relax</td>\n",
       "      <td>begin</td>\n",
       "    </tr>\n",
       "  </tbody>\n",
       "</table>\n",
       "</div>"
      ],
      "text/plain": [
       "                        TimeStamp        Data             Hora Id_Sensor  \\\n",
       "886911 2011-02-23 15:28:52.875123  2011-02-23  15:28:52.875123      M009   \n",
       "\n",
       "       Valor_Sensor  Label    Log  \n",
       "886911            O  Relax  begin  "
      ]
     },
     "execution_count": 140,
     "metadata": {},
     "output_type": "execute_result"
    }
   ],
   "source": [
    "df[df['Valor_Sensor'] == 'O']"
   ]
  },
  {
   "cell_type": "code",
   "execution_count": 153,
   "metadata": {},
   "outputs": [],
   "source": [
    "# Corrigir valores categoricos nos sensores\n",
    "for x in lst_valores_cat:\n",
    "    if(x == 'O'):\n",
    "        df.loc[df['Valor_Sensor']  == x, 'Valor_Sensor'] = 'OFF'\n",
    "    elif((x[:2].lower() == 'of' or x[:2].lower() == 'oc') and x != 'OFF'):\n",
    "        df.loc[df['Valor_Sensor']  == x, 'Valor_Sensor'] = 'OFF'\n",
    "    elif (x[:2].lower() == 'on' and x != 'ON'):\n",
    "        df.loc[df['Valor_Sensor']  == x, 'Valor_Sensor'] = 'ON'\n",
    "    elif (x[:2].lower() == 'op' and x != 'OPEN'):\n",
    "        df.loc[df['Valor_Sensor']  == x, 'Valor_Sensor'] = 'OPEN'\n",
    "    elif (x[:2].lower() == 'cl' and x != 'CLOSE'):\n",
    "        df.loc[df['Valor_Sensor']  == x, 'Valor_Sensor'] = 'CLOSE'"
   ]
  },
  {
   "cell_type": "code",
   "execution_count": 154,
   "metadata": {},
   "outputs": [
    {
     "data": {
      "text/plain": [
       "array(['ON', 'OFF', '21.5', '21', '20.5', '20', '19.5', '19', '18.5',\n",
       "       '26.5', '23', '22.5', '23.5', '22', '24.5', '25', '28', '30.5',\n",
       "       '27', '26', '32', '28.5', '27.5', '24', '33', '29.5', '29', '34',\n",
       "       '30', '34.5', '31.5', '25.5', '35', '36', '36.5', '32.5', '37',\n",
       "       '33.5', 'OPEN', 'CLOSE', '37.5', '31', '35.5', '38', '38.5', '39',\n",
       "       '18', '17.5', '17', '39.5', '16.5', '16', '28.55c', '26cc', '285',\n",
       "       '19.55', '245', '225', '23.555', '235', '42', '41.5', '42.5', '43',\n",
       "       '40.5', '180', '300'], dtype=object)"
      ]
     },
     "execution_count": 154,
     "metadata": {},
     "output_type": "execute_result"
    }
   ],
   "source": [
    "df['Valor_Sensor'].unique()"
   ]
  },
  {
   "cell_type": "code",
   "execution_count": 155,
   "metadata": {},
   "outputs": [
    {
     "data": {
      "text/plain": [
       "TimeStamp       2011-02-23 15:28:52.875123\n",
       "Data                            2011-02-23\n",
       "Hora                       15:28:52.875123\n",
       "Id_Sensor                             M009\n",
       "Valor_Sensor                           OFF\n",
       "Label                                Relax\n",
       "Log                                  begin\n",
       "Name: 886911, dtype: object"
      ]
     },
     "execution_count": 155,
     "metadata": {},
     "output_type": "execute_result"
    }
   ],
   "source": [
    "df.iloc[886911]"
   ]
  },
  {
   "cell_type": "markdown",
   "metadata": {},
   "source": [
    "## Guardar Dataset em formato mais adequado\n",
    "\n",
    "Comentei pq só faz sentido executar essa celula, quando a de cima tbm é executada."
   ]
  },
  {
   "cell_type": "code",
   "execution_count": 152,
   "metadata": {},
   "outputs": [],
   "source": [
    "\n",
    "#df.to_csv('/home/alebex/pratica-dissertacao/Plano A/aruba.csv', index=False)"
   ]
  },
  {
   "cell_type": "markdown",
   "metadata": {},
   "source": [
    "# Carregar DataSet v.1 em CSV"
   ]
  },
  {
   "cell_type": "code",
   "execution_count": 24,
   "metadata": {},
   "outputs": [
    {
     "name": "stdout",
     "output_type": "stream",
     "text": [
      "<class 'pandas.core.frame.DataFrame'>\n",
      "RangeIndex: 1719557 entries, 0 to 1719556\n",
      "Data columns (total 7 columns):\n",
      " #   Column        Dtype         \n",
      "---  ------        -----         \n",
      " 0   TimeStamp     datetime64[ns]\n",
      " 1   Data          object        \n",
      " 2   Hora          object        \n",
      " 3   Id_Sensor     object        \n",
      " 4   Valor_Sensor  object        \n",
      " 5   Label         object        \n",
      " 6   Log           object        \n",
      "dtypes: datetime64[ns](1), object(6)\n",
      "memory usage: 91.8+ MB\n"
     ]
    }
   ],
   "source": [
    "df = pd.read_csv(caminho)\n",
    "df['TimeStamp'] = pd.to_datetime(df['TimeStamp'])\n",
    "df.info()"
   ]
  },
  {
   "cell_type": "code",
   "execution_count": 25,
   "metadata": {},
   "outputs": [
    {
     "data": {
      "text/plain": [
       "68"
      ]
     },
     "execution_count": 25,
     "metadata": {},
     "output_type": "execute_result"
    }
   ],
   "source": [
    "len(df['Valor_Sensor'].unique())"
   ]
  },
  {
   "cell_type": "code",
   "execution_count": 7,
   "metadata": {},
   "outputs": [
    {
     "data": {
      "text/html": [
       "<div>\n",
       "<style scoped>\n",
       "    .dataframe tbody tr th:only-of-type {\n",
       "        vertical-align: middle;\n",
       "    }\n",
       "\n",
       "    .dataframe tbody tr th {\n",
       "        vertical-align: top;\n",
       "    }\n",
       "\n",
       "    .dataframe thead th {\n",
       "        text-align: right;\n",
       "    }\n",
       "</style>\n",
       "<table border=\"1\" class=\"dataframe\">\n",
       "  <thead>\n",
       "    <tr style=\"text-align: right;\">\n",
       "      <th></th>\n",
       "      <th>TimeStamp</th>\n",
       "      <th>Data</th>\n",
       "      <th>Hora</th>\n",
       "      <th>Id_Sensor</th>\n",
       "      <th>Valor_Sensor</th>\n",
       "      <th>Label</th>\n",
       "      <th>Log</th>\n",
       "    </tr>\n",
       "  </thead>\n",
       "  <tbody>\n",
       "    <tr>\n",
       "      <th>0</th>\n",
       "      <td>2010-11-04 00:03:50.209589</td>\n",
       "      <td>2010-11-04</td>\n",
       "      <td>00:03:50.209589</td>\n",
       "      <td>M003</td>\n",
       "      <td>ON</td>\n",
       "      <td>Sleeping</td>\n",
       "      <td>begin</td>\n",
       "    </tr>\n",
       "    <tr>\n",
       "      <th>1</th>\n",
       "      <td>2010-11-04 00:03:57.399391</td>\n",
       "      <td>2010-11-04</td>\n",
       "      <td>00:03:57.399391</td>\n",
       "      <td>M003</td>\n",
       "      <td>OFF</td>\n",
       "      <td>Sleeping</td>\n",
       "      <td>NaN</td>\n",
       "    </tr>\n",
       "    <tr>\n",
       "      <th>2</th>\n",
       "      <td>2010-11-04 00:15:08.984841</td>\n",
       "      <td>2010-11-04</td>\n",
       "      <td>00:15:08.984841</td>\n",
       "      <td>T002</td>\n",
       "      <td>21.5</td>\n",
       "      <td>Sleeping</td>\n",
       "      <td>NaN</td>\n",
       "    </tr>\n",
       "    <tr>\n",
       "      <th>3</th>\n",
       "      <td>2010-11-04 00:30:19.185547</td>\n",
       "      <td>2010-11-04</td>\n",
       "      <td>00:30:19.185547</td>\n",
       "      <td>T003</td>\n",
       "      <td>21</td>\n",
       "      <td>Sleeping</td>\n",
       "      <td>NaN</td>\n",
       "    </tr>\n",
       "    <tr>\n",
       "      <th>4</th>\n",
       "      <td>2010-11-04 00:30:19.385336</td>\n",
       "      <td>2010-11-04</td>\n",
       "      <td>00:30:19.385336</td>\n",
       "      <td>T004</td>\n",
       "      <td>21</td>\n",
       "      <td>Sleeping</td>\n",
       "      <td>NaN</td>\n",
       "    </tr>\n",
       "    <tr>\n",
       "      <th>...</th>\n",
       "      <td>...</td>\n",
       "      <td>...</td>\n",
       "      <td>...</td>\n",
       "      <td>...</td>\n",
       "      <td>...</td>\n",
       "      <td>...</td>\n",
       "      <td>...</td>\n",
       "    </tr>\n",
       "    <tr>\n",
       "      <th>1719552</th>\n",
       "      <td>2011-06-11 23:42:59.285070</td>\n",
       "      <td>2011-06-11</td>\n",
       "      <td>23:42:59.28507</td>\n",
       "      <td>T002</td>\n",
       "      <td>25.5</td>\n",
       "      <td>Sleeping</td>\n",
       "      <td>NaN</td>\n",
       "    </tr>\n",
       "    <tr>\n",
       "      <th>1719553</th>\n",
       "      <td>2011-06-11 23:48:02.888409</td>\n",
       "      <td>2011-06-11</td>\n",
       "      <td>23:48:02.888409</td>\n",
       "      <td>T001</td>\n",
       "      <td>23.5</td>\n",
       "      <td>Sleeping</td>\n",
       "      <td>NaN</td>\n",
       "    </tr>\n",
       "    <tr>\n",
       "      <th>1719554</th>\n",
       "      <td>2011-06-11 23:48:02.988798</td>\n",
       "      <td>2011-06-11</td>\n",
       "      <td>23:48:02.988798</td>\n",
       "      <td>T002</td>\n",
       "      <td>25</td>\n",
       "      <td>Sleeping</td>\n",
       "      <td>NaN</td>\n",
       "    </tr>\n",
       "    <tr>\n",
       "      <th>1719555</th>\n",
       "      <td>2011-06-11 23:53:06.429200</td>\n",
       "      <td>2011-06-11</td>\n",
       "      <td>23:53:06.4292</td>\n",
       "      <td>T002</td>\n",
       "      <td>25.5</td>\n",
       "      <td>Sleeping</td>\n",
       "      <td>NaN</td>\n",
       "    </tr>\n",
       "    <tr>\n",
       "      <th>1719556</th>\n",
       "      <td>2011-06-11 23:58:10.004834</td>\n",
       "      <td>2011-06-11</td>\n",
       "      <td>23:58:10.004834</td>\n",
       "      <td>T002</td>\n",
       "      <td>25</td>\n",
       "      <td>Sleeping</td>\n",
       "      <td>end</td>\n",
       "    </tr>\n",
       "  </tbody>\n",
       "</table>\n",
       "<p>1719557 rows × 7 columns</p>\n",
       "</div>"
      ],
      "text/plain": [
       "                         TimeStamp        Data             Hora Id_Sensor  \\\n",
       "0       2010-11-04 00:03:50.209589  2010-11-04  00:03:50.209589      M003   \n",
       "1       2010-11-04 00:03:57.399391  2010-11-04  00:03:57.399391      M003   \n",
       "2       2010-11-04 00:15:08.984841  2010-11-04  00:15:08.984841      T002   \n",
       "3       2010-11-04 00:30:19.185547  2010-11-04  00:30:19.185547      T003   \n",
       "4       2010-11-04 00:30:19.385336  2010-11-04  00:30:19.385336      T004   \n",
       "...                            ...         ...              ...       ...   \n",
       "1719552 2011-06-11 23:42:59.285070  2011-06-11   23:42:59.28507      T002   \n",
       "1719553 2011-06-11 23:48:02.888409  2011-06-11  23:48:02.888409      T001   \n",
       "1719554 2011-06-11 23:48:02.988798  2011-06-11  23:48:02.988798      T002   \n",
       "1719555 2011-06-11 23:53:06.429200  2011-06-11    23:53:06.4292      T002   \n",
       "1719556 2011-06-11 23:58:10.004834  2011-06-11  23:58:10.004834      T002   \n",
       "\n",
       "        Valor_Sensor     Label    Log  \n",
       "0                 ON  Sleeping  begin  \n",
       "1                OFF  Sleeping    NaN  \n",
       "2               21.5  Sleeping    NaN  \n",
       "3                 21  Sleeping    NaN  \n",
       "4                 21  Sleeping    NaN  \n",
       "...              ...       ...    ...  \n",
       "1719552         25.5  Sleeping    NaN  \n",
       "1719553         23.5  Sleeping    NaN  \n",
       "1719554           25  Sleeping    NaN  \n",
       "1719555         25.5  Sleeping    NaN  \n",
       "1719556           25  Sleeping    end  \n",
       "\n",
       "[1719557 rows x 7 columns]"
      ]
     },
     "execution_count": 7,
     "metadata": {},
     "output_type": "execute_result"
    }
   ],
   "source": [
    "df"
   ]
  },
  {
   "cell_type": "code",
   "execution_count": 26,
   "metadata": {},
   "outputs": [
    {
     "data": {
      "text/html": [
       "<div>\n",
       "<style scoped>\n",
       "    .dataframe tbody tr th:only-of-type {\n",
       "        vertical-align: middle;\n",
       "    }\n",
       "\n",
       "    .dataframe tbody tr th {\n",
       "        vertical-align: top;\n",
       "    }\n",
       "\n",
       "    .dataframe thead th {\n",
       "        text-align: right;\n",
       "    }\n",
       "</style>\n",
       "<table border=\"1\" class=\"dataframe\">\n",
       "  <thead>\n",
       "    <tr style=\"text-align: right;\">\n",
       "      <th></th>\n",
       "      <th>TimeStamp</th>\n",
       "      <th>Data</th>\n",
       "      <th>Hora</th>\n",
       "      <th>Id_Sensor</th>\n",
       "      <th>Valor_Sensor</th>\n",
       "      <th>Label</th>\n",
       "      <th>Log</th>\n",
       "    </tr>\n",
       "  </thead>\n",
       "  <tbody>\n",
       "    <tr>\n",
       "      <th>50</th>\n",
       "      <td>2010-11-04 05:40:45.939846</td>\n",
       "      <td>2010-11-04</td>\n",
       "      <td>05:40:45.939846</td>\n",
       "      <td>M005</td>\n",
       "      <td>ON</td>\n",
       "      <td>zzero</td>\n",
       "      <td>NaN</td>\n",
       "    </tr>\n",
       "    <tr>\n",
       "      <th>51</th>\n",
       "      <td>2010-11-04 05:40:46.310862</td>\n",
       "      <td>2010-11-04</td>\n",
       "      <td>05:40:46.310862</td>\n",
       "      <td>M003</td>\n",
       "      <td>OFF</td>\n",
       "      <td>zzero</td>\n",
       "      <td>NaN</td>\n",
       "    </tr>\n",
       "    <tr>\n",
       "      <th>65</th>\n",
       "      <td>2010-11-04 05:43:35.941892</td>\n",
       "      <td>2010-11-04</td>\n",
       "      <td>05:43:35.941892</td>\n",
       "      <td>M007</td>\n",
       "      <td>OFF</td>\n",
       "      <td>zzero</td>\n",
       "      <td>NaN</td>\n",
       "    </tr>\n",
       "    <tr>\n",
       "      <th>66</th>\n",
       "      <td>2010-11-04 05:43:40.821615</td>\n",
       "      <td>2010-11-04</td>\n",
       "      <td>05:43:40.821615</td>\n",
       "      <td>M007</td>\n",
       "      <td>ON</td>\n",
       "      <td>zzero</td>\n",
       "      <td>NaN</td>\n",
       "    </tr>\n",
       "    <tr>\n",
       "      <th>67</th>\n",
       "      <td>2010-11-04 05:43:45.619681</td>\n",
       "      <td>2010-11-04</td>\n",
       "      <td>05:43:45.619681</td>\n",
       "      <td>M007</td>\n",
       "      <td>OFF</td>\n",
       "      <td>zzero</td>\n",
       "      <td>NaN</td>\n",
       "    </tr>\n",
       "    <tr>\n",
       "      <th>...</th>\n",
       "      <td>...</td>\n",
       "      <td>...</td>\n",
       "      <td>...</td>\n",
       "      <td>...</td>\n",
       "      <td>...</td>\n",
       "      <td>...</td>\n",
       "      <td>...</td>\n",
       "    </tr>\n",
       "    <tr>\n",
       "      <th>1719494</th>\n",
       "      <td>2011-06-11 22:10:10.734616</td>\n",
       "      <td>2011-06-11</td>\n",
       "      <td>22:10:10.734616</td>\n",
       "      <td>M007</td>\n",
       "      <td>ON</td>\n",
       "      <td>zzero</td>\n",
       "      <td>NaN</td>\n",
       "    </tr>\n",
       "    <tr>\n",
       "      <th>1719495</th>\n",
       "      <td>2011-06-11 22:10:12.185314</td>\n",
       "      <td>2011-06-11</td>\n",
       "      <td>22:10:12.185314</td>\n",
       "      <td>M004</td>\n",
       "      <td>OFF</td>\n",
       "      <td>zzero</td>\n",
       "      <td>NaN</td>\n",
       "    </tr>\n",
       "    <tr>\n",
       "      <th>1719496</th>\n",
       "      <td>2011-06-11 22:10:13.263357</td>\n",
       "      <td>2011-06-11</td>\n",
       "      <td>22:10:13.263357</td>\n",
       "      <td>M005</td>\n",
       "      <td>ON</td>\n",
       "      <td>zzero</td>\n",
       "      <td>NaN</td>\n",
       "    </tr>\n",
       "    <tr>\n",
       "      <th>1719497</th>\n",
       "      <td>2011-06-11 22:10:17.045615</td>\n",
       "      <td>2011-06-11</td>\n",
       "      <td>22:10:17.045615</td>\n",
       "      <td>M005</td>\n",
       "      <td>OFF</td>\n",
       "      <td>zzero</td>\n",
       "      <td>NaN</td>\n",
       "    </tr>\n",
       "    <tr>\n",
       "      <th>1719498</th>\n",
       "      <td>2011-06-11 22:10:17.982058</td>\n",
       "      <td>2011-06-11</td>\n",
       "      <td>22:10:17.982058</td>\n",
       "      <td>M007</td>\n",
       "      <td>OFF</td>\n",
       "      <td>zzero</td>\n",
       "      <td>NaN</td>\n",
       "    </tr>\n",
       "  </tbody>\n",
       "</table>\n",
       "<p>920604 rows × 7 columns</p>\n",
       "</div>"
      ],
      "text/plain": [
       "                         TimeStamp        Data             Hora Id_Sensor  \\\n",
       "50      2010-11-04 05:40:45.939846  2010-11-04  05:40:45.939846      M005   \n",
       "51      2010-11-04 05:40:46.310862  2010-11-04  05:40:46.310862      M003   \n",
       "65      2010-11-04 05:43:35.941892  2010-11-04  05:43:35.941892      M007   \n",
       "66      2010-11-04 05:43:40.821615  2010-11-04  05:43:40.821615      M007   \n",
       "67      2010-11-04 05:43:45.619681  2010-11-04  05:43:45.619681      M007   \n",
       "...                            ...         ...              ...       ...   \n",
       "1719494 2011-06-11 22:10:10.734616  2011-06-11  22:10:10.734616      M007   \n",
       "1719495 2011-06-11 22:10:12.185314  2011-06-11  22:10:12.185314      M004   \n",
       "1719496 2011-06-11 22:10:13.263357  2011-06-11  22:10:13.263357      M005   \n",
       "1719497 2011-06-11 22:10:17.045615  2011-06-11  22:10:17.045615      M005   \n",
       "1719498 2011-06-11 22:10:17.982058  2011-06-11  22:10:17.982058      M007   \n",
       "\n",
       "        Valor_Sensor  Label  Log  \n",
       "50                ON  zzero  NaN  \n",
       "51               OFF  zzero  NaN  \n",
       "65               OFF  zzero  NaN  \n",
       "66                ON  zzero  NaN  \n",
       "67               OFF  zzero  NaN  \n",
       "...              ...    ...  ...  \n",
       "1719494           ON  zzero  NaN  \n",
       "1719495          OFF  zzero  NaN  \n",
       "1719496           ON  zzero  NaN  \n",
       "1719497          OFF  zzero  NaN  \n",
       "1719498          OFF  zzero  NaN  \n",
       "\n",
       "[920604 rows x 7 columns]"
      ]
     },
     "execution_count": 26,
     "metadata": {},
     "output_type": "execute_result"
    }
   ],
   "source": [
    "df[df['Label'] == 'zzero']"
   ]
  },
  {
   "cell_type": "code",
   "execution_count": 9,
   "metadata": {},
   "outputs": [
    {
     "data": {
      "text/html": [
       "<div>\n",
       "<style scoped>\n",
       "    .dataframe tbody tr th:only-of-type {\n",
       "        vertical-align: middle;\n",
       "    }\n",
       "\n",
       "    .dataframe tbody tr th {\n",
       "        vertical-align: top;\n",
       "    }\n",
       "\n",
       "    .dataframe thead th {\n",
       "        text-align: right;\n",
       "    }\n",
       "</style>\n",
       "<table border=\"1\" class=\"dataframe\">\n",
       "  <thead>\n",
       "    <tr style=\"text-align: right;\">\n",
       "      <th></th>\n",
       "      <th>TimeStamp</th>\n",
       "      <th>Data</th>\n",
       "      <th>Hora</th>\n",
       "      <th>Id_Sensor</th>\n",
       "      <th>Valor_Sensor</th>\n",
       "      <th>Label</th>\n",
       "      <th>Log</th>\n",
       "    </tr>\n",
       "  </thead>\n",
       "  <tbody>\n",
       "    <tr>\n",
       "      <th>49</th>\n",
       "      <td>2010-11-04 05:40:44.223548</td>\n",
       "      <td>2010-11-04</td>\n",
       "      <td>05:40:44.223548</td>\n",
       "      <td>M003</td>\n",
       "      <td>ON</td>\n",
       "      <td>other</td>\n",
       "      <td>Ubegin</td>\n",
       "    </tr>\n",
       "    <tr>\n",
       "      <th>64</th>\n",
       "      <td>2010-11-04 05:43:34.261135</td>\n",
       "      <td>2010-11-04</td>\n",
       "      <td>05:43:34.261135</td>\n",
       "      <td>M005</td>\n",
       "      <td>OFF</td>\n",
       "      <td>other</td>\n",
       "      <td>Ubegin</td>\n",
       "    </tr>\n",
       "    <tr>\n",
       "      <th>173</th>\n",
       "      <td>2010-11-04 08:01:16.512483</td>\n",
       "      <td>2010-11-04</td>\n",
       "      <td>08:01:16.512483</td>\n",
       "      <td>M007</td>\n",
       "      <td>OFF</td>\n",
       "      <td>other</td>\n",
       "      <td>Ubegin</td>\n",
       "    </tr>\n",
       "    <tr>\n",
       "      <th>521</th>\n",
       "      <td>2010-11-04 08:27:06.795729</td>\n",
       "      <td>2010-11-04</td>\n",
       "      <td>08:27:06.795729</td>\n",
       "      <td>M020</td>\n",
       "      <td>OFF</td>\n",
       "      <td>other</td>\n",
       "      <td>Ubegin</td>\n",
       "    </tr>\n",
       "    <tr>\n",
       "      <th>708</th>\n",
       "      <td>2010-11-04 08:35:46.861464</td>\n",
       "      <td>2010-11-04</td>\n",
       "      <td>08:35:46.861464</td>\n",
       "      <td>M019</td>\n",
       "      <td>OFF</td>\n",
       "      <td>other</td>\n",
       "      <td>Ubegin</td>\n",
       "    </tr>\n",
       "    <tr>\n",
       "      <th>...</th>\n",
       "      <td>...</td>\n",
       "      <td>...</td>\n",
       "      <td>...</td>\n",
       "      <td>...</td>\n",
       "      <td>...</td>\n",
       "      <td>...</td>\n",
       "      <td>...</td>\n",
       "    </tr>\n",
       "    <tr>\n",
       "      <th>1718676</th>\n",
       "      <td>2011-06-11 17:57:51.553680</td>\n",
       "      <td>2011-06-11</td>\n",
       "      <td>17:57:51.55368</td>\n",
       "      <td>M020</td>\n",
       "      <td>OFF</td>\n",
       "      <td>other</td>\n",
       "      <td>Ubegin</td>\n",
       "    </tr>\n",
       "    <tr>\n",
       "      <th>1718826</th>\n",
       "      <td>2011-06-11 18:14:30.935729</td>\n",
       "      <td>2011-06-11</td>\n",
       "      <td>18:14:30.935729</td>\n",
       "      <td>M014</td>\n",
       "      <td>ON</td>\n",
       "      <td>other</td>\n",
       "      <td>Ubegin</td>\n",
       "    </tr>\n",
       "    <tr>\n",
       "      <th>1719050</th>\n",
       "      <td>2011-06-11 20:33:45.503282</td>\n",
       "      <td>2011-06-11</td>\n",
       "      <td>20:33:45.503282</td>\n",
       "      <td>M013</td>\n",
       "      <td>ON</td>\n",
       "      <td>other</td>\n",
       "      <td>Ubegin</td>\n",
       "    </tr>\n",
       "    <tr>\n",
       "      <th>1719347</th>\n",
       "      <td>2011-06-11 21:18:12.297397</td>\n",
       "      <td>2011-06-11</td>\n",
       "      <td>21:18:12.297397</td>\n",
       "      <td>M013</td>\n",
       "      <td>OFF</td>\n",
       "      <td>other</td>\n",
       "      <td>Ubegin</td>\n",
       "    </tr>\n",
       "    <tr>\n",
       "      <th>1719431</th>\n",
       "      <td>2011-06-11 22:05:07.562146</td>\n",
       "      <td>2011-06-11</td>\n",
       "      <td>22:05:07.562146</td>\n",
       "      <td>M013</td>\n",
       "      <td>ON</td>\n",
       "      <td>other</td>\n",
       "      <td>Ubegin</td>\n",
       "    </tr>\n",
       "  </tbody>\n",
       "</table>\n",
       "<p>6354 rows × 7 columns</p>\n",
       "</div>"
      ],
      "text/plain": [
       "                         TimeStamp        Data             Hora Id_Sensor  \\\n",
       "49      2010-11-04 05:40:44.223548  2010-11-04  05:40:44.223548      M003   \n",
       "64      2010-11-04 05:43:34.261135  2010-11-04  05:43:34.261135      M005   \n",
       "173     2010-11-04 08:01:16.512483  2010-11-04  08:01:16.512483      M007   \n",
       "521     2010-11-04 08:27:06.795729  2010-11-04  08:27:06.795729      M020   \n",
       "708     2010-11-04 08:35:46.861464  2010-11-04  08:35:46.861464      M019   \n",
       "...                            ...         ...              ...       ...   \n",
       "1718676 2011-06-11 17:57:51.553680  2011-06-11   17:57:51.55368      M020   \n",
       "1718826 2011-06-11 18:14:30.935729  2011-06-11  18:14:30.935729      M014   \n",
       "1719050 2011-06-11 20:33:45.503282  2011-06-11  20:33:45.503282      M013   \n",
       "1719347 2011-06-11 21:18:12.297397  2011-06-11  21:18:12.297397      M013   \n",
       "1719431 2011-06-11 22:05:07.562146  2011-06-11  22:05:07.562146      M013   \n",
       "\n",
       "        Valor_Sensor  Label     Log  \n",
       "49                ON  other  Ubegin  \n",
       "64               OFF  other  Ubegin  \n",
       "173              OFF  other  Ubegin  \n",
       "521              OFF  other  Ubegin  \n",
       "708              OFF  other  Ubegin  \n",
       "...              ...    ...     ...  \n",
       "1718676          OFF  other  Ubegin  \n",
       "1718826           ON  other  Ubegin  \n",
       "1719050           ON  other  Ubegin  \n",
       "1719347          OFF  other  Ubegin  \n",
       "1719431           ON  other  Ubegin  \n",
       "\n",
       "[6354 rows x 7 columns]"
      ]
     },
     "execution_count": 9,
     "metadata": {},
     "output_type": "execute_result"
    }
   ],
   "source": [
    "df[df['Label'] == 'other']"
   ]
  },
  {
   "cell_type": "code",
   "execution_count": 161,
   "metadata": {},
   "outputs": [],
   "source": [
    "classe_por_atividade = pd.Series({\n",
    "        'Meal_Preparation': 1606,\n",
    "        'Relax':2910,\n",
    "        'Eating':257,\n",
    "        'Work':171,\n",
    "        'Sleeping':401,\n",
    "        'Wash_Dishes':65,\n",
    "        'Bed_to_Toilet':157,\n",
    "        'Enter_Home':431,\n",
    "        'Leave_Home':431,\n",
    "        'Housekeeping':33,\n",
    "        'Resperate':6\n",
    "})"
   ]
  },
  {
   "cell_type": "code",
   "execution_count": 27,
   "metadata": {},
   "outputs": [
    {
     "name": "stdout",
     "output_type": "stream",
     "text": [
      "Quantidade de atividades desconhecidas:6354\n"
     ]
    }
   ],
   "source": [
    "print('Quantidade de atividades desconhecidas:'+str(len(df[df['Log'] == 'Ubegin'])))"
   ]
  },
  {
   "cell_type": "markdown",
   "metadata": {},
   "source": [
    "# Balanceamento completo"
   ]
  },
  {
   "cell_type": "code",
   "execution_count": 163,
   "metadata": {},
   "outputs": [
    {
     "data": {
      "image/png": "[encoded data removed]",
      "text/plain": [
       "<Figure size 2000x600 with 1 Axes>"
      ]
     },
     "metadata": {},
     "output_type": "display_data"
    }
   ],
   "source": [
    "plt.figure(figsize=(20, 6))\n",
    "sns.countplot(data=df[(df['Log'] == 'begin') | (df['Log'] == 'Ubegin')], x='Label', palette='Set2')\n",
    "plt.title('Balanceamento de Classes contando com as atividades não rotuladas')\n",
    "plt.xlabel('Classe')\n",
    "plt.ylabel('Contagem de Amostras')\n",
    "plt.show()"
   ]
  },
  {
   "cell_type": "markdown",
   "metadata": {},
   "source": [
    "# Eliminar eventos desconhecidos"
   ]
  },
  {
   "cell_type": "code",
   "execution_count": 28,
   "metadata": {},
   "outputs": [],
   "source": [
    "df = df[(df['Label'] != 'zzero') & (df['Label'] != 'other')]"
   ]
  },
  {
   "cell_type": "code",
   "execution_count": 29,
   "metadata": {},
   "outputs": [
    {
     "data": {
      "text/html": [
       "<div>\n",
       "<style scoped>\n",
       "    .dataframe tbody tr th:only-of-type {\n",
       "        vertical-align: middle;\n",
       "    }\n",
       "\n",
       "    .dataframe tbody tr th {\n",
       "        vertical-align: top;\n",
       "    }\n",
       "\n",
       "    .dataframe thead th {\n",
       "        text-align: right;\n",
       "    }\n",
       "</style>\n",
       "<table border=\"1\" class=\"dataframe\">\n",
       "  <thead>\n",
       "    <tr style=\"text-align: right;\">\n",
       "      <th></th>\n",
       "      <th>TimeStamp</th>\n",
       "      <th>Data</th>\n",
       "      <th>Hora</th>\n",
       "      <th>Id_Sensor</th>\n",
       "      <th>Valor_Sensor</th>\n",
       "      <th>Label</th>\n",
       "      <th>Log</th>\n",
       "    </tr>\n",
       "  </thead>\n",
       "  <tbody>\n",
       "    <tr>\n",
       "      <th>0</th>\n",
       "      <td>2010-11-04 00:03:50.209589</td>\n",
       "      <td>2010-11-04</td>\n",
       "      <td>00:03:50.209589</td>\n",
       "      <td>M003</td>\n",
       "      <td>ON</td>\n",
       "      <td>Sleeping</td>\n",
       "      <td>begin</td>\n",
       "    </tr>\n",
       "    <tr>\n",
       "      <th>1</th>\n",
       "      <td>2010-11-04 00:03:57.399391</td>\n",
       "      <td>2010-11-04</td>\n",
       "      <td>00:03:57.399391</td>\n",
       "      <td>M003</td>\n",
       "      <td>OFF</td>\n",
       "      <td>Sleeping</td>\n",
       "      <td>NaN</td>\n",
       "    </tr>\n",
       "    <tr>\n",
       "      <th>2</th>\n",
       "      <td>2010-11-04 00:15:08.984841</td>\n",
       "      <td>2010-11-04</td>\n",
       "      <td>00:15:08.984841</td>\n",
       "      <td>T002</td>\n",
       "      <td>21.5</td>\n",
       "      <td>Sleeping</td>\n",
       "      <td>NaN</td>\n",
       "    </tr>\n",
       "    <tr>\n",
       "      <th>3</th>\n",
       "      <td>2010-11-04 00:30:19.185547</td>\n",
       "      <td>2010-11-04</td>\n",
       "      <td>00:30:19.185547</td>\n",
       "      <td>T003</td>\n",
       "      <td>21</td>\n",
       "      <td>Sleeping</td>\n",
       "      <td>NaN</td>\n",
       "    </tr>\n",
       "    <tr>\n",
       "      <th>4</th>\n",
       "      <td>2010-11-04 00:30:19.385336</td>\n",
       "      <td>2010-11-04</td>\n",
       "      <td>00:30:19.385336</td>\n",
       "      <td>T004</td>\n",
       "      <td>21</td>\n",
       "      <td>Sleeping</td>\n",
       "      <td>NaN</td>\n",
       "    </tr>\n",
       "    <tr>\n",
       "      <th>...</th>\n",
       "      <td>...</td>\n",
       "      <td>...</td>\n",
       "      <td>...</td>\n",
       "      <td>...</td>\n",
       "      <td>...</td>\n",
       "      <td>...</td>\n",
       "      <td>...</td>\n",
       "    </tr>\n",
       "    <tr>\n",
       "      <th>1719552</th>\n",
       "      <td>2011-06-11 23:42:59.285070</td>\n",
       "      <td>2011-06-11</td>\n",
       "      <td>23:42:59.28507</td>\n",
       "      <td>T002</td>\n",
       "      <td>25.5</td>\n",
       "      <td>Sleeping</td>\n",
       "      <td>NaN</td>\n",
       "    </tr>\n",
       "    <tr>\n",
       "      <th>1719553</th>\n",
       "      <td>2011-06-11 23:48:02.888409</td>\n",
       "      <td>2011-06-11</td>\n",
       "      <td>23:48:02.888409</td>\n",
       "      <td>T001</td>\n",
       "      <td>23.5</td>\n",
       "      <td>Sleeping</td>\n",
       "      <td>NaN</td>\n",
       "    </tr>\n",
       "    <tr>\n",
       "      <th>1719554</th>\n",
       "      <td>2011-06-11 23:48:02.988798</td>\n",
       "      <td>2011-06-11</td>\n",
       "      <td>23:48:02.988798</td>\n",
       "      <td>T002</td>\n",
       "      <td>25</td>\n",
       "      <td>Sleeping</td>\n",
       "      <td>NaN</td>\n",
       "    </tr>\n",
       "    <tr>\n",
       "      <th>1719555</th>\n",
       "      <td>2011-06-11 23:53:06.429200</td>\n",
       "      <td>2011-06-11</td>\n",
       "      <td>23:53:06.4292</td>\n",
       "      <td>T002</td>\n",
       "      <td>25.5</td>\n",
       "      <td>Sleeping</td>\n",
       "      <td>NaN</td>\n",
       "    </tr>\n",
       "    <tr>\n",
       "      <th>1719556</th>\n",
       "      <td>2011-06-11 23:58:10.004834</td>\n",
       "      <td>2011-06-11</td>\n",
       "      <td>23:58:10.004834</td>\n",
       "      <td>T002</td>\n",
       "      <td>25</td>\n",
       "      <td>Sleeping</td>\n",
       "      <td>end</td>\n",
       "    </tr>\n",
       "  </tbody>\n",
       "</table>\n",
       "<p>792599 rows × 7 columns</p>\n",
       "</div>"
      ],
      "text/plain": [
       "                         TimeStamp        Data             Hora Id_Sensor  \\\n",
       "0       2010-11-04 00:03:50.209589  2010-11-04  00:03:50.209589      M003   \n",
       "1       2010-11-04 00:03:57.399391  2010-11-04  00:03:57.399391      M003   \n",
       "2       2010-11-04 00:15:08.984841  2010-11-04  00:15:08.984841      T002   \n",
       "3       2010-11-04 00:30:19.185547  2010-11-04  00:30:19.185547      T003   \n",
       "4       2010-11-04 00:30:19.385336  2010-11-04  00:30:19.385336      T004   \n",
       "...                            ...         ...              ...       ...   \n",
       "1719552 2011-06-11 23:42:59.285070  2011-06-11   23:42:59.28507      T002   \n",
       "1719553 2011-06-11 23:48:02.888409  2011-06-11  23:48:02.888409      T001   \n",
       "1719554 2011-06-11 23:48:02.988798  2011-06-11  23:48:02.988798      T002   \n",
       "1719555 2011-06-11 23:53:06.429200  2011-06-11    23:53:06.4292      T002   \n",
       "1719556 2011-06-11 23:58:10.004834  2011-06-11  23:58:10.004834      T002   \n",
       "\n",
       "        Valor_Sensor     Label    Log  \n",
       "0                 ON  Sleeping  begin  \n",
       "1                OFF  Sleeping    NaN  \n",
       "2               21.5  Sleeping    NaN  \n",
       "3                 21  Sleeping    NaN  \n",
       "4                 21  Sleeping    NaN  \n",
       "...              ...       ...    ...  \n",
       "1719552         25.5  Sleeping    NaN  \n",
       "1719553         23.5  Sleeping    NaN  \n",
       "1719554           25  Sleeping    NaN  \n",
       "1719555         25.5  Sleeping    NaN  \n",
       "1719556           25  Sleeping    end  \n",
       "\n",
       "[792599 rows x 7 columns]"
      ]
     },
     "execution_count": 29,
     "metadata": {},
     "output_type": "execute_result"
    }
   ],
   "source": [
    "df"
   ]
  },
  {
   "cell_type": "code",
   "execution_count": 30,
   "metadata": {},
   "outputs": [],
   "source": [
    "df.reset_index(drop=True, inplace=True)"
   ]
  },
  {
   "cell_type": "code",
   "execution_count": 31,
   "metadata": {},
   "outputs": [
    {
     "data": {
      "text/html": [
       "<div>\n",
       "<style scoped>\n",
       "    .dataframe tbody tr th:only-of-type {\n",
       "        vertical-align: middle;\n",
       "    }\n",
       "\n",
       "    .dataframe tbody tr th {\n",
       "        vertical-align: top;\n",
       "    }\n",
       "\n",
       "    .dataframe thead th {\n",
       "        text-align: right;\n",
       "    }\n",
       "</style>\n",
       "<table border=\"1\" class=\"dataframe\">\n",
       "  <thead>\n",
       "    <tr style=\"text-align: right;\">\n",
       "      <th></th>\n",
       "      <th>TimeStamp</th>\n",
       "      <th>Data</th>\n",
       "      <th>Hora</th>\n",
       "      <th>Id_Sensor</th>\n",
       "      <th>Valor_Sensor</th>\n",
       "      <th>Label</th>\n",
       "      <th>Log</th>\n",
       "    </tr>\n",
       "  </thead>\n",
       "  <tbody>\n",
       "    <tr>\n",
       "      <th>0</th>\n",
       "      <td>2010-11-04 00:03:50.209589</td>\n",
       "      <td>2010-11-04</td>\n",
       "      <td>00:03:50.209589</td>\n",
       "      <td>M003</td>\n",
       "      <td>ON</td>\n",
       "      <td>Sleeping</td>\n",
       "      <td>begin</td>\n",
       "    </tr>\n",
       "    <tr>\n",
       "      <th>1</th>\n",
       "      <td>2010-11-04 00:03:57.399391</td>\n",
       "      <td>2010-11-04</td>\n",
       "      <td>00:03:57.399391</td>\n",
       "      <td>M003</td>\n",
       "      <td>OFF</td>\n",
       "      <td>Sleeping</td>\n",
       "      <td>NaN</td>\n",
       "    </tr>\n",
       "    <tr>\n",
       "      <th>2</th>\n",
       "      <td>2010-11-04 00:15:08.984841</td>\n",
       "      <td>2010-11-04</td>\n",
       "      <td>00:15:08.984841</td>\n",
       "      <td>T002</td>\n",
       "      <td>21.5</td>\n",
       "      <td>Sleeping</td>\n",
       "      <td>NaN</td>\n",
       "    </tr>\n",
       "    <tr>\n",
       "      <th>3</th>\n",
       "      <td>2010-11-04 00:30:19.185547</td>\n",
       "      <td>2010-11-04</td>\n",
       "      <td>00:30:19.185547</td>\n",
       "      <td>T003</td>\n",
       "      <td>21</td>\n",
       "      <td>Sleeping</td>\n",
       "      <td>NaN</td>\n",
       "    </tr>\n",
       "    <tr>\n",
       "      <th>4</th>\n",
       "      <td>2010-11-04 00:30:19.385336</td>\n",
       "      <td>2010-11-04</td>\n",
       "      <td>00:30:19.385336</td>\n",
       "      <td>T004</td>\n",
       "      <td>21</td>\n",
       "      <td>Sleeping</td>\n",
       "      <td>NaN</td>\n",
       "    </tr>\n",
       "    <tr>\n",
       "      <th>...</th>\n",
       "      <td>...</td>\n",
       "      <td>...</td>\n",
       "      <td>...</td>\n",
       "      <td>...</td>\n",
       "      <td>...</td>\n",
       "      <td>...</td>\n",
       "      <td>...</td>\n",
       "    </tr>\n",
       "    <tr>\n",
       "      <th>792594</th>\n",
       "      <td>2011-06-11 23:42:59.285070</td>\n",
       "      <td>2011-06-11</td>\n",
       "      <td>23:42:59.28507</td>\n",
       "      <td>T002</td>\n",
       "      <td>25.5</td>\n",
       "      <td>Sleeping</td>\n",
       "      <td>NaN</td>\n",
       "    </tr>\n",
       "    <tr>\n",
       "      <th>792595</th>\n",
       "      <td>2011-06-11 23:48:02.888409</td>\n",
       "      <td>2011-06-11</td>\n",
       "      <td>23:48:02.888409</td>\n",
       "      <td>T001</td>\n",
       "      <td>23.5</td>\n",
       "      <td>Sleeping</td>\n",
       "      <td>NaN</td>\n",
       "    </tr>\n",
       "    <tr>\n",
       "      <th>792596</th>\n",
       "      <td>2011-06-11 23:48:02.988798</td>\n",
       "      <td>2011-06-11</td>\n",
       "      <td>23:48:02.988798</td>\n",
       "      <td>T002</td>\n",
       "      <td>25</td>\n",
       "      <td>Sleeping</td>\n",
       "      <td>NaN</td>\n",
       "    </tr>\n",
       "    <tr>\n",
       "      <th>792597</th>\n",
       "      <td>2011-06-11 23:53:06.429200</td>\n",
       "      <td>2011-06-11</td>\n",
       "      <td>23:53:06.4292</td>\n",
       "      <td>T002</td>\n",
       "      <td>25.5</td>\n",
       "      <td>Sleeping</td>\n",
       "      <td>NaN</td>\n",
       "    </tr>\n",
       "    <tr>\n",
       "      <th>792598</th>\n",
       "      <td>2011-06-11 23:58:10.004834</td>\n",
       "      <td>2011-06-11</td>\n",
       "      <td>23:58:10.004834</td>\n",
       "      <td>T002</td>\n",
       "      <td>25</td>\n",
       "      <td>Sleeping</td>\n",
       "      <td>end</td>\n",
       "    </tr>\n",
       "  </tbody>\n",
       "</table>\n",
       "<p>792599 rows × 7 columns</p>\n",
       "</div>"
      ],
      "text/plain": [
       "                        TimeStamp        Data             Hora Id_Sensor  \\\n",
       "0      2010-11-04 00:03:50.209589  2010-11-04  00:03:50.209589      M003   \n",
       "1      2010-11-04 00:03:57.399391  2010-11-04  00:03:57.399391      M003   \n",
       "2      2010-11-04 00:15:08.984841  2010-11-04  00:15:08.984841      T002   \n",
       "3      2010-11-04 00:30:19.185547  2010-11-04  00:30:19.185547      T003   \n",
       "4      2010-11-04 00:30:19.385336  2010-11-04  00:30:19.385336      T004   \n",
       "...                           ...         ...              ...       ...   \n",
       "792594 2011-06-11 23:42:59.285070  2011-06-11   23:42:59.28507      T002   \n",
       "792595 2011-06-11 23:48:02.888409  2011-06-11  23:48:02.888409      T001   \n",
       "792596 2011-06-11 23:48:02.988798  2011-06-11  23:48:02.988798      T002   \n",
       "792597 2011-06-11 23:53:06.429200  2011-06-11    23:53:06.4292      T002   \n",
       "792598 2011-06-11 23:58:10.004834  2011-06-11  23:58:10.004834      T002   \n",
       "\n",
       "       Valor_Sensor     Label    Log  \n",
       "0                ON  Sleeping  begin  \n",
       "1               OFF  Sleeping    NaN  \n",
       "2              21.5  Sleeping    NaN  \n",
       "3                21  Sleeping    NaN  \n",
       "4                21  Sleeping    NaN  \n",
       "...             ...       ...    ...  \n",
       "792594         25.5  Sleeping    NaN  \n",
       "792595         23.5  Sleeping    NaN  \n",
       "792596           25  Sleeping    NaN  \n",
       "792597         25.5  Sleeping    NaN  \n",
       "792598           25  Sleeping    end  \n",
       "\n",
       "[792599 rows x 7 columns]"
      ]
     },
     "execution_count": 31,
     "metadata": {},
     "output_type": "execute_result"
    }
   ],
   "source": [
    "df"
   ]
  },
  {
   "cell_type": "markdown",
   "metadata": {},
   "source": [
    "# Balanceamento somente das atividades conhecidas"
   ]
  },
  {
   "cell_type": "code",
   "execution_count": 201,
   "metadata": {},
   "outputs": [
    {
     "data": {
      "image/png": "[encoded data removed]",
      "text/plain": [
       "<Figure size 2000x600 with 1 Axes>"
      ]
     },
     "metadata": {},
     "output_type": "display_data"
    }
   ],
   "source": [
    "plt.figure(figsize=(20, 6))\n",
    "sns.countplot(data=df[(df['Log'] == 'begin')], x='Label', palette='Set2')\n",
    "plt.title('Balanceamento de Classes')\n",
    "plt.xlabel('Classe')\n",
    "plt.ylabel('Contagem de Amostras')\n",
    "plt.show()"
   ]
  },
  {
   "cell_type": "markdown",
   "metadata": {},
   "source": [
    "# Lista de Sensores unicos"
   ]
  },
  {
   "cell_type": "code",
   "execution_count": 32,
   "metadata": {},
   "outputs": [
    {
     "data": {
      "text/plain": [
       "['D001',\n",
       " 'D002',\n",
       " 'D004',\n",
       " 'M001',\n",
       " 'M002',\n",
       " 'M003',\n",
       " 'M004',\n",
       " 'M005',\n",
       " 'M006',\n",
       " 'M007',\n",
       " 'M008',\n",
       " 'M009',\n",
       " 'M010',\n",
       " 'M011',\n",
       " 'M012',\n",
       " 'M013',\n",
       " 'M014',\n",
       " 'M015',\n",
       " 'M016',\n",
       " 'M017',\n",
       " 'M018',\n",
       " 'M019',\n",
       " 'M020',\n",
       " 'M021',\n",
       " 'M022',\n",
       " 'M023',\n",
       " 'M024',\n",
       " 'M025',\n",
       " 'M026',\n",
       " 'M027',\n",
       " 'M028',\n",
       " 'M029',\n",
       " 'M030',\n",
       " 'M031',\n",
       " 'T001',\n",
       " 'T002',\n",
       " 'T003',\n",
       " 'T004',\n",
       " 'T005']"
      ]
     },
     "execution_count": 32,
     "metadata": {},
     "output_type": "execute_result"
    }
   ],
   "source": [
    "lista_de_sensores = sorted(df.Id_Sensor.unique().astype(str))\n",
    "lista_de_sensores"
   ]
  },
  {
   "cell_type": "markdown",
   "metadata": {},
   "source": [
    "# Lista de atividades"
   ]
  },
  {
   "cell_type": "code",
   "execution_count": 33,
   "metadata": {},
   "outputs": [],
   "source": [
    "lista_de_atividades = sorted(df['Label'].astype('str').unique())"
   ]
  },
  {
   "cell_type": "code",
   "execution_count": 34,
   "metadata": {},
   "outputs": [
    {
     "data": {
      "text/plain": [
       "['Bed_to_Toilet',\n",
       " 'Eating',\n",
       " 'Enter_Home',\n",
       " 'Housekeeping',\n",
       " 'Leave_Home',\n",
       " 'Meal_Preparation',\n",
       " 'Relax',\n",
       " 'Respirate',\n",
       " 'Sleeping',\n",
       " 'Wash_Dishes',\n",
       " 'Work']"
      ]
     },
     "execution_count": 34,
     "metadata": {},
     "output_type": "execute_result"
    }
   ],
   "source": [
    "lista_de_atividades"
   ]
  },
  {
   "cell_type": "markdown",
   "metadata": {},
   "source": [
    "# Apagar Colunas desnecessarias"
   ]
  },
  {
   "cell_type": "code",
   "execution_count": 6,
   "metadata": {},
   "outputs": [
    {
     "data": {
      "text/plain": [
       "True"
      ]
     },
     "execution_count": 6,
     "metadata": {},
     "output_type": "execute_result"
    }
   ],
   "source": [
    "len((df['Valor_Sensor'] == 'ON') | (df['Valor_Sensor'] == 'OFF')) == len(df)"
   ]
  },
  {
   "cell_type": "code",
   "execution_count": 35,
   "metadata": {},
   "outputs": [],
   "source": [
    "df.drop(['Data','Hora'], axis=1, inplace=True)"
   ]
  },
  {
   "cell_type": "code",
   "execution_count": 36,
   "metadata": {},
   "outputs": [
    {
     "data": {
      "text/html": [
       "<div>\n",
       "<style scoped>\n",
       "    .dataframe tbody tr th:only-of-type {\n",
       "        vertical-align: middle;\n",
       "    }\n",
       "\n",
       "    .dataframe tbody tr th {\n",
       "        vertical-align: top;\n",
       "    }\n",
       "\n",
       "    .dataframe thead th {\n",
       "        text-align: right;\n",
       "    }\n",
       "</style>\n",
       "<table border=\"1\" class=\"dataframe\">\n",
       "  <thead>\n",
       "    <tr style=\"text-align: right;\">\n",
       "      <th></th>\n",
       "      <th>TimeStamp</th>\n",
       "      <th>Id_Sensor</th>\n",
       "      <th>Valor_Sensor</th>\n",
       "      <th>Label</th>\n",
       "      <th>Log</th>\n",
       "    </tr>\n",
       "  </thead>\n",
       "  <tbody>\n",
       "    <tr>\n",
       "      <th>0</th>\n",
       "      <td>2010-11-04 00:03:50.209589</td>\n",
       "      <td>M003</td>\n",
       "      <td>ON</td>\n",
       "      <td>Sleeping</td>\n",
       "      <td>begin</td>\n",
       "    </tr>\n",
       "    <tr>\n",
       "      <th>1</th>\n",
       "      <td>2010-11-04 00:03:57.399391</td>\n",
       "      <td>M003</td>\n",
       "      <td>OFF</td>\n",
       "      <td>Sleeping</td>\n",
       "      <td>NaN</td>\n",
       "    </tr>\n",
       "    <tr>\n",
       "      <th>2</th>\n",
       "      <td>2010-11-04 00:15:08.984841</td>\n",
       "      <td>T002</td>\n",
       "      <td>21.5</td>\n",
       "      <td>Sleeping</td>\n",
       "      <td>NaN</td>\n",
       "    </tr>\n",
       "    <tr>\n",
       "      <th>3</th>\n",
       "      <td>2010-11-04 00:30:19.185547</td>\n",
       "      <td>T003</td>\n",
       "      <td>21</td>\n",
       "      <td>Sleeping</td>\n",
       "      <td>NaN</td>\n",
       "    </tr>\n",
       "    <tr>\n",
       "      <th>4</th>\n",
       "      <td>2010-11-04 00:30:19.385336</td>\n",
       "      <td>T004</td>\n",
       "      <td>21</td>\n",
       "      <td>Sleeping</td>\n",
       "      <td>NaN</td>\n",
       "    </tr>\n",
       "    <tr>\n",
       "      <th>...</th>\n",
       "      <td>...</td>\n",
       "      <td>...</td>\n",
       "      <td>...</td>\n",
       "      <td>...</td>\n",
       "      <td>...</td>\n",
       "    </tr>\n",
       "    <tr>\n",
       "      <th>792594</th>\n",
       "      <td>2011-06-11 23:42:59.285070</td>\n",
       "      <td>T002</td>\n",
       "      <td>25.5</td>\n",
       "      <td>Sleeping</td>\n",
       "      <td>NaN</td>\n",
       "    </tr>\n",
       "    <tr>\n",
       "      <th>792595</th>\n",
       "      <td>2011-06-11 23:48:02.888409</td>\n",
       "      <td>T001</td>\n",
       "      <td>23.5</td>\n",
       "      <td>Sleeping</td>\n",
       "      <td>NaN</td>\n",
       "    </tr>\n",
       "    <tr>\n",
       "      <th>792596</th>\n",
       "      <td>2011-06-11 23:48:02.988798</td>\n",
       "      <td>T002</td>\n",
       "      <td>25</td>\n",
       "      <td>Sleeping</td>\n",
       "      <td>NaN</td>\n",
       "    </tr>\n",
       "    <tr>\n",
       "      <th>792597</th>\n",
       "      <td>2011-06-11 23:53:06.429200</td>\n",
       "      <td>T002</td>\n",
       "      <td>25.5</td>\n",
       "      <td>Sleeping</td>\n",
       "      <td>NaN</td>\n",
       "    </tr>\n",
       "    <tr>\n",
       "      <th>792598</th>\n",
       "      <td>2011-06-11 23:58:10.004834</td>\n",
       "      <td>T002</td>\n",
       "      <td>25</td>\n",
       "      <td>Sleeping</td>\n",
       "      <td>end</td>\n",
       "    </tr>\n",
       "  </tbody>\n",
       "</table>\n",
       "<p>792599 rows × 5 columns</p>\n",
       "</div>"
      ],
      "text/plain": [
       "                        TimeStamp Id_Sensor Valor_Sensor     Label    Log\n",
       "0      2010-11-04 00:03:50.209589      M003           ON  Sleeping  begin\n",
       "1      2010-11-04 00:03:57.399391      M003          OFF  Sleeping    NaN\n",
       "2      2010-11-04 00:15:08.984841      T002         21.5  Sleeping    NaN\n",
       "3      2010-11-04 00:30:19.185547      T003           21  Sleeping    NaN\n",
       "4      2010-11-04 00:30:19.385336      T004           21  Sleeping    NaN\n",
       "...                           ...       ...          ...       ...    ...\n",
       "792594 2011-06-11 23:42:59.285070      T002         25.5  Sleeping    NaN\n",
       "792595 2011-06-11 23:48:02.888409      T001         23.5  Sleeping    NaN\n",
       "792596 2011-06-11 23:48:02.988798      T002           25  Sleeping    NaN\n",
       "792597 2011-06-11 23:53:06.429200      T002         25.5  Sleeping    NaN\n",
       "792598 2011-06-11 23:58:10.004834      T002           25  Sleeping    end\n",
       "\n",
       "[792599 rows x 5 columns]"
      ]
     },
     "execution_count": 36,
     "metadata": {},
     "output_type": "execute_result"
    }
   ],
   "source": [
    "df"
   ]
  },
  {
   "cell_type": "code",
   "execution_count": 37,
   "metadata": {},
   "outputs": [
    {
     "name": "stdout",
     "output_type": "stream",
     "text": [
      "<class 'pandas.core.frame.DataFrame'>\n",
      "RangeIndex: 792599 entries, 0 to 792598\n",
      "Data columns (total 5 columns):\n",
      " #   Column        Non-Null Count   Dtype         \n",
      "---  ------        --------------   -----         \n",
      " 0   TimeStamp     792599 non-null  datetime64[ns]\n",
      " 1   Id_Sensor     792599 non-null  object        \n",
      " 2   Valor_Sensor  792599 non-null  object        \n",
      " 3   Label         792599 non-null  object        \n",
      " 4   Log           12954 non-null   object        \n",
      "dtypes: datetime64[ns](1), object(4)\n",
      "memory usage: 30.2+ MB\n"
     ]
    }
   ],
   "source": [
    "df.info()"
   ]
  },
  {
   "cell_type": "code",
   "execution_count": 38,
   "metadata": {},
   "outputs": [
    {
     "data": {
      "text/plain": [
       "(Timestamp('2011-06-11 23:58:10.004834'),\n",
       " Timestamp('2010-11-04 00:03:50.209589'))"
      ]
     },
     "execution_count": 38,
     "metadata": {},
     "output_type": "execute_result"
    }
   ],
   "source": [
    "max(df['TimeStamp']), min(df['TimeStamp'])"
   ]
  },
  {
   "cell_type": "code",
   "execution_count": 39,
   "metadata": {},
   "outputs": [
    {
     "data": {
      "text/plain": [
       "Index(['TimeStamp', 'Id_Sensor', 'Valor_Sensor', 'Label', 'Log'], dtype='object')"
      ]
     },
     "execution_count": 39,
     "metadata": {},
     "output_type": "execute_result"
    }
   ],
   "source": [
    "df.columns"
   ]
  },
  {
   "cell_type": "markdown",
   "metadata": {},
   "source": [
    "# Resolver Temperatura com valores Inconsistentes"
   ]
  },
  {
   "cell_type": "code",
   "execution_count": 40,
   "metadata": {},
   "outputs": [],
   "source": [
    "df.loc[df['Valor_Sensor'] == '28.55c', 'Valor_Sensor'] = float(28.55)\n",
    "df.loc[df['Valor_Sensor'] == '28.26cc', 'Valor_Sensor'] = float(28.26)\n",
    "df.loc[df['Valor_Sensor'] == '26cc', 'Valor_Sensor'] = float(26)"
   ]
  },
  {
   "cell_type": "code",
   "execution_count": 41,
   "metadata": {},
   "outputs": [],
   "source": [
    "df.loc[df['Id_Sensor'].str[0] == 'T', 'Valor_Sensor'] = df[df['Id_Sensor'].str[0] == 'T'].apply(lambda x: pd.to_numeric(x['Valor_Sensor']) , axis=1)"
   ]
  },
  {
   "cell_type": "markdown",
   "metadata": {},
   "source": [
    "# Transformar Valores de Sensores de categoricos para numerico"
   ]
  },
  {
   "cell_type": "code",
   "execution_count": 42,
   "metadata": {},
   "outputs": [],
   "source": [
    "df.loc[df['Valor_Sensor'].isin(['ON','OPEN']), 'Valor_Sensor'] = int(1)"
   ]
  },
  {
   "cell_type": "code",
   "execution_count": 43,
   "metadata": {},
   "outputs": [],
   "source": [
    "df.loc[df['Valor_Sensor'].isin(['OFF','CLOSE']), 'Valor_Sensor'] = int(0)"
   ]
  },
  {
   "cell_type": "code",
   "execution_count": 44,
   "metadata": {},
   "outputs": [
    {
     "data": {
      "text/html": [
       "<div>\n",
       "<style scoped>\n",
       "    .dataframe tbody tr th:only-of-type {\n",
       "        vertical-align: middle;\n",
       "    }\n",
       "\n",
       "    .dataframe tbody tr th {\n",
       "        vertical-align: top;\n",
       "    }\n",
       "\n",
       "    .dataframe thead th {\n",
       "        text-align: right;\n",
       "    }\n",
       "</style>\n",
       "<table border=\"1\" class=\"dataframe\">\n",
       "  <thead>\n",
       "    <tr style=\"text-align: right;\">\n",
       "      <th></th>\n",
       "      <th>TimeStamp</th>\n",
       "      <th>Id_Sensor</th>\n",
       "      <th>Valor_Sensor</th>\n",
       "      <th>Label</th>\n",
       "      <th>Log</th>\n",
       "    </tr>\n",
       "  </thead>\n",
       "  <tbody>\n",
       "    <tr>\n",
       "      <th>0</th>\n",
       "      <td>2010-11-04 00:03:50.209589</td>\n",
       "      <td>M003</td>\n",
       "      <td>1</td>\n",
       "      <td>Sleeping</td>\n",
       "      <td>begin</td>\n",
       "    </tr>\n",
       "    <tr>\n",
       "      <th>1</th>\n",
       "      <td>2010-11-04 00:03:57.399391</td>\n",
       "      <td>M003</td>\n",
       "      <td>0</td>\n",
       "      <td>Sleeping</td>\n",
       "      <td>NaN</td>\n",
       "    </tr>\n",
       "    <tr>\n",
       "      <th>2</th>\n",
       "      <td>2010-11-04 00:15:08.984841</td>\n",
       "      <td>T002</td>\n",
       "      <td>21.5</td>\n",
       "      <td>Sleeping</td>\n",
       "      <td>NaN</td>\n",
       "    </tr>\n",
       "    <tr>\n",
       "      <th>3</th>\n",
       "      <td>2010-11-04 00:30:19.185547</td>\n",
       "      <td>T003</td>\n",
       "      <td>21.0</td>\n",
       "      <td>Sleeping</td>\n",
       "      <td>NaN</td>\n",
       "    </tr>\n",
       "    <tr>\n",
       "      <th>4</th>\n",
       "      <td>2010-11-04 00:30:19.385336</td>\n",
       "      <td>T004</td>\n",
       "      <td>21.0</td>\n",
       "      <td>Sleeping</td>\n",
       "      <td>NaN</td>\n",
       "    </tr>\n",
       "    <tr>\n",
       "      <th>...</th>\n",
       "      <td>...</td>\n",
       "      <td>...</td>\n",
       "      <td>...</td>\n",
       "      <td>...</td>\n",
       "      <td>...</td>\n",
       "    </tr>\n",
       "    <tr>\n",
       "      <th>792594</th>\n",
       "      <td>2011-06-11 23:42:59.285070</td>\n",
       "      <td>T002</td>\n",
       "      <td>25.5</td>\n",
       "      <td>Sleeping</td>\n",
       "      <td>NaN</td>\n",
       "    </tr>\n",
       "    <tr>\n",
       "      <th>792595</th>\n",
       "      <td>2011-06-11 23:48:02.888409</td>\n",
       "      <td>T001</td>\n",
       "      <td>23.5</td>\n",
       "      <td>Sleeping</td>\n",
       "      <td>NaN</td>\n",
       "    </tr>\n",
       "    <tr>\n",
       "      <th>792596</th>\n",
       "      <td>2011-06-11 23:48:02.988798</td>\n",
       "      <td>T002</td>\n",
       "      <td>25.0</td>\n",
       "      <td>Sleeping</td>\n",
       "      <td>NaN</td>\n",
       "    </tr>\n",
       "    <tr>\n",
       "      <th>792597</th>\n",
       "      <td>2011-06-11 23:53:06.429200</td>\n",
       "      <td>T002</td>\n",
       "      <td>25.5</td>\n",
       "      <td>Sleeping</td>\n",
       "      <td>NaN</td>\n",
       "    </tr>\n",
       "    <tr>\n",
       "      <th>792598</th>\n",
       "      <td>2011-06-11 23:58:10.004834</td>\n",
       "      <td>T002</td>\n",
       "      <td>25.0</td>\n",
       "      <td>Sleeping</td>\n",
       "      <td>end</td>\n",
       "    </tr>\n",
       "  </tbody>\n",
       "</table>\n",
       "<p>792599 rows × 5 columns</p>\n",
       "</div>"
      ],
      "text/plain": [
       "                        TimeStamp Id_Sensor Valor_Sensor     Label    Log\n",
       "0      2010-11-04 00:03:50.209589      M003            1  Sleeping  begin\n",
       "1      2010-11-04 00:03:57.399391      M003            0  Sleeping    NaN\n",
       "2      2010-11-04 00:15:08.984841      T002         21.5  Sleeping    NaN\n",
       "3      2010-11-04 00:30:19.185547      T003         21.0  Sleeping    NaN\n",
       "4      2010-11-04 00:30:19.385336      T004         21.0  Sleeping    NaN\n",
       "...                           ...       ...          ...       ...    ...\n",
       "792594 2011-06-11 23:42:59.285070      T002         25.5  Sleeping    NaN\n",
       "792595 2011-06-11 23:48:02.888409      T001         23.5  Sleeping    NaN\n",
       "792596 2011-06-11 23:48:02.988798      T002         25.0  Sleeping    NaN\n",
       "792597 2011-06-11 23:53:06.429200      T002         25.5  Sleeping    NaN\n",
       "792598 2011-06-11 23:58:10.004834      T002         25.0  Sleeping    end\n",
       "\n",
       "[792599 rows x 5 columns]"
      ]
     },
     "execution_count": 44,
     "metadata": {},
     "output_type": "execute_result"
    }
   ],
   "source": [
    "df"
   ]
  },
  {
   "cell_type": "markdown",
   "metadata": {},
   "source": [
    "# Analisar a Temperatura"
   ]
  },
  {
   "cell_type": "code",
   "execution_count": 45,
   "metadata": {},
   "outputs": [
    {
     "data": {
      "text/html": [
       "<div>\n",
       "<style scoped>\n",
       "    .dataframe tbody tr th:only-of-type {\n",
       "        vertical-align: middle;\n",
       "    }\n",
       "\n",
       "    .dataframe tbody tr th {\n",
       "        vertical-align: top;\n",
       "    }\n",
       "\n",
       "    .dataframe thead th {\n",
       "        text-align: right;\n",
       "    }\n",
       "</style>\n",
       "<table border=\"1\" class=\"dataframe\">\n",
       "  <thead>\n",
       "    <tr style=\"text-align: right;\">\n",
       "      <th></th>\n",
       "      <th>TimeStamp</th>\n",
       "      <th>Id_Sensor</th>\n",
       "      <th>Valor_Sensor</th>\n",
       "      <th>Label</th>\n",
       "      <th>Log</th>\n",
       "    </tr>\n",
       "  </thead>\n",
       "  <tbody>\n",
       "    <tr>\n",
       "      <th>792598</th>\n",
       "      <td>2011-06-11 23:58:10.004834</td>\n",
       "      <td>T002</td>\n",
       "      <td>25.0</td>\n",
       "      <td>Sleeping</td>\n",
       "      <td>end</td>\n",
       "    </tr>\n",
       "  </tbody>\n",
       "</table>\n",
       "</div>"
      ],
      "text/plain": [
       "                        TimeStamp Id_Sensor Valor_Sensor     Label  Log\n",
       "792598 2011-06-11 23:58:10.004834      T002         25.0  Sleeping  end"
      ]
     },
     "execution_count": 45,
     "metadata": {},
     "output_type": "execute_result"
    }
   ],
   "source": [
    "df[(df['Id_Sensor'].str[0] == 'T') & ((df['Log'] == 'begin') | (df['Log'] == 'end'))]"
   ]
  },
  {
   "cell_type": "code",
   "execution_count": 46,
   "metadata": {},
   "outputs": [],
   "source": [
    "df.Valor_Sensor = pd.to_numeric(df.Valor_Sensor)"
   ]
  },
  {
   "cell_type": "code",
   "execution_count": 47,
   "metadata": {},
   "outputs": [
    {
     "name": "stdout",
     "output_type": "stream",
     "text": [
      "<class 'pandas.core.frame.DataFrame'>\n",
      "RangeIndex: 792599 entries, 0 to 792598\n",
      "Data columns (total 5 columns):\n",
      " #   Column        Non-Null Count   Dtype         \n",
      "---  ------        --------------   -----         \n",
      " 0   TimeStamp     792599 non-null  datetime64[ns]\n",
      " 1   Id_Sensor     792599 non-null  object        \n",
      " 2   Valor_Sensor  792599 non-null  float64       \n",
      " 3   Label         792599 non-null  object        \n",
      " 4   Log           12954 non-null   object        \n",
      "dtypes: datetime64[ns](1), float64(1), object(3)\n",
      "memory usage: 30.2+ MB\n"
     ]
    }
   ],
   "source": [
    "df.info()"
   ]
  },
  {
   "cell_type": "code",
   "execution_count": 51,
   "metadata": {},
   "outputs": [],
   "source": [
    "df_temperatura = df[df['Id_Sensor'].str[0] == 'T'].copy()"
   ]
  },
  {
   "cell_type": "code",
   "execution_count": 48,
   "metadata": {},
   "outputs": [
    {
     "data": {
      "text/plain": [
       "792599"
      ]
     },
     "execution_count": 48,
     "metadata": {},
     "output_type": "execute_result"
    }
   ],
   "source": [
    "len(df)"
   ]
  },
  {
   "cell_type": "code",
   "execution_count": 49,
   "metadata": {},
   "outputs": [
    {
     "data": {
      "text/plain": [
       "count    73275.000000\n",
       "mean        22.609671\n",
       "std          3.458539\n",
       "min         16.000000\n",
       "25%         20.500000\n",
       "50%         22.500000\n",
       "75%         24.500000\n",
       "max        285.000000\n",
       "Name: Valor_Sensor, dtype: float64"
      ]
     },
     "execution_count": 49,
     "metadata": {},
     "output_type": "execute_result"
    }
   ],
   "source": [
    "df[df['Id_Sensor'].str[0] == 'T']['Valor_Sensor'].describe()"
   ]
  },
  {
   "cell_type": "code",
   "execution_count": 118,
   "metadata": {},
   "outputs": [
    {
     "data": {
      "text/plain": [
       "285.0"
      ]
     },
     "execution_count": 118,
     "metadata": {},
     "output_type": "execute_result"
    }
   ],
   "source": [
    "max(df[df['Id_Sensor'].str[0] == 'T']['Valor_Sensor'])"
   ]
  },
  {
   "cell_type": "code",
   "execution_count": 110,
   "metadata": {},
   "outputs": [
    {
     "data": {
      "image/png": "[encoded data removed]",
      "text/plain": [
       "<Figure size 800x600 with 1 Axes>"
      ]
     },
     "metadata": {},
     "output_type": "display_data"
    }
   ],
   "source": [
    "plt.figure(figsize=(8, 6))  \n",
    "plt.boxplot(df[df['Id_Sensor'].str[0] == 'T']['Valor_Sensor'])  \n",
    "plt.title('Boxplot da Temperatura') \n",
    "plt.ylabel('Valores')  \n",
    "plt.show()"
   ]
  },
  {
   "cell_type": "code",
   "execution_count": 36,
   "metadata": {},
   "outputs": [],
   "source": [
    "gp_T = df_temperatura.groupby(by='Label')"
   ]
  },
  {
   "cell_type": "code",
   "execution_count": 164,
   "metadata": {},
   "outputs": [
    {
     "data": {
      "text/plain": [
       "Label\n",
       "Bed_to_Toilet       21.019608\n",
       "Eating              24.947389\n",
       "Enter_Home          22.107143\n",
       "Housekeeping        25.351190\n",
       "Leave_Home          24.113636\n",
       "Meal_Preparation    24.158683\n",
       "Relax               23.708782\n",
       "Respirate           23.413793\n",
       "Sleeping            20.934143\n",
       "Wash_Dishes         25.013761\n",
       "Work                24.333587\n",
       "Name: Valor_Sensor, dtype: float64"
      ]
     },
     "execution_count": 164,
     "metadata": {},
     "output_type": "execute_result"
    }
   ],
   "source": [
    "gp_T['Valor_Sensor'].mean()"
   ]
  },
  {
   "cell_type": "code",
   "execution_count": 166,
   "metadata": {},
   "outputs": [
    {
     "data": {
      "text/plain": [
       "Label\n",
       "Bed_to_Toilet       17.0\n",
       "Eating              18.0\n",
       "Enter_Home          18.0\n",
       "Housekeeping        19.0\n",
       "Leave_Home          22.5\n",
       "Meal_Preparation    16.5\n",
       "Relax               16.0\n",
       "Respirate           21.0\n",
       "Sleeping            16.5\n",
       "Wash_Dishes         18.5\n",
       "Work                17.0\n",
       "Name: Valor_Sensor, dtype: float64"
      ]
     },
     "execution_count": 166,
     "metadata": {},
     "output_type": "execute_result"
    }
   ],
   "source": [
    "gp_T['Valor_Sensor'].min()"
   ]
  },
  {
   "cell_type": "code",
   "execution_count": 167,
   "metadata": {},
   "outputs": [
    {
     "data": {
      "text/plain": [
       "Label\n",
       "Bed_to_Toilet        27.5\n",
       "Eating               42.0\n",
       "Enter_Home           25.0\n",
       "Housekeeping         39.0\n",
       "Leave_Home           26.5\n",
       "Meal_Preparation    285.0\n",
       "Relax               245.0\n",
       "Respirate            27.0\n",
       "Sleeping             34.5\n",
       "Wash_Dishes          34.5\n",
       "Work                 37.0\n",
       "Name: Valor_Sensor, dtype: float64"
      ]
     },
     "execution_count": 167,
     "metadata": {},
     "output_type": "execute_result"
    }
   ],
   "source": [
    "gp_T['Valor_Sensor'].max()"
   ]
  },
  {
   "cell_type": "code",
   "execution_count": 168,
   "metadata": {},
   "outputs": [
    {
     "data": {
      "text/plain": [
       "Label\n",
       "Bed_to_Toilet       21.00\n",
       "Eating              24.50\n",
       "Enter_Home          22.75\n",
       "Housekeeping        24.50\n",
       "Leave_Home          24.00\n",
       "Meal_Preparation    23.50\n",
       "Relax               23.50\n",
       "Respirate           23.00\n",
       "Sleeping            20.50\n",
       "Wash_Dishes         24.75\n",
       "Work                24.00\n",
       "Name: Valor_Sensor, dtype: float64"
      ]
     },
     "execution_count": 168,
     "metadata": {},
     "output_type": "execute_result"
    }
   ],
   "source": [
    "gp_T['Valor_Sensor'].median()"
   ]
  },
  {
   "cell_type": "code",
   "execution_count": 52,
   "metadata": {},
   "outputs": [
    {
     "data": {
      "text/plain": [
       "Index([110929], dtype='int64')"
      ]
     },
     "execution_count": 52,
     "metadata": {},
     "output_type": "execute_result"
    }
   ],
   "source": [
    "df_temperatura[df_temperatura['Valor_Sensor'] == 285]['Valor_Sensor'].index"
   ]
  },
  {
   "cell_type": "code",
   "execution_count": 62,
   "metadata": {},
   "outputs": [
    {
     "data": {
      "text/plain": [
       "0    15\n",
       "dtype: int64"
      ]
     },
     "execution_count": 62,
     "metadata": {},
     "output_type": "execute_result"
    }
   ],
   "source": [
    "pd.Series(15)"
   ]
  },
  {
   "cell_type": "code",
   "execution_count": 70,
   "metadata": {},
   "outputs": [],
   "source": [
    "def solTemp(a):\n",
    "    #return pd.Series(float(str(a.values[0])[:2]+'.'+str(a.values[0])[2]))\n",
    "    return float(str(a)[:2]+'.'+str(a)[2]) "
   ]
  },
  {
   "cell_type": "code",
   "execution_count": 53,
   "metadata": {},
   "outputs": [],
   "source": [
    "Q1 = df[df['Id_Sensor'].str[0] == 'T']['Valor_Sensor'].quantile(0.25)\n",
    "Q3 = df[df['Id_Sensor'].str[0] == 'T']['Valor_Sensor'].quantile(0.75)\n",
    "\n",
    "# Intervalo interquartil (IQR)\n",
    "IQR = Q3 - Q1\n",
    "\n",
    "# Os limites superior e inferior\n",
    "limite_inferior = Q1 - 1.5 * IQR\n",
    "limite_superior = Q3 + 1.5 * IQR\n",
    "\n",
    "\n",
    "# Remover\n",
    "#df = df[df['Id_Sensor'].str[0] == 'T'][(df[df['Id_Sensor'].str[0] == 'T']['Valor_Sensor'] >= limite_inferior) & (df[df['Id_Sensor'].str[0] == 'T']['Valor_Sensor'] <= limite_superior)]"
   ]
  },
  {
   "cell_type": "code",
   "execution_count": 54,
   "metadata": {},
   "outputs": [
    {
     "data": {
      "text/html": [
       "<div>\n",
       "<style scoped>\n",
       "    .dataframe tbody tr th:only-of-type {\n",
       "        vertical-align: middle;\n",
       "    }\n",
       "\n",
       "    .dataframe tbody tr th {\n",
       "        vertical-align: top;\n",
       "    }\n",
       "\n",
       "    .dataframe thead th {\n",
       "        text-align: right;\n",
       "    }\n",
       "</style>\n",
       "<table border=\"1\" class=\"dataframe\">\n",
       "  <thead>\n",
       "    <tr style=\"text-align: right;\">\n",
       "      <th></th>\n",
       "      <th>TimeStamp</th>\n",
       "      <th>Id_Sensor</th>\n",
       "      <th>Valor_Sensor</th>\n",
       "      <th>Label</th>\n",
       "      <th>Log</th>\n",
       "    </tr>\n",
       "  </thead>\n",
       "  <tbody>\n",
       "    <tr>\n",
       "      <th>110929</th>\n",
       "      <td>2010-12-13 12:38:55.759074</td>\n",
       "      <td>T002</td>\n",
       "      <td>285.0</td>\n",
       "      <td>Meal_Preparation</td>\n",
       "      <td>NaN</td>\n",
       "    </tr>\n",
       "    <tr>\n",
       "      <th>130705</th>\n",
       "      <td>2010-12-18 20:32:58.686535</td>\n",
       "      <td>T002</td>\n",
       "      <td>245.0</td>\n",
       "      <td>Relax</td>\n",
       "      <td>NaN</td>\n",
       "    </tr>\n",
       "    <tr>\n",
       "      <th>131276</th>\n",
       "      <td>2010-12-18 23:55:11.163266</td>\n",
       "      <td>T003</td>\n",
       "      <td>235.0</td>\n",
       "      <td>Relax</td>\n",
       "      <td>NaN</td>\n",
       "    </tr>\n",
       "    <tr>\n",
       "      <th>131031</th>\n",
       "      <td>2010-12-18 22:09:01.764377</td>\n",
       "      <td>T001</td>\n",
       "      <td>225.0</td>\n",
       "      <td>Relax</td>\n",
       "      <td>NaN</td>\n",
       "    </tr>\n",
       "    <tr>\n",
       "      <th>591895</th>\n",
       "      <td>2011-04-14 16:51:06.799245</td>\n",
       "      <td>T003</td>\n",
       "      <td>42.5</td>\n",
       "      <td>Relax</td>\n",
       "      <td>NaN</td>\n",
       "    </tr>\n",
       "    <tr>\n",
       "      <th>...</th>\n",
       "      <td>...</td>\n",
       "      <td>...</td>\n",
       "      <td>...</td>\n",
       "      <td>...</td>\n",
       "      <td>...</td>\n",
       "    </tr>\n",
       "    <tr>\n",
       "      <th>95679</th>\n",
       "      <td>2010-12-07 15:36:13.848330</td>\n",
       "      <td>T005</td>\n",
       "      <td>31.0</td>\n",
       "      <td>Meal_Preparation</td>\n",
       "      <td>NaN</td>\n",
       "    </tr>\n",
       "    <tr>\n",
       "      <th>95320</th>\n",
       "      <td>2010-12-07 10:22:47.400726</td>\n",
       "      <td>T005</td>\n",
       "      <td>31.0</td>\n",
       "      <td>Eating</td>\n",
       "      <td>NaN</td>\n",
       "    </tr>\n",
       "    <tr>\n",
       "      <th>413579</th>\n",
       "      <td>2011-02-28 14:44:46.623714</td>\n",
       "      <td>T005</td>\n",
       "      <td>31.0</td>\n",
       "      <td>Relax</td>\n",
       "      <td>NaN</td>\n",
       "    </tr>\n",
       "    <tr>\n",
       "      <th>88389</th>\n",
       "      <td>2010-12-05 00:09:32.648250</td>\n",
       "      <td>T005</td>\n",
       "      <td>31.0</td>\n",
       "      <td>Sleeping</td>\n",
       "      <td>NaN</td>\n",
       "    </tr>\n",
       "    <tr>\n",
       "      <th>313096</th>\n",
       "      <td>2011-02-03 18:21:07.820526</td>\n",
       "      <td>T003</td>\n",
       "      <td>31.0</td>\n",
       "      <td>Meal_Preparation</td>\n",
       "      <td>NaN</td>\n",
       "    </tr>\n",
       "  </tbody>\n",
       "</table>\n",
       "<p>1108 rows × 5 columns</p>\n",
       "</div>"
      ],
      "text/plain": [
       "                        TimeStamp Id_Sensor  Valor_Sensor             Label  \\\n",
       "110929 2010-12-13 12:38:55.759074      T002         285.0  Meal_Preparation   \n",
       "130705 2010-12-18 20:32:58.686535      T002         245.0             Relax   \n",
       "131276 2010-12-18 23:55:11.163266      T003         235.0             Relax   \n",
       "131031 2010-12-18 22:09:01.764377      T001         225.0             Relax   \n",
       "591895 2011-04-14 16:51:06.799245      T003          42.5             Relax   \n",
       "...                           ...       ...           ...               ...   \n",
       "95679  2010-12-07 15:36:13.848330      T005          31.0  Meal_Preparation   \n",
       "95320  2010-12-07 10:22:47.400726      T005          31.0            Eating   \n",
       "413579 2011-02-28 14:44:46.623714      T005          31.0             Relax   \n",
       "88389  2010-12-05 00:09:32.648250      T005          31.0          Sleeping   \n",
       "313096 2011-02-03 18:21:07.820526      T003          31.0  Meal_Preparation   \n",
       "\n",
       "        Log  \n",
       "110929  NaN  \n",
       "130705  NaN  \n",
       "131276  NaN  \n",
       "131031  NaN  \n",
       "591895  NaN  \n",
       "...     ...  \n",
       "95679   NaN  \n",
       "95320   NaN  \n",
       "413579  NaN  \n",
       "88389   NaN  \n",
       "313096  NaN  \n",
       "\n",
       "[1108 rows x 5 columns]"
      ]
     },
     "execution_count": 54,
     "metadata": {},
     "output_type": "execute_result"
    }
   ],
   "source": [
    "df[(df['Id_Sensor'].str[0]=='T') & ((df['Valor_Sensor'] > limite_superior) | (df['Valor_Sensor'] < limite_inferior))].sort_values(by='Valor_Sensor', ascending=False)"
   ]
  },
  {
   "cell_type": "code",
   "execution_count": 55,
   "metadata": {},
   "outputs": [],
   "source": [
    "for i, row in df[(df['Id_Sensor'].str[0]=='T') & ((df['Valor_Sensor'] > limite_superior) | (df['Valor_Sensor'] < limite_inferior))].iterrows():\n",
    "    if(row['Valor_Sensor']>100):\n",
    "        df.iloc[i, df.columns.get_loc('Valor_Sensor')] = float(str(row['Valor_Sensor'])[:2]+'.'+str(row['Valor_Sensor'])[2])\n",
    "    elif(row['Valor_Sensor']>=31):\n",
    "        df.iloc[i, df.columns.get_loc('Valor_Sensor')] = df[df['Id_Sensor'].str[0] == 'T']['Valor_Sensor'].median()\n",
    "    #elif(row['Valor_Sensor']==31):\n",
    "    #    if((row['TimeStamp'].dt.month > 9 and row['TimeStamp'].dt.month <= 12) or row['TimeStamp'].dt.month == 1):\n",
    "    #        df.iloc[i, df.columns.get_loc('Valor_Sensor')] = df[df['Id_Sensor'].str[0] == 'T']['Valor_Sensor'].median()"
   ]
  },
  {
   "cell_type": "code",
   "execution_count": 56,
   "metadata": {},
   "outputs": [
    {
     "data": {
      "text/html": [
       "<div>\n",
       "<style scoped>\n",
       "    .dataframe tbody tr th:only-of-type {\n",
       "        vertical-align: middle;\n",
       "    }\n",
       "\n",
       "    .dataframe tbody tr th {\n",
       "        vertical-align: top;\n",
       "    }\n",
       "\n",
       "    .dataframe thead th {\n",
       "        text-align: right;\n",
       "    }\n",
       "</style>\n",
       "<table border=\"1\" class=\"dataframe\">\n",
       "  <thead>\n",
       "    <tr style=\"text-align: right;\">\n",
       "      <th></th>\n",
       "      <th>TimeStamp</th>\n",
       "      <th>Id_Sensor</th>\n",
       "      <th>Valor_Sensor</th>\n",
       "      <th>Label</th>\n",
       "      <th>Log</th>\n",
       "    </tr>\n",
       "  </thead>\n",
       "  <tbody>\n",
       "  </tbody>\n",
       "</table>\n",
       "</div>"
      ],
      "text/plain": [
       "Empty DataFrame\n",
       "Columns: [TimeStamp, Id_Sensor, Valor_Sensor, Label, Log]\n",
       "Index: []"
      ]
     },
     "execution_count": 56,
     "metadata": {},
     "output_type": "execute_result"
    }
   ],
   "source": [
    "df[(df['Id_Sensor'].str[0]=='T') & ((df['Valor_Sensor'] > limite_superior) | (df['Valor_Sensor'] < limite_inferior))].sort_values(by='Id_Sensor', ascending=False)"
   ]
  },
  {
   "cell_type": "code",
   "execution_count": 57,
   "metadata": {},
   "outputs": [],
   "source": [
    "gp_T = df[df['Id_Sensor'].str[0] == 'T'].groupby(by='Label')"
   ]
  },
  {
   "cell_type": "code",
   "execution_count": 58,
   "metadata": {},
   "outputs": [
    {
     "data": {
      "text/plain": [
       "Label\n",
       "Bed_to_Toilet       21.00\n",
       "Eating              24.00\n",
       "Enter_Home          22.75\n",
       "Housekeeping        24.00\n",
       "Leave_Home          24.00\n",
       "Meal_Preparation    23.50\n",
       "Relax               23.50\n",
       "Respirate           23.00\n",
       "Sleeping            20.50\n",
       "Wash_Dishes         24.50\n",
       "Work                24.00\n",
       "Name: Valor_Sensor, dtype: float64"
      ]
     },
     "execution_count": 58,
     "metadata": {},
     "output_type": "execute_result"
    }
   ],
   "source": [
    "gp_T['Valor_Sensor'].median()"
   ]
  },
  {
   "cell_type": "code",
   "execution_count": 59,
   "metadata": {},
   "outputs": [
    {
     "data": {
      "text/plain": [
       "count    73275.000000\n",
       "mean        22.445215\n",
       "std          2.755013\n",
       "min         16.000000\n",
       "25%         20.500000\n",
       "50%         22.500000\n",
       "75%         24.000000\n",
       "max         30.500000\n",
       "Name: Valor_Sensor, dtype: float64"
      ]
     },
     "execution_count": 59,
     "metadata": {},
     "output_type": "execute_result"
    }
   ],
   "source": [
    "df[df['Id_Sensor'].str[0] == 'T']['Valor_Sensor'].describe()"
   ]
  },
  {
   "cell_type": "markdown",
   "metadata": {},
   "source": [
    "# Carregar Dataset com Tratamento antes da divisão"
   ]
  },
  {
   "cell_type": "code",
   "execution_count": 62,
   "metadata": {},
   "outputs": [],
   "source": [
    "#df.to_csv('df_preEncode.csv', index=False)"
   ]
  },
  {
   "cell_type": "code",
   "execution_count": 3,
   "metadata": {},
   "outputs": [],
   "source": [
    "df = pd.read_csv('df_preEncode.csv')\n",
    "df.TimeStamp = pd.to_datetime(df.TimeStamp)"
   ]
  },
  {
   "cell_type": "code",
   "execution_count": 29,
   "metadata": {},
   "outputs": [
    {
     "data": {
      "text/html": [
       "<div>\n",
       "<style scoped>\n",
       "    .dataframe tbody tr th:only-of-type {\n",
       "        vertical-align: middle;\n",
       "    }\n",
       "\n",
       "    .dataframe tbody tr th {\n",
       "        vertical-align: top;\n",
       "    }\n",
       "\n",
       "    .dataframe thead th {\n",
       "        text-align: right;\n",
       "    }\n",
       "</style>\n",
       "<table border=\"1\" class=\"dataframe\">\n",
       "  <thead>\n",
       "    <tr style=\"text-align: right;\">\n",
       "      <th></th>\n",
       "      <th>TimeStamp</th>\n",
       "      <th>Id_Sensor</th>\n",
       "      <th>Valor_Sensor</th>\n",
       "      <th>Label</th>\n",
       "      <th>Log</th>\n",
       "    </tr>\n",
       "  </thead>\n",
       "  <tbody>\n",
       "    <tr>\n",
       "      <th>0</th>\n",
       "      <td>2010-11-04 00:03:50.209589</td>\n",
       "      <td>M003</td>\n",
       "      <td>1.0</td>\n",
       "      <td>Sleeping</td>\n",
       "      <td>begin</td>\n",
       "    </tr>\n",
       "    <tr>\n",
       "      <th>1</th>\n",
       "      <td>2010-11-04 00:03:57.399391</td>\n",
       "      <td>M003</td>\n",
       "      <td>0.0</td>\n",
       "      <td>Sleeping</td>\n",
       "      <td>NaN</td>\n",
       "    </tr>\n",
       "    <tr>\n",
       "      <th>2</th>\n",
       "      <td>2010-11-04 00:15:08.984841</td>\n",
       "      <td>T002</td>\n",
       "      <td>21.5</td>\n",
       "      <td>Sleeping</td>\n",
       "      <td>NaN</td>\n",
       "    </tr>\n",
       "    <tr>\n",
       "      <th>3</th>\n",
       "      <td>2010-11-04 00:30:19.185547</td>\n",
       "      <td>T003</td>\n",
       "      <td>21.0</td>\n",
       "      <td>Sleeping</td>\n",
       "      <td>NaN</td>\n",
       "    </tr>\n",
       "    <tr>\n",
       "      <th>4</th>\n",
       "      <td>2010-11-04 00:30:19.385336</td>\n",
       "      <td>T004</td>\n",
       "      <td>21.0</td>\n",
       "      <td>Sleeping</td>\n",
       "      <td>NaN</td>\n",
       "    </tr>\n",
       "    <tr>\n",
       "      <th>...</th>\n",
       "      <td>...</td>\n",
       "      <td>...</td>\n",
       "      <td>...</td>\n",
       "      <td>...</td>\n",
       "      <td>...</td>\n",
       "    </tr>\n",
       "    <tr>\n",
       "      <th>792594</th>\n",
       "      <td>2011-06-11 23:42:59.285070</td>\n",
       "      <td>T002</td>\n",
       "      <td>25.5</td>\n",
       "      <td>Sleeping</td>\n",
       "      <td>NaN</td>\n",
       "    </tr>\n",
       "    <tr>\n",
       "      <th>792595</th>\n",
       "      <td>2011-06-11 23:48:02.888409</td>\n",
       "      <td>T001</td>\n",
       "      <td>23.5</td>\n",
       "      <td>Sleeping</td>\n",
       "      <td>NaN</td>\n",
       "    </tr>\n",
       "    <tr>\n",
       "      <th>792596</th>\n",
       "      <td>2011-06-11 23:48:02.988798</td>\n",
       "      <td>T002</td>\n",
       "      <td>25.0</td>\n",
       "      <td>Sleeping</td>\n",
       "      <td>NaN</td>\n",
       "    </tr>\n",
       "    <tr>\n",
       "      <th>792597</th>\n",
       "      <td>2011-06-11 23:53:06.429200</td>\n",
       "      <td>T002</td>\n",
       "      <td>25.5</td>\n",
       "      <td>Sleeping</td>\n",
       "      <td>NaN</td>\n",
       "    </tr>\n",
       "    <tr>\n",
       "      <th>792598</th>\n",
       "      <td>2011-06-11 23:58:10.004834</td>\n",
       "      <td>T002</td>\n",
       "      <td>25.0</td>\n",
       "      <td>Sleeping</td>\n",
       "      <td>end</td>\n",
       "    </tr>\n",
       "  </tbody>\n",
       "</table>\n",
       "<p>792599 rows × 5 columns</p>\n",
       "</div>"
      ],
      "text/plain": [
       "                        TimeStamp Id_Sensor  Valor_Sensor     Label    Log\n",
       "0      2010-11-04 00:03:50.209589      M003           1.0  Sleeping  begin\n",
       "1      2010-11-04 00:03:57.399391      M003           0.0  Sleeping    NaN\n",
       "2      2010-11-04 00:15:08.984841      T002          21.5  Sleeping    NaN\n",
       "3      2010-11-04 00:30:19.185547      T003          21.0  Sleeping    NaN\n",
       "4      2010-11-04 00:30:19.385336      T004          21.0  Sleeping    NaN\n",
       "...                           ...       ...           ...       ...    ...\n",
       "792594 2011-06-11 23:42:59.285070      T002          25.5  Sleeping    NaN\n",
       "792595 2011-06-11 23:48:02.888409      T001          23.5  Sleeping    NaN\n",
       "792596 2011-06-11 23:48:02.988798      T002          25.0  Sleeping    NaN\n",
       "792597 2011-06-11 23:53:06.429200      T002          25.5  Sleeping    NaN\n",
       "792598 2011-06-11 23:58:10.004834      T002          25.0  Sleeping    end\n",
       "\n",
       "[792599 rows x 5 columns]"
      ]
     },
     "execution_count": 29,
     "metadata": {},
     "output_type": "execute_result"
    }
   ],
   "source": [
    "df"
   ]
  },
  {
   "cell_type": "code",
   "execution_count": 10,
   "metadata": {},
   "outputs": [],
   "source": [
    "#df_nn = df.copy()"
   ]
  },
  {
   "cell_type": "markdown",
   "metadata": {},
   "source": [
    "# Encode pre-divisao"
   ]
  },
  {
   "cell_type": "markdown",
   "metadata": {},
   "source": [
    "## Label encode Id Sensor"
   ]
  },
  {
   "cell_type": "code",
   "execution_count": 4,
   "metadata": {},
   "outputs": [],
   "source": [
    "encoder_id = LabelEncoder()\n",
    "\n",
    "df['Id_Sensor'] = encoder_id.fit_transform(df['Id_Sensor'])"
   ]
  },
  {
   "cell_type": "markdown",
   "metadata": {},
   "source": [
    "## One Hor Id_sensor opcao 2"
   ]
  },
  {
   "cell_type": "code",
   "execution_count": 31,
   "metadata": {},
   "outputs": [],
   "source": [
    "encoder = OneHotEncoder(sparse=False)"
   ]
  },
  {
   "cell_type": "code",
   "execution_count": 32,
   "metadata": {},
   "outputs": [
    {
     "name": "stderr",
     "output_type": "stream",
     "text": [
      "/home/alebex/anaconda3/envs/DissertacaoCmDeepConfig/lib/python3.8/site-packages/sklearn/preprocessing/_encoders.py:808: FutureWarning: `sparse` was renamed to `sparse_output` in version 1.2 and will be removed in 1.4. `sparse_output` is ignored unless you leave `sparse` to its default value.\n",
      "  warnings.warn(\n"
     ]
    }
   ],
   "source": [
    "encoder.fit(df[['Id_Sensor']])\n",
    "\n",
    "# Transformar a feature_alvo em codificação one-hot\n",
    "feature_encoded = encoder.transform(df[['Id_Sensor']])"
   ]
  },
  {
   "cell_type": "code",
   "execution_count": 33,
   "metadata": {},
   "outputs": [
    {
     "data": {
      "text/html": [
       "<div>\n",
       "<style scoped>\n",
       "    .dataframe tbody tr th:only-of-type {\n",
       "        vertical-align: middle;\n",
       "    }\n",
       "\n",
       "    .dataframe tbody tr th {\n",
       "        vertical-align: top;\n",
       "    }\n",
       "\n",
       "    .dataframe thead th {\n",
       "        text-align: right;\n",
       "    }\n",
       "</style>\n",
       "<table border=\"1\" class=\"dataframe\">\n",
       "  <thead>\n",
       "    <tr style=\"text-align: right;\">\n",
       "      <th></th>\n",
       "      <th>Id_Sensor_D001</th>\n",
       "      <th>Id_Sensor_D002</th>\n",
       "      <th>Id_Sensor_D004</th>\n",
       "      <th>Id_Sensor_M001</th>\n",
       "      <th>Id_Sensor_M002</th>\n",
       "      <th>Id_Sensor_M003</th>\n",
       "      <th>Id_Sensor_M004</th>\n",
       "      <th>Id_Sensor_M005</th>\n",
       "      <th>Id_Sensor_M006</th>\n",
       "      <th>Id_Sensor_M007</th>\n",
       "      <th>...</th>\n",
       "      <th>Id_Sensor_M027</th>\n",
       "      <th>Id_Sensor_M028</th>\n",
       "      <th>Id_Sensor_M029</th>\n",
       "      <th>Id_Sensor_M030</th>\n",
       "      <th>Id_Sensor_M031</th>\n",
       "      <th>Id_Sensor_T001</th>\n",
       "      <th>Id_Sensor_T002</th>\n",
       "      <th>Id_Sensor_T003</th>\n",
       "      <th>Id_Sensor_T004</th>\n",
       "      <th>Id_Sensor_T005</th>\n",
       "    </tr>\n",
       "  </thead>\n",
       "  <tbody>\n",
       "    <tr>\n",
       "      <th>0</th>\n",
       "      <td>0.0</td>\n",
       "      <td>0.0</td>\n",
       "      <td>0.0</td>\n",
       "      <td>0.0</td>\n",
       "      <td>0.0</td>\n",
       "      <td>1.0</td>\n",
       "      <td>0.0</td>\n",
       "      <td>0.0</td>\n",
       "      <td>0.0</td>\n",
       "      <td>0.0</td>\n",
       "      <td>...</td>\n",
       "      <td>0.0</td>\n",
       "      <td>0.0</td>\n",
       "      <td>0.0</td>\n",
       "      <td>0.0</td>\n",
       "      <td>0.0</td>\n",
       "      <td>0.0</td>\n",
       "      <td>0.0</td>\n",
       "      <td>0.0</td>\n",
       "      <td>0.0</td>\n",
       "      <td>0.0</td>\n",
       "    </tr>\n",
       "    <tr>\n",
       "      <th>1</th>\n",
       "      <td>0.0</td>\n",
       "      <td>0.0</td>\n",
       "      <td>0.0</td>\n",
       "      <td>0.0</td>\n",
       "      <td>0.0</td>\n",
       "      <td>1.0</td>\n",
       "      <td>0.0</td>\n",
       "      <td>0.0</td>\n",
       "      <td>0.0</td>\n",
       "      <td>0.0</td>\n",
       "      <td>...</td>\n",
       "      <td>0.0</td>\n",
       "      <td>0.0</td>\n",
       "      <td>0.0</td>\n",
       "      <td>0.0</td>\n",
       "      <td>0.0</td>\n",
       "      <td>0.0</td>\n",
       "      <td>0.0</td>\n",
       "      <td>0.0</td>\n",
       "      <td>0.0</td>\n",
       "      <td>0.0</td>\n",
       "    </tr>\n",
       "    <tr>\n",
       "      <th>2</th>\n",
       "      <td>0.0</td>\n",
       "      <td>0.0</td>\n",
       "      <td>0.0</td>\n",
       "      <td>0.0</td>\n",
       "      <td>0.0</td>\n",
       "      <td>0.0</td>\n",
       "      <td>0.0</td>\n",
       "      <td>0.0</td>\n",
       "      <td>0.0</td>\n",
       "      <td>0.0</td>\n",
       "      <td>...</td>\n",
       "      <td>0.0</td>\n",
       "      <td>0.0</td>\n",
       "      <td>0.0</td>\n",
       "      <td>0.0</td>\n",
       "      <td>0.0</td>\n",
       "      <td>0.0</td>\n",
       "      <td>1.0</td>\n",
       "      <td>0.0</td>\n",
       "      <td>0.0</td>\n",
       "      <td>0.0</td>\n",
       "    </tr>\n",
       "    <tr>\n",
       "      <th>3</th>\n",
       "      <td>0.0</td>\n",
       "      <td>0.0</td>\n",
       "      <td>0.0</td>\n",
       "      <td>0.0</td>\n",
       "      <td>0.0</td>\n",
       "      <td>0.0</td>\n",
       "      <td>0.0</td>\n",
       "      <td>0.0</td>\n",
       "      <td>0.0</td>\n",
       "      <td>0.0</td>\n",
       "      <td>...</td>\n",
       "      <td>0.0</td>\n",
       "      <td>0.0</td>\n",
       "      <td>0.0</td>\n",
       "      <td>0.0</td>\n",
       "      <td>0.0</td>\n",
       "      <td>0.0</td>\n",
       "      <td>0.0</td>\n",
       "      <td>1.0</td>\n",
       "      <td>0.0</td>\n",
       "      <td>0.0</td>\n",
       "    </tr>\n",
       "    <tr>\n",
       "      <th>4</th>\n",
       "      <td>0.0</td>\n",
       "      <td>0.0</td>\n",
       "      <td>0.0</td>\n",
       "      <td>0.0</td>\n",
       "      <td>0.0</td>\n",
       "      <td>0.0</td>\n",
       "      <td>0.0</td>\n",
       "      <td>0.0</td>\n",
       "      <td>0.0</td>\n",
       "      <td>0.0</td>\n",
       "      <td>...</td>\n",
       "      <td>0.0</td>\n",
       "      <td>0.0</td>\n",
       "      <td>0.0</td>\n",
       "      <td>0.0</td>\n",
       "      <td>0.0</td>\n",
       "      <td>0.0</td>\n",
       "      <td>0.0</td>\n",
       "      <td>0.0</td>\n",
       "      <td>1.0</td>\n",
       "      <td>0.0</td>\n",
       "    </tr>\n",
       "    <tr>\n",
       "      <th>...</th>\n",
       "      <td>...</td>\n",
       "      <td>...</td>\n",
       "      <td>...</td>\n",
       "      <td>...</td>\n",
       "      <td>...</td>\n",
       "      <td>...</td>\n",
       "      <td>...</td>\n",
       "      <td>...</td>\n",
       "      <td>...</td>\n",
       "      <td>...</td>\n",
       "      <td>...</td>\n",
       "      <td>...</td>\n",
       "      <td>...</td>\n",
       "      <td>...</td>\n",
       "      <td>...</td>\n",
       "      <td>...</td>\n",
       "      <td>...</td>\n",
       "      <td>...</td>\n",
       "      <td>...</td>\n",
       "      <td>...</td>\n",
       "      <td>...</td>\n",
       "    </tr>\n",
       "    <tr>\n",
       "      <th>792594</th>\n",
       "      <td>0.0</td>\n",
       "      <td>0.0</td>\n",
       "      <td>0.0</td>\n",
       "      <td>0.0</td>\n",
       "      <td>0.0</td>\n",
       "      <td>0.0</td>\n",
       "      <td>0.0</td>\n",
       "      <td>0.0</td>\n",
       "      <td>0.0</td>\n",
       "      <td>0.0</td>\n",
       "      <td>...</td>\n",
       "      <td>0.0</td>\n",
       "      <td>0.0</td>\n",
       "      <td>0.0</td>\n",
       "      <td>0.0</td>\n",
       "      <td>0.0</td>\n",
       "      <td>0.0</td>\n",
       "      <td>1.0</td>\n",
       "      <td>0.0</td>\n",
       "      <td>0.0</td>\n",
       "      <td>0.0</td>\n",
       "    </tr>\n",
       "    <tr>\n",
       "      <th>792595</th>\n",
       "      <td>0.0</td>\n",
       "      <td>0.0</td>\n",
       "      <td>0.0</td>\n",
       "      <td>0.0</td>\n",
       "      <td>0.0</td>\n",
       "      <td>0.0</td>\n",
       "      <td>0.0</td>\n",
       "      <td>0.0</td>\n",
       "      <td>0.0</td>\n",
       "      <td>0.0</td>\n",
       "      <td>...</td>\n",
       "      <td>0.0</td>\n",
       "      <td>0.0</td>\n",
       "      <td>0.0</td>\n",
       "      <td>0.0</td>\n",
       "      <td>0.0</td>\n",
       "      <td>1.0</td>\n",
       "      <td>0.0</td>\n",
       "      <td>0.0</td>\n",
       "      <td>0.0</td>\n",
       "      <td>0.0</td>\n",
       "    </tr>\n",
       "    <tr>\n",
       "      <th>792596</th>\n",
       "      <td>0.0</td>\n",
       "      <td>0.0</td>\n",
       "      <td>0.0</td>\n",
       "      <td>0.0</td>\n",
       "      <td>0.0</td>\n",
       "      <td>0.0</td>\n",
       "      <td>0.0</td>\n",
       "      <td>0.0</td>\n",
       "      <td>0.0</td>\n",
       "      <td>0.0</td>\n",
       "      <td>...</td>\n",
       "      <td>0.0</td>\n",
       "      <td>0.0</td>\n",
       "      <td>0.0</td>\n",
       "      <td>0.0</td>\n",
       "      <td>0.0</td>\n",
       "      <td>0.0</td>\n",
       "      <td>1.0</td>\n",
       "      <td>0.0</td>\n",
       "      <td>0.0</td>\n",
       "      <td>0.0</td>\n",
       "    </tr>\n",
       "    <tr>\n",
       "      <th>792597</th>\n",
       "      <td>0.0</td>\n",
       "      <td>0.0</td>\n",
       "      <td>0.0</td>\n",
       "      <td>0.0</td>\n",
       "      <td>0.0</td>\n",
       "      <td>0.0</td>\n",
       "      <td>0.0</td>\n",
       "      <td>0.0</td>\n",
       "      <td>0.0</td>\n",
       "      <td>0.0</td>\n",
       "      <td>...</td>\n",
       "      <td>0.0</td>\n",
       "      <td>0.0</td>\n",
       "      <td>0.0</td>\n",
       "      <td>0.0</td>\n",
       "      <td>0.0</td>\n",
       "      <td>0.0</td>\n",
       "      <td>1.0</td>\n",
       "      <td>0.0</td>\n",
       "      <td>0.0</td>\n",
       "      <td>0.0</td>\n",
       "    </tr>\n",
       "    <tr>\n",
       "      <th>792598</th>\n",
       "      <td>0.0</td>\n",
       "      <td>0.0</td>\n",
       "      <td>0.0</td>\n",
       "      <td>0.0</td>\n",
       "      <td>0.0</td>\n",
       "      <td>0.0</td>\n",
       "      <td>0.0</td>\n",
       "      <td>0.0</td>\n",
       "      <td>0.0</td>\n",
       "      <td>0.0</td>\n",
       "      <td>...</td>\n",
       "      <td>0.0</td>\n",
       "      <td>0.0</td>\n",
       "      <td>0.0</td>\n",
       "      <td>0.0</td>\n",
       "      <td>0.0</td>\n",
       "      <td>0.0</td>\n",
       "      <td>1.0</td>\n",
       "      <td>0.0</td>\n",
       "      <td>0.0</td>\n",
       "      <td>0.0</td>\n",
       "    </tr>\n",
       "  </tbody>\n",
       "</table>\n",
       "<p>792599 rows × 39 columns</p>\n",
       "</div>"
      ],
      "text/plain": [
       "        Id_Sensor_D001  Id_Sensor_D002  Id_Sensor_D004  Id_Sensor_M001  \\\n",
       "0                  0.0             0.0             0.0             0.0   \n",
       "1                  0.0             0.0             0.0             0.0   \n",
       "2                  0.0             0.0             0.0             0.0   \n",
       "3                  0.0             0.0             0.0             0.0   \n",
       "4                  0.0             0.0             0.0             0.0   \n",
       "...                ...             ...             ...             ...   \n",
       "792594             0.0             0.0             0.0             0.0   \n",
       "792595             0.0             0.0             0.0             0.0   \n",
       "792596             0.0             0.0             0.0             0.0   \n",
       "792597             0.0             0.0             0.0             0.0   \n",
       "792598             0.0             0.0             0.0             0.0   \n",
       "\n",
       "        Id_Sensor_M002  Id_Sensor_M003  Id_Sensor_M004  Id_Sensor_M005  \\\n",
       "0                  0.0             1.0             0.0             0.0   \n",
       "1                  0.0             1.0             0.0             0.0   \n",
       "2                  0.0             0.0             0.0             0.0   \n",
       "3                  0.0             0.0             0.0             0.0   \n",
       "4                  0.0             0.0             0.0             0.0   \n",
       "...                ...             ...             ...             ...   \n",
       "792594             0.0             0.0             0.0             0.0   \n",
       "792595             0.0             0.0             0.0             0.0   \n",
       "792596             0.0             0.0             0.0             0.0   \n",
       "792597             0.0             0.0             0.0             0.0   \n",
       "792598             0.0             0.0             0.0             0.0   \n",
       "\n",
       "        Id_Sensor_M006  Id_Sensor_M007  ...  Id_Sensor_M027  Id_Sensor_M028  \\\n",
       "0                  0.0             0.0  ...             0.0             0.0   \n",
       "1                  0.0             0.0  ...             0.0             0.0   \n",
       "2                  0.0             0.0  ...             0.0             0.0   \n",
       "3                  0.0             0.0  ...             0.0             0.0   \n",
       "4                  0.0             0.0  ...             0.0             0.0   \n",
       "...                ...             ...  ...             ...             ...   \n",
       "792594             0.0             0.0  ...             0.0             0.0   \n",
       "792595             0.0             0.0  ...             0.0             0.0   \n",
       "792596             0.0             0.0  ...             0.0             0.0   \n",
       "792597             0.0             0.0  ...             0.0             0.0   \n",
       "792598             0.0             0.0  ...             0.0             0.0   \n",
       "\n",
       "        Id_Sensor_M029  Id_Sensor_M030  Id_Sensor_M031  Id_Sensor_T001  \\\n",
       "0                  0.0             0.0             0.0             0.0   \n",
       "1                  0.0             0.0             0.0             0.0   \n",
       "2                  0.0             0.0             0.0             0.0   \n",
       "3                  0.0             0.0             0.0             0.0   \n",
       "4                  0.0             0.0             0.0             0.0   \n",
       "...                ...             ...             ...             ...   \n",
       "792594             0.0             0.0             0.0             0.0   \n",
       "792595             0.0             0.0             0.0             1.0   \n",
       "792596             0.0             0.0             0.0             0.0   \n",
       "792597             0.0             0.0             0.0             0.0   \n",
       "792598             0.0             0.0             0.0             0.0   \n",
       "\n",
       "        Id_Sensor_T002  Id_Sensor_T003  Id_Sensor_T004  Id_Sensor_T005  \n",
       "0                  0.0             0.0             0.0             0.0  \n",
       "1                  0.0             0.0             0.0             0.0  \n",
       "2                  1.0             0.0             0.0             0.0  \n",
       "3                  0.0             1.0             0.0             0.0  \n",
       "4                  0.0             0.0             1.0             0.0  \n",
       "...                ...             ...             ...             ...  \n",
       "792594             1.0             0.0             0.0             0.0  \n",
       "792595             0.0             0.0             0.0             0.0  \n",
       "792596             1.0             0.0             0.0             0.0  \n",
       "792597             1.0             0.0             0.0             0.0  \n",
       "792598             1.0             0.0             0.0             0.0  \n",
       "\n",
       "[792599 rows x 39 columns]"
      ]
     },
     "execution_count": 33,
     "metadata": {},
     "output_type": "execute_result"
    }
   ],
   "source": [
    "encoded_df_id = pd.DataFrame(feature_encoded, columns=encoder.get_feature_names_out())\n",
    "encoded_df_id"
   ]
  },
  {
   "cell_type": "code",
   "execution_count": 34,
   "metadata": {},
   "outputs": [
    {
     "data": {
      "text/plain": [
       "Index(['TimeStamp', 'Id_Sensor', 'Valor_Sensor', 'Label', 'Log'], dtype='object')"
      ]
     },
     "execution_count": 34,
     "metadata": {},
     "output_type": "execute_result"
    }
   ],
   "source": [
    "df.columns"
   ]
  },
  {
   "cell_type": "code",
   "execution_count": 35,
   "metadata": {},
   "outputs": [],
   "source": [
    "\n",
    "colum = ['TimeStamp'] + sorted(encoder.get_feature_names_out()) + ['Id_Sensor','Valor_Sensor', 'Label', 'Log']"
   ]
  },
  {
   "cell_type": "code",
   "execution_count": 36,
   "metadata": {},
   "outputs": [
    {
     "data": {
      "text/html": [
       "<div>\n",
       "<style scoped>\n",
       "    .dataframe tbody tr th:only-of-type {\n",
       "        vertical-align: middle;\n",
       "    }\n",
       "\n",
       "    .dataframe tbody tr th {\n",
       "        vertical-align: top;\n",
       "    }\n",
       "\n",
       "    .dataframe thead th {\n",
       "        text-align: right;\n",
       "    }\n",
       "</style>\n",
       "<table border=\"1\" class=\"dataframe\">\n",
       "  <thead>\n",
       "    <tr style=\"text-align: right;\">\n",
       "      <th></th>\n",
       "      <th>TimeStamp</th>\n",
       "      <th>Id_Sensor</th>\n",
       "      <th>Valor_Sensor</th>\n",
       "      <th>Label</th>\n",
       "      <th>Log</th>\n",
       "      <th>Id_Sensor_D001</th>\n",
       "      <th>Id_Sensor_D002</th>\n",
       "      <th>Id_Sensor_D004</th>\n",
       "      <th>Id_Sensor_M001</th>\n",
       "      <th>Id_Sensor_M002</th>\n",
       "      <th>...</th>\n",
       "      <th>Id_Sensor_M027</th>\n",
       "      <th>Id_Sensor_M028</th>\n",
       "      <th>Id_Sensor_M029</th>\n",
       "      <th>Id_Sensor_M030</th>\n",
       "      <th>Id_Sensor_M031</th>\n",
       "      <th>Id_Sensor_T001</th>\n",
       "      <th>Id_Sensor_T002</th>\n",
       "      <th>Id_Sensor_T003</th>\n",
       "      <th>Id_Sensor_T004</th>\n",
       "      <th>Id_Sensor_T005</th>\n",
       "    </tr>\n",
       "  </thead>\n",
       "  <tbody>\n",
       "    <tr>\n",
       "      <th>0</th>\n",
       "      <td>2010-11-04 00:03:50.209589</td>\n",
       "      <td>M003</td>\n",
       "      <td>1.0</td>\n",
       "      <td>Sleeping</td>\n",
       "      <td>begin</td>\n",
       "      <td>0.0</td>\n",
       "      <td>0.0</td>\n",
       "      <td>0.0</td>\n",
       "      <td>0.0</td>\n",
       "      <td>0.0</td>\n",
       "      <td>...</td>\n",
       "      <td>0.0</td>\n",
       "      <td>0.0</td>\n",
       "      <td>0.0</td>\n",
       "      <td>0.0</td>\n",
       "      <td>0.0</td>\n",
       "      <td>0.0</td>\n",
       "      <td>0.0</td>\n",
       "      <td>0.0</td>\n",
       "      <td>0.0</td>\n",
       "      <td>0.0</td>\n",
       "    </tr>\n",
       "    <tr>\n",
       "      <th>1</th>\n",
       "      <td>2010-11-04 00:03:57.399391</td>\n",
       "      <td>M003</td>\n",
       "      <td>0.0</td>\n",
       "      <td>Sleeping</td>\n",
       "      <td>NaN</td>\n",
       "      <td>0.0</td>\n",
       "      <td>0.0</td>\n",
       "      <td>0.0</td>\n",
       "      <td>0.0</td>\n",
       "      <td>0.0</td>\n",
       "      <td>...</td>\n",
       "      <td>0.0</td>\n",
       "      <td>0.0</td>\n",
       "      <td>0.0</td>\n",
       "      <td>0.0</td>\n",
       "      <td>0.0</td>\n",
       "      <td>0.0</td>\n",
       "      <td>0.0</td>\n",
       "      <td>0.0</td>\n",
       "      <td>0.0</td>\n",
       "      <td>0.0</td>\n",
       "    </tr>\n",
       "    <tr>\n",
       "      <th>2</th>\n",
       "      <td>2010-11-04 00:15:08.984841</td>\n",
       "      <td>T002</td>\n",
       "      <td>21.5</td>\n",
       "      <td>Sleeping</td>\n",
       "      <td>NaN</td>\n",
       "      <td>0.0</td>\n",
       "      <td>0.0</td>\n",
       "      <td>0.0</td>\n",
       "      <td>0.0</td>\n",
       "      <td>0.0</td>\n",
       "      <td>...</td>\n",
       "      <td>0.0</td>\n",
       "      <td>0.0</td>\n",
       "      <td>0.0</td>\n",
       "      <td>0.0</td>\n",
       "      <td>0.0</td>\n",
       "      <td>0.0</td>\n",
       "      <td>1.0</td>\n",
       "      <td>0.0</td>\n",
       "      <td>0.0</td>\n",
       "      <td>0.0</td>\n",
       "    </tr>\n",
       "    <tr>\n",
       "      <th>3</th>\n",
       "      <td>2010-11-04 00:30:19.185547</td>\n",
       "      <td>T003</td>\n",
       "      <td>21.0</td>\n",
       "      <td>Sleeping</td>\n",
       "      <td>NaN</td>\n",
       "      <td>0.0</td>\n",
       "      <td>0.0</td>\n",
       "      <td>0.0</td>\n",
       "      <td>0.0</td>\n",
       "      <td>0.0</td>\n",
       "      <td>...</td>\n",
       "      <td>0.0</td>\n",
       "      <td>0.0</td>\n",
       "      <td>0.0</td>\n",
       "      <td>0.0</td>\n",
       "      <td>0.0</td>\n",
       "      <td>0.0</td>\n",
       "      <td>0.0</td>\n",
       "      <td>1.0</td>\n",
       "      <td>0.0</td>\n",
       "      <td>0.0</td>\n",
       "    </tr>\n",
       "    <tr>\n",
       "      <th>4</th>\n",
       "      <td>2010-11-04 00:30:19.385336</td>\n",
       "      <td>T004</td>\n",
       "      <td>21.0</td>\n",
       "      <td>Sleeping</td>\n",
       "      <td>NaN</td>\n",
       "      <td>0.0</td>\n",
       "      <td>0.0</td>\n",
       "      <td>0.0</td>\n",
       "      <td>0.0</td>\n",
       "      <td>0.0</td>\n",
       "      <td>...</td>\n",
       "      <td>0.0</td>\n",
       "      <td>0.0</td>\n",
       "      <td>0.0</td>\n",
       "      <td>0.0</td>\n",
       "      <td>0.0</td>\n",
       "      <td>0.0</td>\n",
       "      <td>0.0</td>\n",
       "      <td>0.0</td>\n",
       "      <td>1.0</td>\n",
       "      <td>0.0</td>\n",
       "    </tr>\n",
       "    <tr>\n",
       "      <th>...</th>\n",
       "      <td>...</td>\n",
       "      <td>...</td>\n",
       "      <td>...</td>\n",
       "      <td>...</td>\n",
       "      <td>...</td>\n",
       "      <td>...</td>\n",
       "      <td>...</td>\n",
       "      <td>...</td>\n",
       "      <td>...</td>\n",
       "      <td>...</td>\n",
       "      <td>...</td>\n",
       "      <td>...</td>\n",
       "      <td>...</td>\n",
       "      <td>...</td>\n",
       "      <td>...</td>\n",
       "      <td>...</td>\n",
       "      <td>...</td>\n",
       "      <td>...</td>\n",
       "      <td>...</td>\n",
       "      <td>...</td>\n",
       "      <td>...</td>\n",
       "    </tr>\n",
       "    <tr>\n",
       "      <th>792594</th>\n",
       "      <td>2011-06-11 23:42:59.285070</td>\n",
       "      <td>T002</td>\n",
       "      <td>25.5</td>\n",
       "      <td>Sleeping</td>\n",
       "      <td>NaN</td>\n",
       "      <td>0.0</td>\n",
       "      <td>0.0</td>\n",
       "      <td>0.0</td>\n",
       "      <td>0.0</td>\n",
       "      <td>0.0</td>\n",
       "      <td>...</td>\n",
       "      <td>0.0</td>\n",
       "      <td>0.0</td>\n",
       "      <td>0.0</td>\n",
       "      <td>0.0</td>\n",
       "      <td>0.0</td>\n",
       "      <td>0.0</td>\n",
       "      <td>1.0</td>\n",
       "      <td>0.0</td>\n",
       "      <td>0.0</td>\n",
       "      <td>0.0</td>\n",
       "    </tr>\n",
       "    <tr>\n",
       "      <th>792595</th>\n",
       "      <td>2011-06-11 23:48:02.888409</td>\n",
       "      <td>T001</td>\n",
       "      <td>23.5</td>\n",
       "      <td>Sleeping</td>\n",
       "      <td>NaN</td>\n",
       "      <td>0.0</td>\n",
       "      <td>0.0</td>\n",
       "      <td>0.0</td>\n",
       "      <td>0.0</td>\n",
       "      <td>0.0</td>\n",
       "      <td>...</td>\n",
       "      <td>0.0</td>\n",
       "      <td>0.0</td>\n",
       "      <td>0.0</td>\n",
       "      <td>0.0</td>\n",
       "      <td>0.0</td>\n",
       "      <td>1.0</td>\n",
       "      <td>0.0</td>\n",
       "      <td>0.0</td>\n",
       "      <td>0.0</td>\n",
       "      <td>0.0</td>\n",
       "    </tr>\n",
       "    <tr>\n",
       "      <th>792596</th>\n",
       "      <td>2011-06-11 23:48:02.988798</td>\n",
       "      <td>T002</td>\n",
       "      <td>25.0</td>\n",
       "      <td>Sleeping</td>\n",
       "      <td>NaN</td>\n",
       "      <td>0.0</td>\n",
       "      <td>0.0</td>\n",
       "      <td>0.0</td>\n",
       "      <td>0.0</td>\n",
       "      <td>0.0</td>\n",
       "      <td>...</td>\n",
       "      <td>0.0</td>\n",
       "      <td>0.0</td>\n",
       "      <td>0.0</td>\n",
       "      <td>0.0</td>\n",
       "      <td>0.0</td>\n",
       "      <td>0.0</td>\n",
       "      <td>1.0</td>\n",
       "      <td>0.0</td>\n",
       "      <td>0.0</td>\n",
       "      <td>0.0</td>\n",
       "    </tr>\n",
       "    <tr>\n",
       "      <th>792597</th>\n",
       "      <td>2011-06-11 23:53:06.429200</td>\n",
       "      <td>T002</td>\n",
       "      <td>25.5</td>\n",
       "      <td>Sleeping</td>\n",
       "      <td>NaN</td>\n",
       "      <td>0.0</td>\n",
       "      <td>0.0</td>\n",
       "      <td>0.0</td>\n",
       "      <td>0.0</td>\n",
       "      <td>0.0</td>\n",
       "      <td>...</td>\n",
       "      <td>0.0</td>\n",
       "      <td>0.0</td>\n",
       "      <td>0.0</td>\n",
       "      <td>0.0</td>\n",
       "      <td>0.0</td>\n",
       "      <td>0.0</td>\n",
       "      <td>1.0</td>\n",
       "      <td>0.0</td>\n",
       "      <td>0.0</td>\n",
       "      <td>0.0</td>\n",
       "    </tr>\n",
       "    <tr>\n",
       "      <th>792598</th>\n",
       "      <td>2011-06-11 23:58:10.004834</td>\n",
       "      <td>T002</td>\n",
       "      <td>25.0</td>\n",
       "      <td>Sleeping</td>\n",
       "      <td>end</td>\n",
       "      <td>0.0</td>\n",
       "      <td>0.0</td>\n",
       "      <td>0.0</td>\n",
       "      <td>0.0</td>\n",
       "      <td>0.0</td>\n",
       "      <td>...</td>\n",
       "      <td>0.0</td>\n",
       "      <td>0.0</td>\n",
       "      <td>0.0</td>\n",
       "      <td>0.0</td>\n",
       "      <td>0.0</td>\n",
       "      <td>0.0</td>\n",
       "      <td>1.0</td>\n",
       "      <td>0.0</td>\n",
       "      <td>0.0</td>\n",
       "      <td>0.0</td>\n",
       "    </tr>\n",
       "  </tbody>\n",
       "</table>\n",
       "<p>792599 rows × 44 columns</p>\n",
       "</div>"
      ],
      "text/plain": [
       "                        TimeStamp Id_Sensor  Valor_Sensor     Label    Log  \\\n",
       "0      2010-11-04 00:03:50.209589      M003           1.0  Sleeping  begin   \n",
       "1      2010-11-04 00:03:57.399391      M003           0.0  Sleeping    NaN   \n",
       "2      2010-11-04 00:15:08.984841      T002          21.5  Sleeping    NaN   \n",
       "3      2010-11-04 00:30:19.185547      T003          21.0  Sleeping    NaN   \n",
       "4      2010-11-04 00:30:19.385336      T004          21.0  Sleeping    NaN   \n",
       "...                           ...       ...           ...       ...    ...   \n",
       "792594 2011-06-11 23:42:59.285070      T002          25.5  Sleeping    NaN   \n",
       "792595 2011-06-11 23:48:02.888409      T001          23.5  Sleeping    NaN   \n",
       "792596 2011-06-11 23:48:02.988798      T002          25.0  Sleeping    NaN   \n",
       "792597 2011-06-11 23:53:06.429200      T002          25.5  Sleeping    NaN   \n",
       "792598 2011-06-11 23:58:10.004834      T002          25.0  Sleeping    end   \n",
       "\n",
       "        Id_Sensor_D001  Id_Sensor_D002  Id_Sensor_D004  Id_Sensor_M001  \\\n",
       "0                  0.0             0.0             0.0             0.0   \n",
       "1                  0.0             0.0             0.0             0.0   \n",
       "2                  0.0             0.0             0.0             0.0   \n",
       "3                  0.0             0.0             0.0             0.0   \n",
       "4                  0.0             0.0             0.0             0.0   \n",
       "...                ...             ...             ...             ...   \n",
       "792594             0.0             0.0             0.0             0.0   \n",
       "792595             0.0             0.0             0.0             0.0   \n",
       "792596             0.0             0.0             0.0             0.0   \n",
       "792597             0.0             0.0             0.0             0.0   \n",
       "792598             0.0             0.0             0.0             0.0   \n",
       "\n",
       "        Id_Sensor_M002  ...  Id_Sensor_M027  Id_Sensor_M028  Id_Sensor_M029  \\\n",
       "0                  0.0  ...             0.0             0.0             0.0   \n",
       "1                  0.0  ...             0.0             0.0             0.0   \n",
       "2                  0.0  ...             0.0             0.0             0.0   \n",
       "3                  0.0  ...             0.0             0.0             0.0   \n",
       "4                  0.0  ...             0.0             0.0             0.0   \n",
       "...                ...  ...             ...             ...             ...   \n",
       "792594             0.0  ...             0.0             0.0             0.0   \n",
       "792595             0.0  ...             0.0             0.0             0.0   \n",
       "792596             0.0  ...             0.0             0.0             0.0   \n",
       "792597             0.0  ...             0.0             0.0             0.0   \n",
       "792598             0.0  ...             0.0             0.0             0.0   \n",
       "\n",
       "        Id_Sensor_M030  Id_Sensor_M031  Id_Sensor_T001  Id_Sensor_T002  \\\n",
       "0                  0.0             0.0             0.0             0.0   \n",
       "1                  0.0             0.0             0.0             0.0   \n",
       "2                  0.0             0.0             0.0             1.0   \n",
       "3                  0.0             0.0             0.0             0.0   \n",
       "4                  0.0             0.0             0.0             0.0   \n",
       "...                ...             ...             ...             ...   \n",
       "792594             0.0             0.0             0.0             1.0   \n",
       "792595             0.0             0.0             1.0             0.0   \n",
       "792596             0.0             0.0             0.0             1.0   \n",
       "792597             0.0             0.0             0.0             1.0   \n",
       "792598             0.0             0.0             0.0             1.0   \n",
       "\n",
       "        Id_Sensor_T003  Id_Sensor_T004  Id_Sensor_T005  \n",
       "0                  0.0             0.0             0.0  \n",
       "1                  0.0             0.0             0.0  \n",
       "2                  0.0             0.0             0.0  \n",
       "3                  1.0             0.0             0.0  \n",
       "4                  0.0             1.0             0.0  \n",
       "...                ...             ...             ...  \n",
       "792594             0.0             0.0             0.0  \n",
       "792595             0.0             0.0             0.0  \n",
       "792596             0.0             0.0             0.0  \n",
       "792597             0.0             0.0             0.0  \n",
       "792598             0.0             0.0             0.0  \n",
       "\n",
       "[792599 rows x 44 columns]"
      ]
     },
     "execution_count": 36,
     "metadata": {},
     "output_type": "execute_result"
    }
   ],
   "source": [
    "df = pd.concat([df, encoded_df_id], axis=1)\n",
    "df"
   ]
  },
  {
   "cell_type": "code",
   "execution_count": 37,
   "metadata": {},
   "outputs": [],
   "source": [
    "df = df[['TimeStamp',\n",
    " 'Id_Sensor_D001',\n",
    " 'Id_Sensor_D002',\n",
    " 'Id_Sensor_D004',\n",
    " 'Id_Sensor_M001',\n",
    " 'Id_Sensor_M002',\n",
    " 'Id_Sensor_M003',\n",
    " 'Id_Sensor_M004',\n",
    " 'Id_Sensor_M005',\n",
    " 'Id_Sensor_M006',\n",
    " 'Id_Sensor_M007',\n",
    " 'Id_Sensor_M008',\n",
    " 'Id_Sensor_M009',\n",
    " 'Id_Sensor_M010',\n",
    " 'Id_Sensor_M011',\n",
    " 'Id_Sensor_M012',\n",
    " 'Id_Sensor_M013',\n",
    " 'Id_Sensor_M014',\n",
    " 'Id_Sensor_M015',\n",
    " 'Id_Sensor_M016',\n",
    " 'Id_Sensor_M017',\n",
    " 'Id_Sensor_M018',\n",
    " 'Id_Sensor_M019',\n",
    " 'Id_Sensor_M020',\n",
    " 'Id_Sensor_M021',\n",
    " 'Id_Sensor_M022',\n",
    " 'Id_Sensor_M023',\n",
    " 'Id_Sensor_M024',\n",
    " 'Id_Sensor_M025',\n",
    " 'Id_Sensor_M026',\n",
    " 'Id_Sensor_M027',\n",
    " 'Id_Sensor_M028',\n",
    " 'Id_Sensor_M029',\n",
    " 'Id_Sensor_M030',\n",
    " 'Id_Sensor_M031',\n",
    " 'Id_Sensor_T001',\n",
    " 'Id_Sensor_T002',\n",
    " 'Id_Sensor_T003',\n",
    " 'Id_Sensor_T004',\n",
    " 'Id_Sensor_T005',\n",
    " 'Valor_Sensor', \n",
    " 'Label', \n",
    " 'Log']]"
   ]
  },
  {
   "cell_type": "code",
   "execution_count": 38,
   "metadata": {},
   "outputs": [
    {
     "data": {
      "text/html": [
       "<div>\n",
       "<style scoped>\n",
       "    .dataframe tbody tr th:only-of-type {\n",
       "        vertical-align: middle;\n",
       "    }\n",
       "\n",
       "    .dataframe tbody tr th {\n",
       "        vertical-align: top;\n",
       "    }\n",
       "\n",
       "    .dataframe thead th {\n",
       "        text-align: right;\n",
       "    }\n",
       "</style>\n",
       "<table border=\"1\" class=\"dataframe\">\n",
       "  <thead>\n",
       "    <tr style=\"text-align: right;\">\n",
       "      <th></th>\n",
       "      <th>TimeStamp</th>\n",
       "      <th>Id_Sensor_D001</th>\n",
       "      <th>Id_Sensor_D002</th>\n",
       "      <th>Id_Sensor_D004</th>\n",
       "      <th>Id_Sensor_M001</th>\n",
       "      <th>Id_Sensor_M002</th>\n",
       "      <th>Id_Sensor_M003</th>\n",
       "      <th>Id_Sensor_M004</th>\n",
       "      <th>Id_Sensor_M005</th>\n",
       "      <th>Id_Sensor_M006</th>\n",
       "      <th>...</th>\n",
       "      <th>Id_Sensor_M030</th>\n",
       "      <th>Id_Sensor_M031</th>\n",
       "      <th>Id_Sensor_T001</th>\n",
       "      <th>Id_Sensor_T002</th>\n",
       "      <th>Id_Sensor_T003</th>\n",
       "      <th>Id_Sensor_T004</th>\n",
       "      <th>Id_Sensor_T005</th>\n",
       "      <th>Valor_Sensor</th>\n",
       "      <th>Label</th>\n",
       "      <th>Log</th>\n",
       "    </tr>\n",
       "  </thead>\n",
       "  <tbody>\n",
       "    <tr>\n",
       "      <th>0</th>\n",
       "      <td>2010-11-04 00:03:50.209589</td>\n",
       "      <td>0.0</td>\n",
       "      <td>0.0</td>\n",
       "      <td>0.0</td>\n",
       "      <td>0.0</td>\n",
       "      <td>0.0</td>\n",
       "      <td>1.0</td>\n",
       "      <td>0.0</td>\n",
       "      <td>0.0</td>\n",
       "      <td>0.0</td>\n",
       "      <td>...</td>\n",
       "      <td>0.0</td>\n",
       "      <td>0.0</td>\n",
       "      <td>0.0</td>\n",
       "      <td>0.0</td>\n",
       "      <td>0.0</td>\n",
       "      <td>0.0</td>\n",
       "      <td>0.0</td>\n",
       "      <td>1.0</td>\n",
       "      <td>Sleeping</td>\n",
       "      <td>begin</td>\n",
       "    </tr>\n",
       "    <tr>\n",
       "      <th>1</th>\n",
       "      <td>2010-11-04 00:03:57.399391</td>\n",
       "      <td>0.0</td>\n",
       "      <td>0.0</td>\n",
       "      <td>0.0</td>\n",
       "      <td>0.0</td>\n",
       "      <td>0.0</td>\n",
       "      <td>1.0</td>\n",
       "      <td>0.0</td>\n",
       "      <td>0.0</td>\n",
       "      <td>0.0</td>\n",
       "      <td>...</td>\n",
       "      <td>0.0</td>\n",
       "      <td>0.0</td>\n",
       "      <td>0.0</td>\n",
       "      <td>0.0</td>\n",
       "      <td>0.0</td>\n",
       "      <td>0.0</td>\n",
       "      <td>0.0</td>\n",
       "      <td>0.0</td>\n",
       "      <td>Sleeping</td>\n",
       "      <td>NaN</td>\n",
       "    </tr>\n",
       "    <tr>\n",
       "      <th>2</th>\n",
       "      <td>2010-11-04 00:15:08.984841</td>\n",
       "      <td>0.0</td>\n",
       "      <td>0.0</td>\n",
       "      <td>0.0</td>\n",
       "      <td>0.0</td>\n",
       "      <td>0.0</td>\n",
       "      <td>0.0</td>\n",
       "      <td>0.0</td>\n",
       "      <td>0.0</td>\n",
       "      <td>0.0</td>\n",
       "      <td>...</td>\n",
       "      <td>0.0</td>\n",
       "      <td>0.0</td>\n",
       "      <td>0.0</td>\n",
       "      <td>1.0</td>\n",
       "      <td>0.0</td>\n",
       "      <td>0.0</td>\n",
       "      <td>0.0</td>\n",
       "      <td>21.5</td>\n",
       "      <td>Sleeping</td>\n",
       "      <td>NaN</td>\n",
       "    </tr>\n",
       "    <tr>\n",
       "      <th>3</th>\n",
       "      <td>2010-11-04 00:30:19.185547</td>\n",
       "      <td>0.0</td>\n",
       "      <td>0.0</td>\n",
       "      <td>0.0</td>\n",
       "      <td>0.0</td>\n",
       "      <td>0.0</td>\n",
       "      <td>0.0</td>\n",
       "      <td>0.0</td>\n",
       "      <td>0.0</td>\n",
       "      <td>0.0</td>\n",
       "      <td>...</td>\n",
       "      <td>0.0</td>\n",
       "      <td>0.0</td>\n",
       "      <td>0.0</td>\n",
       "      <td>0.0</td>\n",
       "      <td>1.0</td>\n",
       "      <td>0.0</td>\n",
       "      <td>0.0</td>\n",
       "      <td>21.0</td>\n",
       "      <td>Sleeping</td>\n",
       "      <td>NaN</td>\n",
       "    </tr>\n",
       "    <tr>\n",
       "      <th>4</th>\n",
       "      <td>2010-11-04 00:30:19.385336</td>\n",
       "      <td>0.0</td>\n",
       "      <td>0.0</td>\n",
       "      <td>0.0</td>\n",
       "      <td>0.0</td>\n",
       "      <td>0.0</td>\n",
       "      <td>0.0</td>\n",
       "      <td>0.0</td>\n",
       "      <td>0.0</td>\n",
       "      <td>0.0</td>\n",
       "      <td>...</td>\n",
       "      <td>0.0</td>\n",
       "      <td>0.0</td>\n",
       "      <td>0.0</td>\n",
       "      <td>0.0</td>\n",
       "      <td>0.0</td>\n",
       "      <td>1.0</td>\n",
       "      <td>0.0</td>\n",
       "      <td>21.0</td>\n",
       "      <td>Sleeping</td>\n",
       "      <td>NaN</td>\n",
       "    </tr>\n",
       "    <tr>\n",
       "      <th>...</th>\n",
       "      <td>...</td>\n",
       "      <td>...</td>\n",
       "      <td>...</td>\n",
       "      <td>...</td>\n",
       "      <td>...</td>\n",
       "      <td>...</td>\n",
       "      <td>...</td>\n",
       "      <td>...</td>\n",
       "      <td>...</td>\n",
       "      <td>...</td>\n",
       "      <td>...</td>\n",
       "      <td>...</td>\n",
       "      <td>...</td>\n",
       "      <td>...</td>\n",
       "      <td>...</td>\n",
       "      <td>...</td>\n",
       "      <td>...</td>\n",
       "      <td>...</td>\n",
       "      <td>...</td>\n",
       "      <td>...</td>\n",
       "      <td>...</td>\n",
       "    </tr>\n",
       "    <tr>\n",
       "      <th>792594</th>\n",
       "      <td>2011-06-11 23:42:59.285070</td>\n",
       "      <td>0.0</td>\n",
       "      <td>0.0</td>\n",
       "      <td>0.0</td>\n",
       "      <td>0.0</td>\n",
       "      <td>0.0</td>\n",
       "      <td>0.0</td>\n",
       "      <td>0.0</td>\n",
       "      <td>0.0</td>\n",
       "      <td>0.0</td>\n",
       "      <td>...</td>\n",
       "      <td>0.0</td>\n",
       "      <td>0.0</td>\n",
       "      <td>0.0</td>\n",
       "      <td>1.0</td>\n",
       "      <td>0.0</td>\n",
       "      <td>0.0</td>\n",
       "      <td>0.0</td>\n",
       "      <td>25.5</td>\n",
       "      <td>Sleeping</td>\n",
       "      <td>NaN</td>\n",
       "    </tr>\n",
       "    <tr>\n",
       "      <th>792595</th>\n",
       "      <td>2011-06-11 23:48:02.888409</td>\n",
       "      <td>0.0</td>\n",
       "      <td>0.0</td>\n",
       "      <td>0.0</td>\n",
       "      <td>0.0</td>\n",
       "      <td>0.0</td>\n",
       "      <td>0.0</td>\n",
       "      <td>0.0</td>\n",
       "      <td>0.0</td>\n",
       "      <td>0.0</td>\n",
       "      <td>...</td>\n",
       "      <td>0.0</td>\n",
       "      <td>0.0</td>\n",
       "      <td>1.0</td>\n",
       "      <td>0.0</td>\n",
       "      <td>0.0</td>\n",
       "      <td>0.0</td>\n",
       "      <td>0.0</td>\n",
       "      <td>23.5</td>\n",
       "      <td>Sleeping</td>\n",
       "      <td>NaN</td>\n",
       "    </tr>\n",
       "    <tr>\n",
       "      <th>792596</th>\n",
       "      <td>2011-06-11 23:48:02.988798</td>\n",
       "      <td>0.0</td>\n",
       "      <td>0.0</td>\n",
       "      <td>0.0</td>\n",
       "      <td>0.0</td>\n",
       "      <td>0.0</td>\n",
       "      <td>0.0</td>\n",
       "      <td>0.0</td>\n",
       "      <td>0.0</td>\n",
       "      <td>0.0</td>\n",
       "      <td>...</td>\n",
       "      <td>0.0</td>\n",
       "      <td>0.0</td>\n",
       "      <td>0.0</td>\n",
       "      <td>1.0</td>\n",
       "      <td>0.0</td>\n",
       "      <td>0.0</td>\n",
       "      <td>0.0</td>\n",
       "      <td>25.0</td>\n",
       "      <td>Sleeping</td>\n",
       "      <td>NaN</td>\n",
       "    </tr>\n",
       "    <tr>\n",
       "      <th>792597</th>\n",
       "      <td>2011-06-11 23:53:06.429200</td>\n",
       "      <td>0.0</td>\n",
       "      <td>0.0</td>\n",
       "      <td>0.0</td>\n",
       "      <td>0.0</td>\n",
       "      <td>0.0</td>\n",
       "      <td>0.0</td>\n",
       "      <td>0.0</td>\n",
       "      <td>0.0</td>\n",
       "      <td>0.0</td>\n",
       "      <td>...</td>\n",
       "      <td>0.0</td>\n",
       "      <td>0.0</td>\n",
       "      <td>0.0</td>\n",
       "      <td>1.0</td>\n",
       "      <td>0.0</td>\n",
       "      <td>0.0</td>\n",
       "      <td>0.0</td>\n",
       "      <td>25.5</td>\n",
       "      <td>Sleeping</td>\n",
       "      <td>NaN</td>\n",
       "    </tr>\n",
       "    <tr>\n",
       "      <th>792598</th>\n",
       "      <td>2011-06-11 23:58:10.004834</td>\n",
       "      <td>0.0</td>\n",
       "      <td>0.0</td>\n",
       "      <td>0.0</td>\n",
       "      <td>0.0</td>\n",
       "      <td>0.0</td>\n",
       "      <td>0.0</td>\n",
       "      <td>0.0</td>\n",
       "      <td>0.0</td>\n",
       "      <td>0.0</td>\n",
       "      <td>...</td>\n",
       "      <td>0.0</td>\n",
       "      <td>0.0</td>\n",
       "      <td>0.0</td>\n",
       "      <td>1.0</td>\n",
       "      <td>0.0</td>\n",
       "      <td>0.0</td>\n",
       "      <td>0.0</td>\n",
       "      <td>25.0</td>\n",
       "      <td>Sleeping</td>\n",
       "      <td>end</td>\n",
       "    </tr>\n",
       "  </tbody>\n",
       "</table>\n",
       "<p>792599 rows × 43 columns</p>\n",
       "</div>"
      ],
      "text/plain": [
       "                        TimeStamp  Id_Sensor_D001  Id_Sensor_D002  \\\n",
       "0      2010-11-04 00:03:50.209589             0.0             0.0   \n",
       "1      2010-11-04 00:03:57.399391             0.0             0.0   \n",
       "2      2010-11-04 00:15:08.984841             0.0             0.0   \n",
       "3      2010-11-04 00:30:19.185547             0.0             0.0   \n",
       "4      2010-11-04 00:30:19.385336             0.0             0.0   \n",
       "...                           ...             ...             ...   \n",
       "792594 2011-06-11 23:42:59.285070             0.0             0.0   \n",
       "792595 2011-06-11 23:48:02.888409             0.0             0.0   \n",
       "792596 2011-06-11 23:48:02.988798             0.0             0.0   \n",
       "792597 2011-06-11 23:53:06.429200             0.0             0.0   \n",
       "792598 2011-06-11 23:58:10.004834             0.0             0.0   \n",
       "\n",
       "        Id_Sensor_D004  Id_Sensor_M001  Id_Sensor_M002  Id_Sensor_M003  \\\n",
       "0                  0.0             0.0             0.0             1.0   \n",
       "1                  0.0             0.0             0.0             1.0   \n",
       "2                  0.0             0.0             0.0             0.0   \n",
       "3                  0.0             0.0             0.0             0.0   \n",
       "4                  0.0             0.0             0.0             0.0   \n",
       "...                ...             ...             ...             ...   \n",
       "792594             0.0             0.0             0.0             0.0   \n",
       "792595             0.0             0.0             0.0             0.0   \n",
       "792596             0.0             0.0             0.0             0.0   \n",
       "792597             0.0             0.0             0.0             0.0   \n",
       "792598             0.0             0.0             0.0             0.0   \n",
       "\n",
       "        Id_Sensor_M004  Id_Sensor_M005  Id_Sensor_M006  ...  Id_Sensor_M030  \\\n",
       "0                  0.0             0.0             0.0  ...             0.0   \n",
       "1                  0.0             0.0             0.0  ...             0.0   \n",
       "2                  0.0             0.0             0.0  ...             0.0   \n",
       "3                  0.0             0.0             0.0  ...             0.0   \n",
       "4                  0.0             0.0             0.0  ...             0.0   \n",
       "...                ...             ...             ...  ...             ...   \n",
       "792594             0.0             0.0             0.0  ...             0.0   \n",
       "792595             0.0             0.0             0.0  ...             0.0   \n",
       "792596             0.0             0.0             0.0  ...             0.0   \n",
       "792597             0.0             0.0             0.0  ...             0.0   \n",
       "792598             0.0             0.0             0.0  ...             0.0   \n",
       "\n",
       "        Id_Sensor_M031  Id_Sensor_T001  Id_Sensor_T002  Id_Sensor_T003  \\\n",
       "0                  0.0             0.0             0.0             0.0   \n",
       "1                  0.0             0.0             0.0             0.0   \n",
       "2                  0.0             0.0             1.0             0.0   \n",
       "3                  0.0             0.0             0.0             1.0   \n",
       "4                  0.0             0.0             0.0             0.0   \n",
       "...                ...             ...             ...             ...   \n",
       "792594             0.0             0.0             1.0             0.0   \n",
       "792595             0.0             1.0             0.0             0.0   \n",
       "792596             0.0             0.0             1.0             0.0   \n",
       "792597             0.0             0.0             1.0             0.0   \n",
       "792598             0.0             0.0             1.0             0.0   \n",
       "\n",
       "        Id_Sensor_T004  Id_Sensor_T005  Valor_Sensor     Label    Log  \n",
       "0                  0.0             0.0           1.0  Sleeping  begin  \n",
       "1                  0.0             0.0           0.0  Sleeping    NaN  \n",
       "2                  0.0             0.0          21.5  Sleeping    NaN  \n",
       "3                  0.0             0.0          21.0  Sleeping    NaN  \n",
       "4                  1.0             0.0          21.0  Sleeping    NaN  \n",
       "...                ...             ...           ...       ...    ...  \n",
       "792594             0.0             0.0          25.5  Sleeping    NaN  \n",
       "792595             0.0             0.0          23.5  Sleeping    NaN  \n",
       "792596             0.0             0.0          25.0  Sleeping    NaN  \n",
       "792597             0.0             0.0          25.5  Sleeping    NaN  \n",
       "792598             0.0             0.0          25.0  Sleeping    end  \n",
       "\n",
       "[792599 rows x 43 columns]"
      ]
     },
     "execution_count": 38,
     "metadata": {},
     "output_type": "execute_result"
    }
   ],
   "source": [
    "df"
   ]
  },
  {
   "cell_type": "code",
   "execution_count": 39,
   "metadata": {},
   "outputs": [
    {
     "data": {
      "text/plain": [
       "43"
      ]
     },
     "execution_count": 39,
     "metadata": {},
     "output_type": "execute_result"
    }
   ],
   "source": [
    "len(df.columns)"
   ]
  },
  {
   "cell_type": "markdown",
   "metadata": {},
   "source": [
    "## Target encode"
   ]
  },
  {
   "cell_type": "code",
   "execution_count": null,
   "metadata": {},
   "outputs": [],
   "source": [
    "len(lista_de_sensores)"
   ]
  },
  {
   "cell_type": "code",
   "execution_count": 5,
   "metadata": {},
   "outputs": [],
   "source": [
    "encoder_label = LabelEncoder()\n",
    "\n",
    "df['Label'] = encoder_label.fit_transform(df['Label'])\n",
    "#df_nn['Label'] = df['Label']"
   ]
  },
  {
   "cell_type": "code",
   "execution_count": 32,
   "metadata": {},
   "outputs": [
    {
     "data": {
      "text/html": [
       "<div>\n",
       "<style scoped>\n",
       "    .dataframe tbody tr th:only-of-type {\n",
       "        vertical-align: middle;\n",
       "    }\n",
       "\n",
       "    .dataframe tbody tr th {\n",
       "        vertical-align: top;\n",
       "    }\n",
       "\n",
       "    .dataframe thead th {\n",
       "        text-align: right;\n",
       "    }\n",
       "</style>\n",
       "<table border=\"1\" class=\"dataframe\">\n",
       "  <thead>\n",
       "    <tr style=\"text-align: right;\">\n",
       "      <th></th>\n",
       "      <th>TimeStamp</th>\n",
       "      <th>Id_Sensor</th>\n",
       "      <th>Valor_Sensor</th>\n",
       "      <th>Label</th>\n",
       "      <th>Log</th>\n",
       "    </tr>\n",
       "  </thead>\n",
       "  <tbody>\n",
       "    <tr>\n",
       "      <th>0</th>\n",
       "      <td>2010-11-04 00:03:50.209589</td>\n",
       "      <td>5</td>\n",
       "      <td>1.0</td>\n",
       "      <td>8</td>\n",
       "      <td>begin</td>\n",
       "    </tr>\n",
       "    <tr>\n",
       "      <th>1</th>\n",
       "      <td>2010-11-04 00:03:57.399391</td>\n",
       "      <td>5</td>\n",
       "      <td>0.0</td>\n",
       "      <td>8</td>\n",
       "      <td>NaN</td>\n",
       "    </tr>\n",
       "    <tr>\n",
       "      <th>2</th>\n",
       "      <td>2010-11-04 00:15:08.984841</td>\n",
       "      <td>35</td>\n",
       "      <td>21.5</td>\n",
       "      <td>8</td>\n",
       "      <td>NaN</td>\n",
       "    </tr>\n",
       "    <tr>\n",
       "      <th>3</th>\n",
       "      <td>2010-11-04 00:30:19.185547</td>\n",
       "      <td>36</td>\n",
       "      <td>21.0</td>\n",
       "      <td>8</td>\n",
       "      <td>NaN</td>\n",
       "    </tr>\n",
       "    <tr>\n",
       "      <th>4</th>\n",
       "      <td>2010-11-04 00:30:19.385336</td>\n",
       "      <td>37</td>\n",
       "      <td>21.0</td>\n",
       "      <td>8</td>\n",
       "      <td>NaN</td>\n",
       "    </tr>\n",
       "    <tr>\n",
       "      <th>...</th>\n",
       "      <td>...</td>\n",
       "      <td>...</td>\n",
       "      <td>...</td>\n",
       "      <td>...</td>\n",
       "      <td>...</td>\n",
       "    </tr>\n",
       "    <tr>\n",
       "      <th>792594</th>\n",
       "      <td>2011-06-11 23:42:59.285070</td>\n",
       "      <td>35</td>\n",
       "      <td>25.5</td>\n",
       "      <td>8</td>\n",
       "      <td>NaN</td>\n",
       "    </tr>\n",
       "    <tr>\n",
       "      <th>792595</th>\n",
       "      <td>2011-06-11 23:48:02.888409</td>\n",
       "      <td>34</td>\n",
       "      <td>23.5</td>\n",
       "      <td>8</td>\n",
       "      <td>NaN</td>\n",
       "    </tr>\n",
       "    <tr>\n",
       "      <th>792596</th>\n",
       "      <td>2011-06-11 23:48:02.988798</td>\n",
       "      <td>35</td>\n",
       "      <td>25.0</td>\n",
       "      <td>8</td>\n",
       "      <td>NaN</td>\n",
       "    </tr>\n",
       "    <tr>\n",
       "      <th>792597</th>\n",
       "      <td>2011-06-11 23:53:06.429200</td>\n",
       "      <td>35</td>\n",
       "      <td>25.5</td>\n",
       "      <td>8</td>\n",
       "      <td>NaN</td>\n",
       "    </tr>\n",
       "    <tr>\n",
       "      <th>792598</th>\n",
       "      <td>2011-06-11 23:58:10.004834</td>\n",
       "      <td>35</td>\n",
       "      <td>25.0</td>\n",
       "      <td>8</td>\n",
       "      <td>end</td>\n",
       "    </tr>\n",
       "  </tbody>\n",
       "</table>\n",
       "<p>792599 rows × 5 columns</p>\n",
       "</div>"
      ],
      "text/plain": [
       "                        TimeStamp  Id_Sensor  Valor_Sensor  Label    Log\n",
       "0      2010-11-04 00:03:50.209589          5           1.0      8  begin\n",
       "1      2010-11-04 00:03:57.399391          5           0.0      8    NaN\n",
       "2      2010-11-04 00:15:08.984841         35          21.5      8    NaN\n",
       "3      2010-11-04 00:30:19.185547         36          21.0      8    NaN\n",
       "4      2010-11-04 00:30:19.385336         37          21.0      8    NaN\n",
       "...                           ...        ...           ...    ...    ...\n",
       "792594 2011-06-11 23:42:59.285070         35          25.5      8    NaN\n",
       "792595 2011-06-11 23:48:02.888409         34          23.5      8    NaN\n",
       "792596 2011-06-11 23:48:02.988798         35          25.0      8    NaN\n",
       "792597 2011-06-11 23:53:06.429200         35          25.5      8    NaN\n",
       "792598 2011-06-11 23:58:10.004834         35          25.0      8    end\n",
       "\n",
       "[792599 rows x 5 columns]"
      ]
     },
     "execution_count": 32,
     "metadata": {},
     "output_type": "execute_result"
    }
   ],
   "source": [
    "df"
   ]
  },
  {
   "cell_type": "code",
   "execution_count": 219,
   "metadata": {},
   "outputs": [
    {
     "data": {
      "text/html": [
       "<div>\n",
       "<style scoped>\n",
       "    .dataframe tbody tr th:only-of-type {\n",
       "        vertical-align: middle;\n",
       "    }\n",
       "\n",
       "    .dataframe tbody tr th {\n",
       "        vertical-align: top;\n",
       "    }\n",
       "\n",
       "    .dataframe thead th {\n",
       "        text-align: right;\n",
       "    }\n",
       "</style>\n",
       "<table border=\"1\" class=\"dataframe\">\n",
       "  <thead>\n",
       "    <tr style=\"text-align: right;\">\n",
       "      <th></th>\n",
       "      <th>TimeStamp</th>\n",
       "      <th>Id_Sensor</th>\n",
       "      <th>Valor_Sensor</th>\n",
       "      <th>Label</th>\n",
       "      <th>Log</th>\n",
       "    </tr>\n",
       "  </thead>\n",
       "  <tbody>\n",
       "    <tr>\n",
       "      <th>0</th>\n",
       "      <td>2010-11-04 00:03:50.209589</td>\n",
       "      <td>M003</td>\n",
       "      <td>1.0</td>\n",
       "      <td>8</td>\n",
       "      <td>begin</td>\n",
       "    </tr>\n",
       "    <tr>\n",
       "      <th>1</th>\n",
       "      <td>2010-11-04 00:03:57.399391</td>\n",
       "      <td>M003</td>\n",
       "      <td>0.0</td>\n",
       "      <td>8</td>\n",
       "      <td>NaN</td>\n",
       "    </tr>\n",
       "    <tr>\n",
       "      <th>2</th>\n",
       "      <td>2010-11-04 00:15:08.984841</td>\n",
       "      <td>T002</td>\n",
       "      <td>21.5</td>\n",
       "      <td>8</td>\n",
       "      <td>NaN</td>\n",
       "    </tr>\n",
       "    <tr>\n",
       "      <th>3</th>\n",
       "      <td>2010-11-04 00:30:19.185547</td>\n",
       "      <td>T003</td>\n",
       "      <td>21.0</td>\n",
       "      <td>8</td>\n",
       "      <td>NaN</td>\n",
       "    </tr>\n",
       "    <tr>\n",
       "      <th>4</th>\n",
       "      <td>2010-11-04 00:30:19.385336</td>\n",
       "      <td>T004</td>\n",
       "      <td>21.0</td>\n",
       "      <td>8</td>\n",
       "      <td>NaN</td>\n",
       "    </tr>\n",
       "    <tr>\n",
       "      <th>...</th>\n",
       "      <td>...</td>\n",
       "      <td>...</td>\n",
       "      <td>...</td>\n",
       "      <td>...</td>\n",
       "      <td>...</td>\n",
       "    </tr>\n",
       "    <tr>\n",
       "      <th>792594</th>\n",
       "      <td>2011-06-11 23:42:59.285070</td>\n",
       "      <td>T002</td>\n",
       "      <td>25.5</td>\n",
       "      <td>8</td>\n",
       "      <td>NaN</td>\n",
       "    </tr>\n",
       "    <tr>\n",
       "      <th>792595</th>\n",
       "      <td>2011-06-11 23:48:02.888409</td>\n",
       "      <td>T001</td>\n",
       "      <td>23.5</td>\n",
       "      <td>8</td>\n",
       "      <td>NaN</td>\n",
       "    </tr>\n",
       "    <tr>\n",
       "      <th>792596</th>\n",
       "      <td>2011-06-11 23:48:02.988798</td>\n",
       "      <td>T002</td>\n",
       "      <td>25.0</td>\n",
       "      <td>8</td>\n",
       "      <td>NaN</td>\n",
       "    </tr>\n",
       "    <tr>\n",
       "      <th>792597</th>\n",
       "      <td>2011-06-11 23:53:06.429200</td>\n",
       "      <td>T002</td>\n",
       "      <td>25.5</td>\n",
       "      <td>8</td>\n",
       "      <td>NaN</td>\n",
       "    </tr>\n",
       "    <tr>\n",
       "      <th>792598</th>\n",
       "      <td>2011-06-11 23:58:10.004834</td>\n",
       "      <td>T002</td>\n",
       "      <td>25.0</td>\n",
       "      <td>8</td>\n",
       "      <td>end</td>\n",
       "    </tr>\n",
       "  </tbody>\n",
       "</table>\n",
       "<p>792599 rows × 5 columns</p>\n",
       "</div>"
      ],
      "text/plain": [
       "                        TimeStamp Id_Sensor  Valor_Sensor  Label    Log\n",
       "0      2010-11-04 00:03:50.209589      M003           1.0      8  begin\n",
       "1      2010-11-04 00:03:57.399391      M003           0.0      8    NaN\n",
       "2      2010-11-04 00:15:08.984841      T002          21.5      8    NaN\n",
       "3      2010-11-04 00:30:19.185547      T003          21.0      8    NaN\n",
       "4      2010-11-04 00:30:19.385336      T004          21.0      8    NaN\n",
       "...                           ...       ...           ...    ...    ...\n",
       "792594 2011-06-11 23:42:59.285070      T002          25.5      8    NaN\n",
       "792595 2011-06-11 23:48:02.888409      T001          23.5      8    NaN\n",
       "792596 2011-06-11 23:48:02.988798      T002          25.0      8    NaN\n",
       "792597 2011-06-11 23:53:06.429200      T002          25.5      8    NaN\n",
       "792598 2011-06-11 23:58:10.004834      T002          25.0      8    end\n",
       "\n",
       "[792599 rows x 5 columns]"
      ]
     },
     "execution_count": 219,
     "metadata": {},
     "output_type": "execute_result"
    }
   ],
   "source": [
    "#df_nn"
   ]
  },
  {
   "cell_type": "markdown",
   "metadata": {},
   "source": [
    "# Dataset com o inicio e fim de cada atividade"
   ]
  },
  {
   "cell_type": "markdown",
   "metadata": {},
   "source": [
    "# Divisao Treino e Teste"
   ]
  },
  {
   "cell_type": "code",
   "execution_count": 6,
   "metadata": {},
   "outputs": [],
   "source": [
    "df_act = pd.read_csv('df_act_Completo.csv')\n",
    "df_act.end_time = pd.to_datetime(df_act.end_time)\n",
    "df_act.start_time = pd.to_datetime(df_act.start_time)"
   ]
  },
  {
   "cell_type": "code",
   "execution_count": 34,
   "metadata": {},
   "outputs": [
    {
     "name": "stdout",
     "output_type": "stream",
     "text": [
      "<class 'pandas.core.frame.DataFrame'>\n",
      "RangeIndex: 6477 entries, 0 to 6476\n",
      "Data columns (total 3 columns):\n",
      " #   Column      Non-Null Count  Dtype         \n",
      "---  ------      --------------  -----         \n",
      " 0   start_time  6477 non-null   datetime64[ns]\n",
      " 1   end_time    6477 non-null   datetime64[ns]\n",
      " 2   Label       6477 non-null   object        \n",
      "dtypes: datetime64[ns](2), object(1)\n",
      "memory usage: 151.9+ KB\n"
     ]
    }
   ],
   "source": [
    "df_act.info()"
   ]
  },
  {
   "cell_type": "code",
   "execution_count": 7,
   "metadata": {},
   "outputs": [],
   "source": [
    "train_df = df[df['TimeStamp']<= pd.to_datetime('2011-04-01')]\n",
    "test_df = df[df['TimeStamp'] > pd.to_datetime('2011-04-01')]\n",
    "test_df.reset_index(drop=True, inplace=True)\n",
    "tm = max(train_df.TimeStamp)"
   ]
  },
  {
   "cell_type": "code",
   "execution_count": 8,
   "metadata": {},
   "outputs": [
    {
     "data": {
      "text/plain": [
       "array(['Bed_to_Toilet', 'Eating', 'Enter_Home', 'Housekeeping',\n",
       "       'Leave_Home', 'Meal_Preparation', 'Relax', 'Respirate', 'Sleeping',\n",
       "       'Wash_Dishes', 'Work'], dtype=object)"
      ]
     },
     "execution_count": 8,
     "metadata": {},
     "output_type": "execute_result"
    }
   ],
   "source": [
    "encoder_label.classes_"
   ]
  },
  {
   "cell_type": "code",
   "execution_count": 326,
   "metadata": {},
   "outputs": [
    {
     "data": {
      "text/html": [
       "<div>\n",
       "<style scoped>\n",
       "    .dataframe tbody tr th:only-of-type {\n",
       "        vertical-align: middle;\n",
       "    }\n",
       "\n",
       "    .dataframe tbody tr th {\n",
       "        vertical-align: top;\n",
       "    }\n",
       "\n",
       "    .dataframe thead th {\n",
       "        text-align: right;\n",
       "    }\n",
       "</style>\n",
       "<table border=\"1\" class=\"dataframe\">\n",
       "  <thead>\n",
       "    <tr style=\"text-align: right;\">\n",
       "      <th></th>\n",
       "      <th>Valor_Sensor</th>\n",
       "      <th>Label</th>\n",
       "      <th>Log</th>\n",
       "      <th>Label</th>\n",
       "    </tr>\n",
       "  </thead>\n",
       "  <tbody>\n",
       "    <tr>\n",
       "      <th>62227</th>\n",
       "      <td>1.0</td>\n",
       "      <td>2</td>\n",
       "      <td>begin</td>\n",
       "      <td>2</td>\n",
       "    </tr>\n",
       "    <tr>\n",
       "      <th>62228</th>\n",
       "      <td>1.0</td>\n",
       "      <td>2</td>\n",
       "      <td>NaN</td>\n",
       "      <td>2</td>\n",
       "    </tr>\n",
       "    <tr>\n",
       "      <th>62229</th>\n",
       "      <td>1.0</td>\n",
       "      <td>2</td>\n",
       "      <td>NaN</td>\n",
       "      <td>2</td>\n",
       "    </tr>\n",
       "    <tr>\n",
       "      <th>62230</th>\n",
       "      <td>0.0</td>\n",
       "      <td>2</td>\n",
       "      <td>end</td>\n",
       "      <td>2</td>\n",
       "    </tr>\n",
       "  </tbody>\n",
       "</table>\n",
       "</div>"
      ],
      "text/plain": [
       "       Valor_Sensor  Label    Log  Label\n",
       "62227           1.0      2  begin      2\n",
       "62228           1.0      2    NaN      2\n",
       "62229           1.0      2    NaN      2\n",
       "62230           0.0      2    end      2"
      ]
     },
     "execution_count": 326,
     "metadata": {},
     "output_type": "execute_result"
    }
   ],
   "source": [
    "df[(df['TimeStamp']>=pd.to_datetime('2010-11-25 12:27:57.084447')) & (df['TimeStamp']<=pd.to_datetime('2010-11-25 12:28:01.606924'))][['Valor_Sensor','Label','Log','Label']]"
   ]
  },
  {
   "cell_type": "code",
   "execution_count": 144,
   "metadata": {},
   "outputs": [],
   "source": [
    "#train_df.set_index('TimeStamp',inplace=True)\n",
    "#test_df.set_index('TimeStamp', inplace=True)"
   ]
  },
  {
   "cell_type": "code",
   "execution_count": 75,
   "metadata": {},
   "outputs": [],
   "source": [
    "#train_df.to_csv('train.csv', index=False)\n",
    "#test_df.to_csv('test.csv', index=False)"
   ]
  },
  {
   "cell_type": "code",
   "execution_count": null,
   "metadata": {},
   "outputs": [],
   "source": []
  },
  {
   "cell_type": "markdown",
   "metadata": {},
   "source": [
    "# Criar os Segmentos"
   ]
  },
  {
   "cell_type": "code",
   "execution_count": 9,
   "metadata": {},
   "outputs": [],
   "source": [
    "lst_features = sorted(df.columns)"
   ]
  },
  {
   "cell_type": "code",
   "execution_count": 10,
   "metadata": {},
   "outputs": [],
   "source": [
    "lst_features.remove('TimeStamp')\n",
    "lst_features.remove('Label')\n",
    "lst_features.remove('Log')"
   ]
  },
  {
   "cell_type": "code",
   "execution_count": null,
   "metadata": {},
   "outputs": [],
   "source": [
    "#lst_features"
   ]
  },
  {
   "cell_type": "code",
   "execution_count": 88,
   "metadata": {},
   "outputs": [],
   "source": [
    "def criarSegmento(data):\n",
    "    flag = False\n",
    "    rotulo = None\n",
    "    vec_event = []\n",
    "    vec_rotulo = []\n",
    "    seg_features = []\n",
    "    for x in range(len(data)):\n",
    "        if(data.iloc[x,data.columns.get_loc('Log')]=='begin'):\n",
    "            flag = True\n",
    "            rotulo = data.iloc[x,data.columns.get_loc('Label')]\n",
    "        if(flag):\n",
    "            for y in lst_features:\n",
    "                seg_features.append(data.iloc[x,data.columns.get_loc(y)])\n",
    "        if(data.iloc[x,data.columns.get_loc('Log')]=='end'):\n",
    "            flag = False\n",
    "            vec_event.append(seg_features)\n",
    "            vec_rotulo.append(rotulo)\n",
    "            seg_features = []\n",
    "    return vec_event, vec_rotulo"
   ]
  },
  {
   "cell_type": "markdown",
   "metadata": {},
   "source": [
    "## Segmentando com a funcao seg_nn Ideal para segmentacao"
   ]
  },
  {
   "cell_type": "code",
   "execution_count": 158,
   "metadata": {},
   "outputs": [],
   "source": [
    "vec_event_train, vec_act_train = seg_nn(train_df, df_act[df_act['end_time']<=tm], flag=False)"
   ]
  },
  {
   "cell_type": "code",
   "execution_count": 159,
   "metadata": {},
   "outputs": [
    {
     "name": "stdout",
     "output_type": "stream",
     "text": [
      "1556\n"
     ]
    }
   ],
   "source": [
    "vec_event_test, vec_act_test =  seg_nn(test_df, df_act[df_act['start_time']>=tm],flag=False)"
   ]
  },
  {
   "cell_type": "code",
   "execution_count": 245,
   "metadata": {},
   "outputs": [
    {
     "data": {
      "text/plain": [
       "start_time    2010-12-24 13:41:54.517685\n",
       "end_time      2010-12-24 13:50:19.474116\n",
       "Label                              Relax\n",
       "Name: 1556, dtype: object"
      ]
     },
     "execution_count": 245,
     "metadata": {},
     "output_type": "execute_result"
    }
   ],
   "source": [
    "df_act.iloc[1556]"
   ]
  },
  {
   "cell_type": "code",
   "execution_count": 13,
   "metadata": {},
   "outputs": [
    {
     "data": {
      "text/html": [
       "<div>\n",
       "<style scoped>\n",
       "    .dataframe tbody tr th:only-of-type {\n",
       "        vertical-align: middle;\n",
       "    }\n",
       "\n",
       "    .dataframe tbody tr th {\n",
       "        vertical-align: top;\n",
       "    }\n",
       "\n",
       "    .dataframe thead th {\n",
       "        text-align: right;\n",
       "    }\n",
       "</style>\n",
       "<table border=\"1\" class=\"dataframe\">\n",
       "  <thead>\n",
       "    <tr style=\"text-align: right;\">\n",
       "      <th></th>\n",
       "      <th>Id_Sensor</th>\n",
       "      <th>Valor_Sensor</th>\n",
       "    </tr>\n",
       "  </thead>\n",
       "  <tbody>\n",
       "  </tbody>\n",
       "</table>\n",
       "</div>"
      ],
      "text/plain": [
       "Empty DataFrame\n",
       "Columns: [Id_Sensor, Valor_Sensor]\n",
       "Index: []"
      ]
     },
     "execution_count": 13,
     "metadata": {},
     "output_type": "execute_result"
    }
   ],
   "source": [
    "s = df_act.iloc[1556, df_act.columns.get_loc('start_time')]\n",
    "e = df_act.iloc[1556, df_act.columns.get_loc('end_time')]#'Id_Sensor',\n",
    "test_df[(test_df['TimeStamp']>=s) & (test_df['TimeStamp']<=e)][['Id_Sensor','Valor_Sensor']]\n"
   ]
  },
  {
   "cell_type": "code",
   "execution_count": 232,
   "metadata": {},
   "outputs": [
    {
     "data": {
      "text/html": [
       "<div>\n",
       "<style scoped>\n",
       "    .dataframe tbody tr th:only-of-type {\n",
       "        vertical-align: middle;\n",
       "    }\n",
       "\n",
       "    .dataframe tbody tr th {\n",
       "        vertical-align: top;\n",
       "    }\n",
       "\n",
       "    .dataframe thead th {\n",
       "        text-align: right;\n",
       "    }\n",
       "</style>\n",
       "<table border=\"1\" class=\"dataframe\">\n",
       "  <thead>\n",
       "    <tr style=\"text-align: right;\">\n",
       "      <th></th>\n",
       "      <th>start_time</th>\n",
       "      <th>end_time</th>\n",
       "      <th>Label</th>\n",
       "    </tr>\n",
       "  </thead>\n",
       "  <tbody>\n",
       "    <tr>\n",
       "      <th>0</th>\n",
       "      <td>2010-11-04 00:03:50.209589</td>\n",
       "      <td>2010-11-04 05:40:43.642664</td>\n",
       "      <td>Sleeping</td>\n",
       "    </tr>\n",
       "    <tr>\n",
       "      <th>1</th>\n",
       "      <td>2010-11-04 05:40:51.303739</td>\n",
       "      <td>2010-11-04 05:43:30.279021</td>\n",
       "      <td>Bed_to_Toilet</td>\n",
       "    </tr>\n",
       "    <tr>\n",
       "      <th>2</th>\n",
       "      <td>2010-11-04 05:43:45.732400</td>\n",
       "      <td>2010-11-04 08:01:12.282970</td>\n",
       "      <td>Sleeping</td>\n",
       "    </tr>\n",
       "    <tr>\n",
       "      <th>3</th>\n",
       "      <td>2010-11-04 08:11:09.966157</td>\n",
       "      <td>2010-11-04 08:27:02.801314</td>\n",
       "      <td>Meal_Preparation</td>\n",
       "    </tr>\n",
       "    <tr>\n",
       "      <th>4</th>\n",
       "      <td>2010-11-04 08:33:52.929406</td>\n",
       "      <td>2010-11-04 08:35:45.822482</td>\n",
       "      <td>Meal_Preparation</td>\n",
       "    </tr>\n",
       "    <tr>\n",
       "      <th>...</th>\n",
       "      <td>...</td>\n",
       "      <td>...</td>\n",
       "      <td>...</td>\n",
       "    </tr>\n",
       "    <tr>\n",
       "      <th>4403</th>\n",
       "      <td>2011-03-31 18:24:15.252196</td>\n",
       "      <td>2011-03-31 18:48:33.888832</td>\n",
       "      <td>Relax</td>\n",
       "    </tr>\n",
       "    <tr>\n",
       "      <th>4404</th>\n",
       "      <td>2011-03-31 18:49:25.655523</td>\n",
       "      <td>2011-03-31 19:06:55.788405</td>\n",
       "      <td>Relax</td>\n",
       "    </tr>\n",
       "    <tr>\n",
       "      <th>4405</th>\n",
       "      <td>2011-03-31 19:11:07.887238</td>\n",
       "      <td>2011-03-31 20:44:52.367778</td>\n",
       "      <td>Relax</td>\n",
       "    </tr>\n",
       "    <tr>\n",
       "      <th>4406</th>\n",
       "      <td>2011-03-31 20:56:44.986078</td>\n",
       "      <td>2011-03-31 22:13:19.447251</td>\n",
       "      <td>Relax</td>\n",
       "    </tr>\n",
       "    <tr>\n",
       "      <th>4407</th>\n",
       "      <td>2011-03-31 22:14:39.370477</td>\n",
       "      <td>2011-03-31 23:46:56.223094</td>\n",
       "      <td>Relax</td>\n",
       "    </tr>\n",
       "  </tbody>\n",
       "</table>\n",
       "<p>4408 rows × 3 columns</p>\n",
       "</div>"
      ],
      "text/plain": [
       "                     start_time                   end_time             Label\n",
       "0    2010-11-04 00:03:50.209589 2010-11-04 05:40:43.642664          Sleeping\n",
       "1    2010-11-04 05:40:51.303739 2010-11-04 05:43:30.279021     Bed_to_Toilet\n",
       "2    2010-11-04 05:43:45.732400 2010-11-04 08:01:12.282970          Sleeping\n",
       "3    2010-11-04 08:11:09.966157 2010-11-04 08:27:02.801314  Meal_Preparation\n",
       "4    2010-11-04 08:33:52.929406 2010-11-04 08:35:45.822482  Meal_Preparation\n",
       "...                         ...                        ...               ...\n",
       "4403 2011-03-31 18:24:15.252196 2011-03-31 18:48:33.888832             Relax\n",
       "4404 2011-03-31 18:49:25.655523 2011-03-31 19:06:55.788405             Relax\n",
       "4405 2011-03-31 19:11:07.887238 2011-03-31 20:44:52.367778             Relax\n",
       "4406 2011-03-31 20:56:44.986078 2011-03-31 22:13:19.447251             Relax\n",
       "4407 2011-03-31 22:14:39.370477 2011-03-31 23:46:56.223094             Relax\n",
       "\n",
       "[4408 rows x 3 columns]"
      ]
     },
     "execution_count": 232,
     "metadata": {},
     "output_type": "execute_result"
    }
   ],
   "source": [
    "tm = max(train_df.TimeStamp)\n",
    "df_act[df_act['end_time']<=tm]"
   ]
  },
  {
   "cell_type": "markdown",
   "metadata": {},
   "source": [
    "## Continau Segmento"
   ]
  },
  {
   "cell_type": "code",
   "execution_count": 270,
   "metadata": {},
   "outputs": [],
   "source": [
    "vec_event_train, vec_act_train =  criarSegmento(train_df)"
   ]
  },
  {
   "cell_type": "code",
   "execution_count": 90,
   "metadata": {},
   "outputs": [
    {
     "data": {
      "text/plain": [
       "True"
      ]
     },
     "execution_count": 90,
     "metadata": {},
     "output_type": "execute_result"
    }
   ],
   "source": [
    "len(vec_act_train) == len(vec_event_train)"
   ]
  },
  {
   "cell_type": "code",
   "execution_count": 271,
   "metadata": {},
   "outputs": [],
   "source": [
    "test_df.reset_index(drop=True, inplace=True)"
   ]
  },
  {
   "cell_type": "code",
   "execution_count": 272,
   "metadata": {},
   "outputs": [],
   "source": [
    "vec_event_test, vec_act_test =  criarSegmento(test_df)"
   ]
  },
  {
   "cell_type": "code",
   "execution_count": 161,
   "metadata": {},
   "outputs": [
    {
     "data": {
      "text/plain": [
       "True"
      ]
     },
     "execution_count": 161,
     "metadata": {},
     "output_type": "execute_result"
    }
   ],
   "source": [
    "len(vec_act_test) == len(vec_event_test)"
   ]
  },
  {
   "cell_type": "code",
   "execution_count": null,
   "metadata": {},
   "outputs": [],
   "source": [
    "#f#or y in lst_features:\n",
    " #   print(train_df.iloc[15,train_df.columns.get_loc(y)])"
   ]
  },
  {
   "cell_type": "code",
   "execution_count": 162,
   "metadata": {},
   "outputs": [
    {
     "data": {
      "text/plain": [
       "(256936, 535663)"
      ]
     },
     "execution_count": 162,
     "metadata": {},
     "output_type": "execute_result"
    }
   ],
   "source": [
    "len(test_df), len(train_df)"
   ]
  },
  {
   "cell_type": "code",
   "execution_count": 164,
   "metadata": {},
   "outputs": [
    {
     "data": {
      "text/plain": [
       "(2069, 4408)"
      ]
     },
     "execution_count": 164,
     "metadata": {},
     "output_type": "execute_result"
    }
   ],
   "source": [
    "len(vec_event_test), len(vec_event_train)"
   ]
  },
  {
   "cell_type": "code",
   "execution_count": 165,
   "metadata": {},
   "outputs": [
    {
     "data": {
      "text/plain": [
       "(2069, 4408)"
      ]
     },
     "execution_count": 165,
     "metadata": {},
     "output_type": "execute_result"
    }
   ],
   "source": [
    "len(vec_event_test), len(vec_event_train)"
   ]
  },
  {
   "cell_type": "markdown",
   "metadata": {},
   "source": [
    "# Modelos Tradicionais"
   ]
  },
  {
   "cell_type": "code",
   "execution_count": 224,
   "metadata": {},
   "outputs": [],
   "source": [
    "#a = [[1,2],[4,9],[1,12],[-99,1],[1,2,], [1,1]]"
   ]
  },
  {
   "cell_type": "code",
   "execution_count": 225,
   "metadata": {},
   "outputs": [
    {
     "data": {
      "text/plain": [
       "[[1, 2], [4, 9], [1, 12], [-99, 1], [1, 2], [1, 1]]"
      ]
     },
     "execution_count": 225,
     "metadata": {},
     "output_type": "execute_result"
    }
   ],
   "source": [
    "#a"
   ]
  },
  {
   "cell_type": "code",
   "execution_count": 227,
   "metadata": {},
   "outputs": [
    {
     "data": {
      "text/plain": [
       "array([[  1.,   2.],\n",
       "       [  4.,   9.],\n",
       "       [  1.,  12.],\n",
       "       [-99.,   1.],\n",
       "       [  1.,   2.],\n",
       "       [  1.,   1.]])"
      ]
     },
     "execution_count": 227,
     "metadata": {},
     "output_type": "execute_result"
    }
   ],
   "source": [
    "#np.vstack(a, dtype=float)"
   ]
  },
  {
   "cell_type": "code",
   "execution_count": 11,
   "metadata": {},
   "outputs": [],
   "source": [
    "def maiorElementoSeq(l):\n",
    "    m = 0\n",
    "    i = -1\n",
    "    for y, x in enumerate(l):\n",
    "        if(m < len(x)):\n",
    "            m = len(x)\n",
    "            i = y\n",
    "    return m, i"
   ]
  },
  {
   "cell_type": "code",
   "execution_count": 173,
   "metadata": {},
   "outputs": [
    {
     "data": {
      "text/plain": [
       "(5184, 168)"
      ]
     },
     "execution_count": 173,
     "metadata": {},
     "output_type": "execute_result"
    }
   ],
   "source": [
    "tamnho_max_vect, kzl = maiorElementoSeq(vec_event_test)\n",
    "tamnho_max_vect, kzl"
   ]
  },
  {
   "cell_type": "code",
   "execution_count": 174,
   "metadata": {},
   "outputs": [
    {
     "data": {
      "text/plain": [
       "6.0"
      ]
     },
     "execution_count": 174,
     "metadata": {},
     "output_type": "execute_result"
    }
   ],
   "source": [
    "vec_act_test[168]"
   ]
  },
  {
   "cell_type": "code",
   "execution_count": null,
   "metadata": {},
   "outputs": [],
   "source": [
    "maiorElementoSeq(vec_event_train)"
   ]
  },
  {
   "cell_type": "code",
   "execution_count": 171,
   "metadata": {},
   "outputs": [
    {
     "data": {
      "text/plain": [
       "3.0"
      ]
     },
     "execution_count": 171,
     "metadata": {},
     "output_type": "execute_result"
    }
   ],
   "source": [
    "vec_act_train[41]"
   ]
  },
  {
   "cell_type": "code",
   "execution_count": 96,
   "metadata": {},
   "outputs": [
    {
     "data": {
      "text/plain": [
       "2"
      ]
     },
     "execution_count": 96,
     "metadata": {},
     "output_type": "execute_result"
    }
   ],
   "source": [
    "vec_event_train.pop(695)\n",
    "vec_act_train.pop(695)"
   ]
  },
  {
   "cell_type": "code",
   "execution_count": 12,
   "metadata": {},
   "outputs": [],
   "source": [
    "def menor(l):\n",
    "    m = tamnho_max_vect\n",
    "    i = -1\n",
    "    for y, x in enumerate(l):\n",
    "        if(m > len(x)):\n",
    "            m = len(x)\n",
    "            i = y\n",
    "    return m, i"
   ]
  },
  {
   "cell_type": "code",
   "execution_count": 13,
   "metadata": {},
   "outputs": [],
   "source": [
    "def limparNulos(data, yd):\n",
    "    while(True):\n",
    "        v, i = menor(data)\n",
    "        if(data[i] == []):\n",
    "            data.pop(i)\n",
    "            yd.pop(i)\n",
    "        else:\n",
    "            break"
   ]
  },
  {
   "cell_type": "code",
   "execution_count": null,
   "metadata": {},
   "outputs": [],
   "source": [
    "maiorElementoSeq()"
   ]
  },
  {
   "cell_type": "code",
   "execution_count": 170,
   "metadata": {},
   "outputs": [
    {
     "data": {
      "text/plain": [
       "((4, 160), (4, 42))"
      ]
     },
     "execution_count": 170,
     "metadata": {},
     "output_type": "execute_result"
    }
   ],
   "source": [
    "menor(vec_event_train), menor(vec_event_test)"
   ]
  },
  {
   "cell_type": "code",
   "execution_count": 276,
   "metadata": {},
   "outputs": [],
   "source": [
    "limparNulos(vec_event_train,vec_act_train)"
   ]
  },
  {
   "cell_type": "code",
   "execution_count": 277,
   "metadata": {},
   "outputs": [],
   "source": [
    "limparNulos(vec_event_test,vec_act_test)"
   ]
  },
  {
   "cell_type": "code",
   "execution_count": 103,
   "metadata": {},
   "outputs": [
    {
     "data": {
      "text/plain": [
       "False"
      ]
     },
     "execution_count": 103,
     "metadata": {},
     "output_type": "execute_result"
    }
   ],
   "source": [
    "vec_event_train[1702] == []"
   ]
  },
  {
   "cell_type": "code",
   "execution_count": 175,
   "metadata": {},
   "outputs": [
    {
     "data": {
      "text/plain": [
       "array(['Bed_to_Toilet', 'Eating', 'Enter_Home', 'Housekeeping',\n",
       "       'Leave_Home', 'Meal_Preparation', 'Relax', 'Respirate', 'Sleeping',\n",
       "       'Wash_Dishes', 'Work'], dtype=object)"
      ]
     },
     "execution_count": 175,
     "metadata": {},
     "output_type": "execute_result"
    }
   ],
   "source": [
    "encoder_label.classes_"
   ]
  },
  {
   "cell_type": "code",
   "execution_count": 208,
   "metadata": {},
   "outputs": [],
   "source": [
    "#inv = encoder_label.inverse_transform(vec_act_test)"
   ]
  },
  {
   "cell_type": "code",
   "execution_count": 217,
   "metadata": {},
   "outputs": [
    {
     "data": {
      "text/plain": [
       "((103680, 168), 5, 'Meal_Preparation')"
      ]
     },
     "execution_count": 217,
     "metadata": {},
     "output_type": "execute_result"
    }
   ],
   "source": [
    "#maiorElementoSeq(vec_event_test), vec_act_test[168], inv[168]"
   ]
  },
  {
   "cell_type": "code",
   "execution_count": 176,
   "metadata": {},
   "outputs": [],
   "source": [
    "def agregarFeatures(data):\n",
    "    features_agregadas = []\n",
    "    notnan = lambda x: x if (not np.isnan(x)) else float(0)\n",
    "    for i in range(len(data)):\n",
    "        # Extrair características agregadas (média, soma, etc.) de cada sequência\n",
    "        sequence_features = data[i]\n",
    "        aggregated_features = [np.mean(sequence_features, axis=0), \n",
    "                           np.median(sequence_features, axis=0),\n",
    "                           #float(np.sum(sequence_features, axis=0)),\n",
    "                           np.std(sequence_features, axis=0),\n",
    "                           #float(len(sequence_features)),\n",
    "                           #float(statistics.mode(sequence_features)),\n",
    "                           notnan (float(sts.skew(sequence_features))),\n",
    "                           notnan (sts.kurtosis(sequence_features))]   \n",
    "        features_agregadas.append(aggregated_features)\n",
    "    return features_agregadas"
   ]
  },
  {
   "cell_type": "code",
   "execution_count": 177,
   "metadata": {},
   "outputs": [],
   "source": [
    "X_train = np.vstack(agregarFeatures(vec_event_train), dtype=np.float64)\n",
    "y_train = np.array(vec_act_train, dtype=np.float64)"
   ]
  },
  {
   "cell_type": "code",
   "execution_count": 178,
   "metadata": {},
   "outputs": [],
   "source": [
    "X_test = np.vstack(agregarFeatures(vec_event_test), dtype=np.float64)\n",
    "y_test = np.array(vec_act_test, dtype=np.float64)"
   ]
  },
  {
   "cell_type": "code",
   "execution_count": 339,
   "metadata": {},
   "outputs": [
    {
     "data": {
      "text/plain": [
       "((4408, 5), (4408,))"
      ]
     },
     "execution_count": 339,
     "metadata": {},
     "output_type": "execute_result"
    }
   ],
   "source": [
    "X_train.shape, y_train.shape"
   ]
  },
  {
   "cell_type": "code",
   "execution_count": 109,
   "metadata": {},
   "outputs": [
    {
     "data": {
      "text/plain": [
       "((2017, 5), (2017,))"
      ]
     },
     "execution_count": 109,
     "metadata": {},
     "output_type": "execute_result"
    }
   ],
   "source": [
    "X_test.shape, y_test.shape"
   ]
  },
  {
   "cell_type": "code",
   "execution_count": 340,
   "metadata": {},
   "outputs": [
    {
     "data": {
      "text/plain": [
       "((2069, 5), (2069,))"
      ]
     },
     "execution_count": 340,
     "metadata": {},
     "output_type": "execute_result"
    }
   ],
   "source": [
    "X_test.shape, y_test.shape"
   ]
  },
  {
   "cell_type": "code",
   "execution_count": 341,
   "metadata": {},
   "outputs": [
    {
     "data": {
      "text/plain": [
       "array([[10.08163265,  1.        ,  9.77989761,  0.04573379, -1.98078039],\n",
       "       [ 0.5       ,  0.5       ,  0.5       ,  0.        , -2.        ],\n",
       "       [ 9.40952381,  1.        , 10.14837096,  0.28401626, -1.85496418],\n",
       "       ...,\n",
       "       [ 6.1627907 ,  1.        ,  9.8905175 ,  1.16915126, -0.60825967],\n",
       "       [ 1.18882979,  1.        ,  3.79707792,  5.19029843, 25.49198674],\n",
       "       [ 2.21428571,  1.        ,  5.73656372,  3.02528686,  7.26300011]])"
      ]
     },
     "execution_count": 341,
     "metadata": {},
     "output_type": "execute_result"
    }
   ],
   "source": [
    "X_train"
   ]
  },
  {
   "cell_type": "code",
   "execution_count": 179,
   "metadata": {},
   "outputs": [],
   "source": [
    "from sklearn.ensemble import RandomForestClassifier\n",
    "from sklearn.metrics import accuracy_score, confusion_matrix, balanced_accuracy_score\n",
    "from sklearn.naive_bayes import GaussianNB\n",
    "from sklearn.preprocessing import MinMaxScaler"
   ]
  },
  {
   "cell_type": "code",
   "execution_count": 180,
   "metadata": {},
   "outputs": [],
   "source": [
    "scaler = MinMaxScaler()"
   ]
  },
  {
   "cell_type": "code",
   "execution_count": 181,
   "metadata": {},
   "outputs": [],
   "source": [
    "scaler.fit(X_train)\n",
    "X_train = scaler.transform(X_train)\n",
    "X_test = scaler.transform(X_test)"
   ]
  },
  {
   "cell_type": "code",
   "execution_count": 261,
   "metadata": {},
   "outputs": [
    {
     "data": {
      "text/plain": [
       "array([[0.55514337, 0.2962963 , 0.88199264, 0.27125356, 0.02036344],\n",
       "       [0.11825578, 0.09259259, 0.19914412, 0.22913222, 0.0114789 ],\n",
       "       [0.51201556, 0.14814815, 0.88012322, 0.2951659 , 0.02373526],\n",
       "       ...,\n",
       "       [0.44529878, 0.37037037, 0.75644181, 0.32335242, 0.04565951],\n",
       "       [0.23241442, 0.37037037, 0.43469608, 0.40708856, 0.15071578],\n",
       "       [0.30056405, 0.37037037, 0.56322456, 0.38231466, 0.0947322 ]])"
      ]
     },
     "execution_count": 261,
     "metadata": {},
     "output_type": "execute_result"
    }
   ],
   "source": [
    "X_train"
   ]
  },
  {
   "cell_type": "code",
   "execution_count": 182,
   "metadata": {},
   "outputs": [],
   "source": [
    "clf = RandomForestClassifier(n_jobs=-1, random_state=42, n_estimators=40, \n",
    "                             max_depth=None, min_samples_split=2, verbose=False, class_weight='balanced')\n"
   ]
  },
  {
   "cell_type": "code",
   "execution_count": 183,
   "metadata": {},
   "outputs": [
    {
     "data": {
      "text/html": [
       "<style>#sk-container-id-2 {color: black;background-color: white;}#sk-container-id-2 pre{padding: 0;}#sk-container-id-2 div.sk-toggleable {background-color: white;}#sk-container-id-2 label.sk-toggleable__label {cursor: pointer;display: block;width: 100%;margin-bottom: 0;padding: 0.3em;box-sizing: border-box;text-align: center;}#sk-container-id-2 label.sk-toggleable__label-arrow:before {content: \"▸\";float: left;margin-right: 0.25em;color: #696969;}#sk-container-id-2 label.sk-toggleable__label-arrow:hover:before {color: black;}#sk-container-id-2 div.sk-estimator:hover label.sk-toggleable__label-arrow:before {color: black;}#sk-container-id-2 div.sk-toggleable__content {max-height: 0;max-width: 0;overflow: hidden;text-align: left;background-color: #f0f8ff;}#sk-container-id-2 div.sk-toggleable__content pre {margin: 0.2em;color: black;border-radius: 0.25em;background-color: #f0f8ff;}#sk-container-id-2 input.sk-toggleable__control:checked~div.sk-toggleable__content {max-height: 200px;max-width: 100%;overflow: auto;}#sk-container-id-2 input.sk-toggleable__control:checked~label.sk-toggleable__label-arrow:before {content: \"▾\";}#sk-container-id-2 div.sk-estimator input.sk-toggleable__control:checked~label.sk-toggleable__label {background-color: #d4ebff;}#sk-container-id-2 div.sk-label input.sk-toggleable__control:checked~label.sk-toggleable__label {background-color: #d4ebff;}#sk-container-id-2 input.sk-hidden--visually {border: 0;clip: rect(1px 1px 1px 1px);clip: rect(1px, 1px, 1px, 1px);height: 1px;margin: -1px;overflow: hidden;padding: 0;position: absolute;width: 1px;}#sk-container-id-2 div.sk-estimator {font-family: monospace;background-color: #f0f8ff;border: 1px dotted black;border-radius: 0.25em;box-sizing: border-box;margin-bottom: 0.5em;}#sk-container-id-2 div.sk-estimator:hover {background-color: #d4ebff;}#sk-container-id-2 div.sk-parallel-item::after {content: \"\";width: 100%;border-bottom: 1px solid gray;flex-grow: 1;}#sk-container-id-2 div.sk-label:hover label.sk-toggleable__label {background-color: #d4ebff;}#sk-container-id-2 div.sk-serial::before {content: \"\";position: absolute;border-left: 1px solid gray;box-sizing: border-box;top: 0;bottom: 0;left: 50%;z-index: 0;}#sk-container-id-2 div.sk-serial {display: flex;flex-direction: column;align-items: center;background-color: white;padding-right: 0.2em;padding-left: 0.2em;position: relative;}#sk-container-id-2 div.sk-item {position: relative;z-index: 1;}#sk-container-id-2 div.sk-parallel {display: flex;align-items: stretch;justify-content: center;background-color: white;position: relative;}#sk-container-id-2 div.sk-item::before, #sk-container-id-2 div.sk-parallel-item::before {content: \"\";position: absolute;border-left: 1px solid gray;box-sizing: border-box;top: 0;bottom: 0;left: 50%;z-index: -1;}#sk-container-id-2 div.sk-parallel-item {display: flex;flex-direction: column;z-index: 1;position: relative;background-color: white;}#sk-container-id-2 div.sk-parallel-item:first-child::after {align-self: flex-end;width: 50%;}#sk-container-id-2 div.sk-parallel-item:last-child::after {align-self: flex-start;width: 50%;}#sk-container-id-2 div.sk-parallel-item:only-child::after {width: 0;}#sk-container-id-2 div.sk-dashed-wrapped {border: 1px dashed gray;margin: 0 0.4em 0.5em 0.4em;box-sizing: border-box;padding-bottom: 0.4em;background-color: white;}#sk-container-id-2 div.sk-label label {font-family: monospace;font-weight: bold;display: inline-block;line-height: 1.2em;}#sk-container-id-2 div.sk-label-container {text-align: center;}#sk-container-id-2 div.sk-container {/* jupyter's `normalize.less` sets `[hidden] { display: none; }` but bootstrap.min.css set `[hidden] { display: none !important; }` so we also need the `!important` here to be able to override the default hidden behavior on the sphinx rendered scikit-learn.org. See: https://github.com/scikit-learn/scikit-learn/issues/21755 */display: inline-block !important;position: relative;}#sk-container-id-2 div.sk-text-repr-fallback {display: none;}</style><div id=\"sk-container-id-2\" class=\"sk-top-container\"><div class=\"sk-text-repr-fallback\"><pre>RandomForestClassifier(class_weight=&#x27;balanced&#x27;, n_estimators=40, n_jobs=-1,\n",
       "                       random_state=42, verbose=False)</pre><b>In a Jupyter environment, please rerun this cell to show the HTML representation or trust the notebook. <br />On GitHub, the HTML representation is unable to render, please try loading this page with nbviewer.org.</b></div><div class=\"sk-container\" hidden><div class=\"sk-item\"><div class=\"sk-estimator sk-toggleable\"><input class=\"sk-toggleable__control sk-hidden--visually\" id=\"sk-estimator-id-2\" type=\"checkbox\" checked><label for=\"sk-estimator-id-2\" class=\"sk-toggleable__label sk-toggleable__label-arrow\">RandomForestClassifier</label><div class=\"sk-toggleable__content\"><pre>RandomForestClassifier(class_weight=&#x27;balanced&#x27;, n_estimators=40, n_jobs=-1,\n",
       "                       random_state=42, verbose=False)</pre></div></div></div></div></div>"
      ],
      "text/plain": [
       "RandomForestClassifier(class_weight='balanced', n_estimators=40, n_jobs=-1,\n",
       "                       random_state=42, verbose=False)"
      ]
     },
     "execution_count": 183,
     "metadata": {},
     "output_type": "execute_result"
    }
   ],
   "source": [
    "clf.fit(X_train, y_train)"
   ]
  },
  {
   "cell_type": "code",
   "execution_count": 184,
   "metadata": {},
   "outputs": [],
   "source": [
    "predictions = clf.predict(X_test)"
   ]
  },
  {
   "cell_type": "code",
   "execution_count": 185,
   "metadata": {},
   "outputs": [
    {
     "data": {
      "text/plain": [
       "0.9502174963750604"
      ]
     },
     "execution_count": 185,
     "metadata": {},
     "output_type": "execute_result"
    }
   ],
   "source": [
    "#y_test\n",
    "accuracy_score(predictions, y_test)"
   ]
  },
  {
   "cell_type": "code",
   "execution_count": 267,
   "metadata": {},
   "outputs": [],
   "source": [
    "# Criar um classificador Gaussian Naive Bayes\n",
    "gnb = GaussianNB()\n",
    "\n",
    "# Treinar o modelo com os dados de treinamento\n",
    "gnb.fit(X_train, y_train)\n",
    "\n",
    "# Fazer previsões com os dados de teste\n",
    "y_pred = gnb.predict(X_test)\n",
    "\n",
    "# Avaliar a precisão do modelo\n",
    "accuracy = accuracy_score(y_test, y_pred)"
   ]
  },
  {
   "cell_type": "code",
   "execution_count": 268,
   "metadata": {},
   "outputs": [
    {
     "data": {
      "text/plain": [
       "0.8032866118898019"
      ]
     },
     "execution_count": 268,
     "metadata": {},
     "output_type": "execute_result"
    }
   ],
   "source": [
    "accuracy"
   ]
  },
  {
   "cell_type": "markdown",
   "metadata": {},
   "source": [
    "# ANN"
   ]
  },
  {
   "cell_type": "code",
   "execution_count": 125,
   "metadata": {},
   "outputs": [],
   "source": [
    "vec_seg = df_nn[(df_nn['TimeStamp']>=pd.to_datetime('2010-11-25 12:27:57.084447')) & (df_nn['TimeStamp']<=pd.to_datetime('2010-11-25 12:28:01.606924'))][['Id_Sensor','Valor_Sensor']].copy()"
   ]
  },
  {
   "cell_type": "code",
   "execution_count": 129,
   "metadata": {},
   "outputs": [
    {
     "data": {
      "text/plain": [
       "start_time    2010-11-04 00:03:50.209589\n",
       "end_time      2010-11-04 05:40:43.642664\n",
       "activity                        Sleeping\n",
       "Name: 0, dtype: object"
      ]
     },
     "execution_count": 129,
     "metadata": {},
     "output_type": "execute_result"
    }
   ],
   "source": [
    "df_act.iloc[0]"
   ]
  },
  {
   "cell_type": "code",
   "execution_count": 137,
   "metadata": {},
   "outputs": [
    {
     "data": {
      "text/html": [
       "<div>\n",
       "<style scoped>\n",
       "    .dataframe tbody tr th:only-of-type {\n",
       "        vertical-align: middle;\n",
       "    }\n",
       "\n",
       "    .dataframe tbody tr th {\n",
       "        vertical-align: top;\n",
       "    }\n",
       "\n",
       "    .dataframe thead th {\n",
       "        text-align: right;\n",
       "    }\n",
       "</style>\n",
       "<table border=\"1\" class=\"dataframe\">\n",
       "  <thead>\n",
       "    <tr style=\"text-align: right;\">\n",
       "      <th></th>\n",
       "      <th>Id_Sensor</th>\n",
       "      <th>Valor_Sensor</th>\n",
       "    </tr>\n",
       "  </thead>\n",
       "  <tbody>\n",
       "    <tr>\n",
       "      <th>62227</th>\n",
       "      <td>D004</td>\n",
       "      <td>1.0</td>\n",
       "    </tr>\n",
       "    <tr>\n",
       "      <th>62228</th>\n",
       "      <td>M030</td>\n",
       "      <td>1.0</td>\n",
       "    </tr>\n",
       "    <tr>\n",
       "      <th>62229</th>\n",
       "      <td>M022</td>\n",
       "      <td>1.0</td>\n",
       "    </tr>\n",
       "    <tr>\n",
       "      <th>62230</th>\n",
       "      <td>D004</td>\n",
       "      <td>0.0</td>\n",
       "    </tr>\n",
       "  </tbody>\n",
       "</table>\n",
       "</div>"
      ],
      "text/plain": [
       "      Id_Sensor  Valor_Sensor\n",
       "62227      D004           1.0\n",
       "62228      M030           1.0\n",
       "62229      M022           1.0\n",
       "62230      D004           0.0"
      ]
     },
     "execution_count": 137,
     "metadata": {},
     "output_type": "execute_result"
    }
   ],
   "source": [
    "df_nn[(df_nn['TimeStamp']>=pd.to_datetime('2010-11-25 12:27:57.084447')) & (df_nn['TimeStamp']<=pd.to_datetime('2010-11-25 12:28:01.606924'))][['Id_Sensor','Valor_Sensor']].copy()"
   ]
  },
  {
   "cell_type": "code",
   "execution_count": 126,
   "metadata": {},
   "outputs": [
    {
     "data": {
      "text/plain": [
       "array(['D004', 1.0, 'M030', 1.0, 'M022', 1.0, 'D004', 0.0], dtype=object)"
      ]
     },
     "execution_count": 126,
     "metadata": {},
     "output_type": "execute_result"
    }
   ],
   "source": [
    "np.concatenate(vec_seg.values)"
   ]
  },
  {
   "cell_type": "code",
   "execution_count": 153,
   "metadata": {},
   "outputs": [
    {
     "data": {
      "text/plain": [
       "array([8])"
      ]
     },
     "execution_count": 153,
     "metadata": {},
     "output_type": "execute_result"
    }
   ],
   "source": []
  },
  {
   "cell_type": "markdown",
   "metadata": {},
   "source": [
    "# Função de Segmentacao"
   ]
  },
  {
   "cell_type": "code",
   "execution_count": 14,
   "metadata": {},
   "outputs": [],
   "source": [
    "def seg_nn(X,Y, flag=True):\n",
    "    \"\"\"\n",
    "    flag - serve para definir se a funcao vai gerar segmentos pra ANN ou modelos \n",
    "    tradicionais\n",
    "    X - é o dataframe com as features\n",
    "    Y - é o dataframe com o target\n",
    "\n",
    "    flag = true - ANN\n",
    "    flag = false - modelos tradicionais\n",
    "\n",
    "    O resultado da saida da ANN sao 3 vetores:\n",
    "        1 - vetor com o nome dos sensores\n",
    "        2 - vetor com os valores dos sensores\n",
    "        3 - o vetor com os rotulos(target)\n",
    "    \n",
    "    O resultado da flag = false:\n",
    "        1 - vetor com nome do sensor e valor\n",
    "        2 - target\n",
    "    \"\"\"\n",
    "    vec_features = []\n",
    "    vec_label = []\n",
    "    vec_id = []\n",
    "    df_seg = None\n",
    "    df_id = None\n",
    "    # Quano essa variavel é verdadeira nenhum sequencia é acrescentada\n",
    "    not_insert = False\n",
    "    #for i in [1,695,0]:\n",
    "    for i in range(len(Y)):\n",
    "        s = Y.iloc[i, Y.columns.get_loc('start_time')]\n",
    "        e = Y.iloc[i, Y.columns.get_loc('end_time')]#'Id_Sensor',\n",
    "        if flag:\n",
    "            df_id = X[(X['TimeStamp']>=s) & (X['TimeStamp']<=e)][['Id_Sensor']].copy()\n",
    "            df_seg = X[(X['TimeStamp']>=s) & (X['TimeStamp']<=e)][['Valor_Sensor']].copy()\n",
    "        else:\n",
    "            df_seg = X[(X['TimeStamp']>=s) & (X['TimeStamp']<=e)][['Id_Sensor','Valor_Sensor']].copy()\n",
    "        try:\n",
    "            vec_f = np.concatenate(df_seg.values, dtype=np.double)\n",
    "            if flag:\n",
    "                try:\n",
    "                    vec_i = np.concatenate(df_id.values, dtype=np.double)\n",
    "                    vec_id.append(vec_i)\n",
    "                except:\n",
    "                    print('Interno')\n",
    "        except:\n",
    "            #print(df_seg)\n",
    "            print(i)\n",
    "            not_insert = True\n",
    "        if not not_insert:\n",
    "            vec_features.append(vec_f)\n",
    "            rotulo = encoder_label.transform([Y.iloc[i, Y.columns.get_loc('Label')]])\n",
    "            vec_label.append(np.float64(rotulo))\n",
    "        #print(vec_f)\n",
    "        #print(vec_features)\n",
    "        #print(vec_label)\n",
    "        #print(Y.iloc[i, Y.columns.get_loc('Label')])\n",
    "        not_insert = False\n",
    "    if(flag):\n",
    "        return vec_id, vec_features, np.array(vec_label)\n",
    "    else:\n",
    "        return vec_features, np.array(vec_label)"
   ]
  },
  {
   "cell_type": "code",
   "execution_count": 56,
   "metadata": {},
   "outputs": [
    {
     "data": {
      "text/plain": [
       "'\\n\\na = {1:[1,4,44,4,4,4],2:[1,2,3,4], 7:[1,2,3,4,5,6,7,8,9,88,7,7,89,6,66],3:[124,6], 14:[1] , 5:[1,2,3,1,4,5,6,6,6,7,7,1,8,8]}\\n\\ndicionario_ordenado = dict(sorted(a.items(), key=lambda item: len(item[1]), reverse=True))\\n\\nprint(dicionario_ordenado)\\n\\n'"
      ]
     },
     "execution_count": 56,
     "metadata": {},
     "output_type": "execute_result"
    }
   ],
   "source": [
    "\"\"\"\n",
    "\n",
    "a = {1:[1,4,44,4,4,4],2:[1,2,3,4], 7:[1,2,3,4,5,6,7,8,9,88,7,7,89,6,66],3:[124,6], 14:[1] , 5:[1,2,3,1,4,5,6,6,6,7,7,1,8,8]}\n",
    "\n",
    "dicionario_ordenado = dict(sorted(a.items(), key=lambda item: len(item[1]), reverse=True))\n",
    "\n",
    "print(dicionario_ordenado)\n",
    "\n",
    "\"\"\""
   ]
  },
  {
   "cell_type": "code",
   "execution_count": 52,
   "metadata": {},
   "outputs": [],
   "source": [
    "vec_id_nn_train, vec_value_nn_train, vec_label_nn_train = seg_nn(train_df,df_act[df_act['end_time']<=tm])"
   ]
  },
  {
   "cell_type": "code",
   "execution_count": 53,
   "metadata": {},
   "outputs": [
    {
     "name": "stdout",
     "output_type": "stream",
     "text": [
      "1556\n"
     ]
    }
   ],
   "source": [
    "vec_id_nn_test, vec_value_nn_test, vec_label_nn_test = seg_nn(test_df, df_act[df_act['start_time']>=tm])"
   ]
  },
  {
   "cell_type": "code",
   "execution_count": null,
   "metadata": {},
   "outputs": [],
   "source": [
    "menor(vec_value_nn_train)"
   ]
  },
  {
   "cell_type": "code",
   "execution_count": null,
   "metadata": {},
   "outputs": [
    {
     "data": {
      "text/plain": [
       "True"
      ]
     },
     "execution_count": 138,
     "metadata": {},
     "output_type": "execute_result"
    }
   ],
   "source": [
    "len(vec_id_nn_train) == len(vec_label_nn_train)"
   ]
  },
  {
   "cell_type": "code",
   "execution_count": null,
   "metadata": {},
   "outputs": [
    {
     "data": {
      "text/plain": [
       "True"
      ]
     },
     "execution_count": 139,
     "metadata": {},
     "output_type": "execute_result"
    }
   ],
   "source": [
    "len(vec_value_nn_train) == len(vec_id_nn_train)"
   ]
  },
  {
   "cell_type": "code",
   "execution_count": 20,
   "metadata": {},
   "outputs": [
    {
     "data": {
      "text/plain": [
       "(4408, 2068, 2068)"
      ]
     },
     "execution_count": 20,
     "metadata": {},
     "output_type": "execute_result"
    }
   ],
   "source": [
    "len(vec_id_nn_train), len(vec_value_nn_test), len(vec_label_nn_test)"
   ]
  },
  {
   "cell_type": "markdown",
   "metadata": {},
   "source": [
    "## Ordenar pelo tamanho da sequencia, da maior para menor"
   ]
  },
  {
   "cell_type": "code",
   "execution_count": 54,
   "metadata": {},
   "outputs": [],
   "source": [
    "orgn_vec_id_train, orgn_vec_label_nn_train = zip(*sorted(zip(vec_id_nn_train, vec_label_nn_train), key=lambda pair: len(pair[0]), reverse=True))\n",
    "orgn_vec_vl_train, _ = zip(*sorted(zip(vec_value_nn_train, vec_label_nn_train), key=lambda pair: len(pair[0]), reverse=True))"
   ]
  },
  {
   "cell_type": "code",
   "execution_count": 55,
   "metadata": {},
   "outputs": [],
   "source": [
    "orgn_vec_id_test, orgn_vec_label_nn_test = zip(*sorted(zip(vec_id_nn_test, vec_label_nn_test), key=lambda pair: len(pair[0]), reverse=True))\n",
    "orgn_vec_vl_test, _ = zip(*sorted(zip(vec_value_nn_test, vec_label_nn_test), key=lambda pair: len(pair[0]), reverse=True))"
   ]
  },
  {
   "cell_type": "markdown",
   "metadata": {},
   "source": [
    "## Converter para Tensores"
   ]
  },
  {
   "cell_type": "code",
   "execution_count": 56,
   "metadata": {},
   "outputs": [],
   "source": [
    "tns_label_train = torch.tensor(orgn_vec_label_nn_train)\n",
    "tns_id_train = [torch.tensor(x, dtype=torch.long) for x in orgn_vec_id_train]\n",
    "tns_vl_train = [torch.tensor(x, dtype=torch.double) for x in orgn_vec_vl_train]"
   ]
  },
  {
   "cell_type": "code",
   "execution_count": 57,
   "metadata": {},
   "outputs": [],
   "source": [
    "tns_label_test = torch.tensor(orgn_vec_label_nn_test)\n",
    "tns_id_test = [torch.tensor(x, dtype=torch.long) for x in orgn_vec_id_test]\n",
    "tns_vl_test = [torch.tensor(x) for x in orgn_vec_vl_test]"
   ]
  },
  {
   "cell_type": "code",
   "execution_count": 58,
   "metadata": {},
   "outputs": [],
   "source": [
    "tam_id_test = [len(x) for x in tns_id_test]\n",
    "tam_vl_test = [len(x) for x in tns_vl_test]"
   ]
  },
  {
   "cell_type": "code",
   "execution_count": 59,
   "metadata": {},
   "outputs": [],
   "source": [
    "tam_id_train = [len(x) for x in tns_id_train]\n",
    "tam_vl_train = [len(x) for x in tns_vl_train]"
   ]
  },
  {
   "cell_type": "code",
   "execution_count": 26,
   "metadata": {},
   "outputs": [
    {
     "data": {
      "text/plain": [
       "True"
      ]
     },
     "execution_count": 26,
     "metadata": {},
     "output_type": "execute_result"
    }
   ],
   "source": [
    "len(max(tns_id_train, key=len)) == len(max(tns_vl_train, key=len)) "
   ]
  },
  {
   "cell_type": "markdown",
   "metadata": {},
   "source": [
    "## Aplicar padding nos tensores"
   ]
  },
  {
   "cell_type": "code",
   "execution_count": 29,
   "metadata": {},
   "outputs": [
    {
     "data": {
      "text/plain": [
       "True"
      ]
     },
     "execution_count": 29,
     "metadata": {},
     "output_type": "execute_result"
    }
   ],
   "source": [
    "maxSeq, _ = maiorElementoSeq(tns_vl_test) \n",
    "maxSeq > maiorElementoSeq(tns_vl_train)[0]"
   ]
  },
  {
   "cell_type": "code",
   "execution_count": null,
   "metadata": {},
   "outputs": [],
   "source": [
    "#tensor_id_pad_train = nn.utils.rnn.pack_padded_sequence(tns_id_train, lengt)"
   ]
  },
  {
   "cell_type": "code",
   "execution_count": 60,
   "metadata": {},
   "outputs": [],
   "source": [
    "tensor_id_pad_train = torch.nn.utils.rnn.pad_sequence(tns_id_train, batch_first=True, padding_value=0)\n",
    "tensor_vl_pad_train = torch.nn.utils.rnn.pad_sequence(tns_vl_train, batch_first=True, padding_value=0)"
   ]
  },
  {
   "cell_type": "code",
   "execution_count": 61,
   "metadata": {},
   "outputs": [],
   "source": [
    "tensor_id_pad_test = torch.nn.utils.rnn.pad_sequence(tns_id_test, batch_first=True, padding_value=0)\n",
    "tensor_vl_pad_test = torch.nn.utils.rnn.pad_sequence(tns_vl_test, batch_first=True, padding_value=0)"
   ]
  },
  {
   "cell_type": "code",
   "execution_count": null,
   "metadata": {},
   "outputs": [],
   "source": [
    "menor(tensor_id_pad_test)[0] == len(max(tensor_id_pad_test, key=len)) "
   ]
  },
  {
   "cell_type": "code",
   "execution_count": null,
   "metadata": {},
   "outputs": [
    {
     "data": {
      "text/plain": [
       "True"
      ]
     },
     "execution_count": 411,
     "metadata": {},
     "output_type": "execute_result"
    }
   ],
   "source": [
    "menor(tensor_id_pad_train)[0] == len(max(tensor_id_pad_train, key=len)) "
   ]
  },
  {
   "cell_type": "code",
   "execution_count": 33,
   "metadata": {},
   "outputs": [
    {
     "data": {
      "text/plain": [
       "((2592, 0), (2350, 0))"
      ]
     },
     "execution_count": 33,
     "metadata": {},
     "output_type": "execute_result"
    }
   ],
   "source": [
    "maiorElementoSeq(tns_id_test), maiorElementoSeq(tns_id_train)"
   ]
  },
  {
   "cell_type": "code",
   "execution_count": 34,
   "metadata": {},
   "outputs": [
    {
     "data": {
      "text/plain": [
       "(torch.Size([4408, 2350]), torch.Size([4408, 2350]), torch.Size([4408]))"
      ]
     },
     "execution_count": 34,
     "metadata": {},
     "output_type": "execute_result"
    }
   ],
   "source": [
    "tensor_vl_pad_train.shape,tensor_id_pad_train.shape, tns_label_train.shape"
   ]
  },
  {
   "cell_type": "code",
   "execution_count": 22,
   "metadata": {},
   "outputs": [
    {
     "data": {
      "text/plain": [
       "(torch.Size([2068, 2592]), torch.Size([2068, 2592]), torch.Size([2068]))"
      ]
     },
     "execution_count": 22,
     "metadata": {},
     "output_type": "execute_result"
    }
   ],
   "source": [
    "tensor_vl_pad_test.shape,tensor_id_pad_test.shape, tns_label_test.shape"
   ]
  },
  {
   "cell_type": "code",
   "execution_count": 311,
   "metadata": {},
   "outputs": [],
   "source": [
    "#seg_nn(df_nn,df_act)"
   ]
  },
  {
   "cell_type": "markdown",
   "metadata": {},
   "source": [
    "## Aumentando uma dimensão"
   ]
  },
  {
   "cell_type": "code",
   "execution_count": 65,
   "metadata": {},
   "outputs": [],
   "source": [
    "tensor_vl_pad_test = tensor_vl_pad_test.unsqueeze(-1) \n",
    "tensor_vl_pad_train = tensor_vl_pad_train.unsqueeze(-1) "
   ]
  },
  {
   "cell_type": "code",
   "execution_count": 70,
   "metadata": {},
   "outputs": [
    {
     "data": {
      "text/plain": [
       "(torch.Size([2068, 2592, 1]), torch.Size([4408, 2350, 1]))"
      ]
     },
     "execution_count": 70,
     "metadata": {},
     "output_type": "execute_result"
    }
   ],
   "source": [
    "tensor_vl_pad_test.shape, tensor_vl_pad_train.shape"
   ]
  },
  {
   "cell_type": "code",
   "execution_count": 68,
   "metadata": {},
   "outputs": [],
   "source": [
    "train_dt = TensorDataset(tensor_id_pad_train,tensor_vl_pad_train, tns_label_train)\n",
    "test_dt = TensorDataset(tensor_id_pad_test,tensor_vl_pad_test, tns_label_test)"
   ]
  },
  {
   "cell_type": "code",
   "execution_count": 73,
   "metadata": {},
   "outputs": [],
   "source": [
    "dataloader_test = DataLoader(test_dt, batch_size=16, shuffle=False)\n",
    "dataloader_train = DataLoader(train_dt, batch_size=16, shuffle=False)"
   ]
  },
  {
   "cell_type": "markdown",
   "metadata": {},
   "source": [
    "## Parametros do modelo"
   ]
  },
  {
   "cell_type": "code",
   "execution_count": 75,
   "metadata": {},
   "outputs": [],
   "source": [
    "devicee = torch.device('cuda')"
   ]
  },
  {
   "cell_type": "code",
   "execution_count": 63,
   "metadata": {},
   "outputs": [
    {
     "data": {
      "text/plain": [
       "device(type='cuda')"
      ]
     },
     "execution_count": 63,
     "metadata": {},
     "output_type": "execute_result"
    }
   ],
   "source": []
  },
  {
   "cell_type": "code",
   "execution_count": 41,
   "metadata": {},
   "outputs": [
    {
     "data": {
      "text/plain": [
       "array(['D001', 'D002', 'D004', 'M001', 'M002', 'M003', 'M004', 'M005',\n",
       "       'M006', 'M007', 'M008', 'M009', 'M010', 'M011', 'M012', 'M013',\n",
       "       'M014', 'M015', 'M016', 'M017', 'M018', 'M019', 'M020', 'M021',\n",
       "       'M022', 'M023', 'M024', 'M025', 'M026', 'M027', 'M028', 'M029',\n",
       "       'M030', 'M031', 'T001', 'T002', 'T003', 'T004', 'T005'],\n",
       "      dtype=object)"
      ]
     },
     "execution_count": 41,
     "metadata": {},
     "output_type": "execute_result"
    }
   ],
   "source": [
    "encoder_id.classes_"
   ]
  },
  {
   "cell_type": "code",
   "execution_count": 42,
   "metadata": {},
   "outputs": [
    {
     "name": "stdout",
     "output_type": "stream",
     "text": [
      "3\n"
     ]
    },
    {
     "data": {
      "text/plain": [
       "tensor([[[ 0.7171,  0.1946,  0.5558,  ..., -0.0717,  0.4660, -0.5679],\n",
       "         [-0.7660, -1.3751, -0.3224,  ...,  1.6350, -0.2102, -0.3374],\n",
       "         [ 0.7171,  0.1946,  0.5558,  ..., -0.0717,  0.4660, -0.5679],\n",
       "         ...,\n",
       "         [-0.5439,  1.5125,  0.7150,  ...,  0.5035,  0.4188, -0.2531],\n",
       "         [ 0.7171,  0.1946,  0.5558,  ..., -0.0717,  0.4660, -0.5679],\n",
       "         [ 0.7171,  0.1946,  0.5558,  ..., -0.0717,  0.4660, -0.5679]],\n",
       "\n",
       "        [[ 1.0936,  0.5652,  0.3710,  ..., -0.2203, -0.5779,  1.8885],\n",
       "         [ 0.9468,  0.5278, -0.9522,  ...,  0.5158, -0.3678, -1.9321],\n",
       "         [-0.5439,  1.5125,  0.7150,  ...,  0.5035,  0.4188, -0.2531],\n",
       "         ...,\n",
       "         [-1.9130,  0.5168,  0.2605,  ..., -0.0444, -0.7903, -0.4212],\n",
       "         [-1.9130,  0.5168,  0.2605,  ..., -0.0444, -0.7903, -0.4212],\n",
       "         [-1.9130,  0.5168,  0.2605,  ..., -0.0444, -0.7903, -0.4212]],\n",
       "\n",
       "        [[ 1.0936,  0.5652,  0.3710,  ..., -0.2203, -0.5779,  1.8885],\n",
       "         [-0.5439,  1.5125,  0.7150,  ...,  0.5035,  0.4188, -0.2531],\n",
       "         [ 0.9468,  0.5278, -0.9522,  ...,  0.5158, -0.3678, -1.9321],\n",
       "         ...,\n",
       "         [-1.9130,  0.5168,  0.2605,  ..., -0.0444, -0.7903, -0.4212],\n",
       "         [-1.9130,  0.5168,  0.2605,  ..., -0.0444, -0.7903, -0.4212],\n",
       "         [-1.9130,  0.5168,  0.2605,  ..., -0.0444, -0.7903, -0.4212]],\n",
       "\n",
       "        ...,\n",
       "\n",
       "        [[-0.0026, -1.5407,  1.7906,  ...,  1.2272,  2.2362,  0.3406],\n",
       "         [-0.6317, -0.3258, -0.7007,  ...,  0.1457,  0.4553, -1.7605],\n",
       "         [-1.9130,  0.5168,  0.2605,  ..., -0.0444, -0.7903, -0.4212],\n",
       "         ...,\n",
       "         [-1.9130,  0.5168,  0.2605,  ..., -0.0444, -0.7903, -0.4212],\n",
       "         [-1.9130,  0.5168,  0.2605,  ..., -0.0444, -0.7903, -0.4212],\n",
       "         [-1.9130,  0.5168,  0.2605,  ..., -0.0444, -0.7903, -0.4212]],\n",
       "\n",
       "        [[ 0.7556, -0.2558, -0.5968,  ..., -1.2433, -0.6087, -1.0025],\n",
       "         [ 0.7556, -0.2558, -0.5968,  ..., -1.2433, -0.6087, -1.0025],\n",
       "         [-1.9130,  0.5168,  0.2605,  ..., -0.0444, -0.7903, -0.4212],\n",
       "         ...,\n",
       "         [-1.9130,  0.5168,  0.2605,  ..., -0.0444, -0.7903, -0.4212],\n",
       "         [-1.9130,  0.5168,  0.2605,  ..., -0.0444, -0.7903, -0.4212],\n",
       "         [-1.9130,  0.5168,  0.2605,  ..., -0.0444, -0.7903, -0.4212]],\n",
       "\n",
       "        [[ 0.7556, -0.2558, -0.5968,  ..., -1.2433, -0.6087, -1.0025],\n",
       "         [ 0.7556, -0.2558, -0.5968,  ..., -1.2433, -0.6087, -1.0025],\n",
       "         [-1.9130,  0.5168,  0.2605,  ..., -0.0444, -0.7903, -0.4212],\n",
       "         ...,\n",
       "         [-1.9130,  0.5168,  0.2605,  ..., -0.0444, -0.7903, -0.4212],\n",
       "         [-1.9130,  0.5168,  0.2605,  ..., -0.0444, -0.7903, -0.4212],\n",
       "         [-1.9130,  0.5168,  0.2605,  ..., -0.0444, -0.7903, -0.4212]]],\n",
       "       grad_fn=<EmbeddingBackward>)"
      ]
     },
     "execution_count": 42,
     "metadata": {},
     "output_type": "execute_result"
    }
   ],
   "source": [
    "\n",
    "\n",
    "# Suponha que você tenha o vetor de categorias\n",
    "categorias = encoder_id.classes_\n",
    "\n",
    "# Defina a dimensão de incorporação\n",
    "embedding_dim = 16  # Escolha a dimensão de incorporação adequada\n",
    "\n",
    "# Crie a camada de incorporação\n",
    "embedding_layer = nn.Embedding(len(categorias), embedding_dim)\n",
    "\n",
    "# Passe seus dados através da camada de incorporação para obter os embeddings\n",
    "embeddings = embedding_layer(tensor_id_pad_train)\n",
    "\n",
    "# Os embeddings agora contêm as representações vetoriais das categorias\n",
    "print(len(embeddings.shape))\n",
    "embeddings\n"
   ]
  },
  {
   "cell_type": "code",
   "execution_count": 103,
   "metadata": {},
   "outputs": [],
   "source": [
    "# tamanho do vocabulario\n",
    "vocab_size = len(encoder_id.classes_)\n",
    "embedding_dim = 8 \n",
    "hidden_dim = 16\n",
    "num_hlayers = 2\n",
    "num_classes = len(encoder_label.classes_)\n",
    "\n"
   ]
  },
  {
   "cell_type": "code",
   "execution_count": 45,
   "metadata": {},
   "outputs": [
    {
     "data": {
      "text/plain": [
       "torch.Size([4408, 2350])"
      ]
     },
     "execution_count": 45,
     "metadata": {},
     "output_type": "execute_result"
    }
   ],
   "source": [
    "tensor_vl_pad_train.shape"
   ]
  },
  {
   "cell_type": "markdown",
   "metadata": {},
   "source": [
    "## embedding + LSTM "
   ]
  },
  {
   "cell_type": "code",
   "execution_count": 114,
   "metadata": {},
   "outputs": [
    {
     "name": "stdout",
     "output_type": "stream",
     "text": [
      "CustomModel(\n",
      "  (embedding): Embedding(39, 8)\n",
      "  (lstm): LSTM(9, 16, num_layers=2, batch_first=True)\n",
      "  (fc): Linear(in_features=16, out_features=11, bias=True)\n",
      "  (ativacao): LogSoftmax(dim=None)\n",
      ")\n"
     ]
    }
   ],
   "source": [
    "\n",
    "class CustomModel(nn.Module):\n",
    "    def __init__(self, vocab_size, embedding_dim, lstm_hidden_dim, num_layers, num_classes):\n",
    "        super(CustomModel, self).__init__()\n",
    "        self.hidden_size = lstm_hidden_dim\n",
    "        self.num_layers = num_layers\n",
    "        \"\"\"embedding_dim + maxSeq\"\"\"\n",
    "       \n",
    "        self.embedding = nn.Embedding(vocab_size, embedding_dim)\n",
    "        self.lstm = nn.LSTM(embedding_dim + 1, lstm_hidden_dim, num_layers=num_layers, batch_first=True)\n",
    "        self.fc = nn.Linear(lstm_hidden_dim, num_classes)\n",
    "        self.ativacao = nn.LogSoftmax()\n",
    "    \n",
    "    def forward(self, id_sensor, value_sensor):\n",
    "        # dados com tamamho B x F X C\n",
    "\n",
    "        # Passe os dados categóricos pela camada de embedding\n",
    "        embedded = self.embedding(id_sensor)\n",
    "        #value_sensor = value_sensor.to(devicee)\n",
    "        #embedded = embedded.to(devicee)\n",
    "\n",
    "        # Concatene os dados categóricos e numéricos\n",
    "        concatenated = torch.cat((embedded, value_sensor), dim=2)\n",
    "\n",
    "        concatenated = concatenated.to(device=devicee)\n",
    "\n",
    "        print(concatenated.shape)\n",
    "\n",
    "        #print(embedded.shape, value_sensor.shape, concatenated.shape)\n",
    "\n",
    "        #print(embedded.)\n",
    "\n",
    "        # Passe os dados concatenados pela camada LSTM\n",
    "        #self.lstm = self.lstm.double()\n",
    "\n",
    "        # Inicialize o estado oculto e de célula LSTM\n",
    "        #h0 = torch.zeros(self.num_layers, concatenated.size(0), self.hidden_size, dtype=torch.double).to(devicee)\n",
    "        #c0 = torch.zeros(self.num_layers, concatenated.size(0), self.hidden_size).to(concatenated.device)\n",
    "\n",
    "        # Propagação da LSTM\n",
    "\n",
    "        #print(h0.shape)\n",
    "        #lstm_out, _ = self.lstm(concatenated,h0)\n",
    "\n",
    "        # Initialize the initial hidden state and cell state for the LSTM with dtype=float\n",
    "        h0 = torch.zeros(self.num_layers, concatenated.size(0), self.hidden_size, dtype=torch.float).to(devicee)\n",
    "        c0 = torch.zeros(self.num_layers, concatenated.size(0), self.hidden_size, dtype=torch.float).to(devicee)\n",
    "\n",
    "        concatenated = concatenated.float()\n",
    "\n",
    "\n",
    "        # Propagate through the LSTM\n",
    "        lstm_out, _ = self.lstm(concatenated, (h0, c0))\n",
    "\n",
    "\n",
    "        \n",
    "        # Pegue a última saída da sequência da última camada LSTM\n",
    "        lstm_out = lstm_out[:, -1, :].to(devicee)\n",
    "        \n",
    "        # Passe a saída da LSTM pela camada de saída\n",
    "        output = self.ativacao(self.fc(lstm_out))\n",
    "        \n",
    "        return output\n",
    "\n",
    "\n",
    "# Crie uma instância do modelo\n",
    "model = CustomModel(vocab_size, embedding_dim, hidden_dim, num_hlayers, num_classes).to(devicee)\n",
    "\n",
    "# Exiba a arquitetura da rede\n",
    "print(model)"
   ]
  },
  {
   "cell_type": "code",
   "execution_count": 119,
   "metadata": {},
   "outputs": [
    {
     "name": "stdout",
     "output_type": "stream",
     "text": [
      "torch.Size([16, 2350, 9])\n",
      "tensor([[-2.1257, -2.3401, -2.0828, -2.5579, -2.5036, -2.3645, -2.5453, -2.4921,\n",
      "         -2.5203, -2.6271, -2.3796],\n",
      "        [-2.1023, -2.3555, -2.0706, -2.5711, -2.4681, -2.4006, -2.5636, -2.4902,\n",
      "         -2.5120, -2.6345, -2.3835],\n",
      "        [-2.1023, -2.3555, -2.0706, -2.5711, -2.4681, -2.4006, -2.5636, -2.4902,\n",
      "         -2.5120, -2.6345, -2.3835],\n",
      "        [-2.1023, -2.3555, -2.0706, -2.5711, -2.4681, -2.4006, -2.5636, -2.4902,\n",
      "         -2.5120, -2.6345, -2.3835],\n",
      "        [-2.1023, -2.3555, -2.0706, -2.5711, -2.4681, -2.4006, -2.5636, -2.4902,\n",
      "         -2.5120, -2.6345, -2.3835],\n",
      "        [-2.1023, -2.3555, -2.0706, -2.5711, -2.4681, -2.4006, -2.5636, -2.4902,\n",
      "         -2.5120, -2.6345, -2.3835],\n",
      "        [-2.1023, -2.3555, -2.0706, -2.5711, -2.4681, -2.4006, -2.5636, -2.4902,\n",
      "         -2.5120, -2.6345, -2.3835],\n",
      "        [-2.1023, -2.3555, -2.0706, -2.5711, -2.4681, -2.4006, -2.5636, -2.4902,\n",
      "         -2.5120, -2.6345, -2.3835],\n",
      "        [-2.1023, -2.3555, -2.0706, -2.5711, -2.4681, -2.4006, -2.5636, -2.4902,\n",
      "         -2.5120, -2.6345, -2.3835],\n",
      "        [-2.1023, -2.3555, -2.0706, -2.5711, -2.4681, -2.4006, -2.5636, -2.4902,\n",
      "         -2.5120, -2.6345, -2.3835],\n",
      "        [-2.1023, -2.3555, -2.0706, -2.5711, -2.4681, -2.4006, -2.5636, -2.4902,\n",
      "         -2.5120, -2.6345, -2.3835],\n",
      "        [-2.1023, -2.3555, -2.0706, -2.5711, -2.4681, -2.4006, -2.5636, -2.4902,\n",
      "         -2.5120, -2.6345, -2.3835],\n",
      "        [-2.1023, -2.3555, -2.0706, -2.5711, -2.4681, -2.4006, -2.5636, -2.4902,\n",
      "         -2.5120, -2.6345, -2.3835],\n",
      "        [-2.1023, -2.3555, -2.0706, -2.5711, -2.4681, -2.4006, -2.5636, -2.4902,\n",
      "         -2.5120, -2.6345, -2.3835],\n",
      "        [-2.1023, -2.3555, -2.0706, -2.5711, -2.4681, -2.4006, -2.5636, -2.4902,\n",
      "         -2.5120, -2.6345, -2.3835],\n",
      "        [-2.1023, -2.3555, -2.0706, -2.5711, -2.4681, -2.4006, -2.5636, -2.4902,\n",
      "         -2.5120, -2.6345, -2.3835]], device='cuda:0',\n",
      "       grad_fn=<LogSoftmaxBackward>) 11\n"
     ]
    },
    {
     "name": "stderr",
     "output_type": "stream",
     "text": [
      "/tmp/ipykernel_4259/4185926890.py:60: UserWarning: Implicit dimension choice for log_softmax has been deprecated. Change the call to include dim=X as an argument.\n",
      "  output = self.ativacao(self.fc(lstm_out))\n"
     ]
    }
   ],
   "source": [
    "for id, value, rotulo in dataloader_train:\n",
    "\n",
    "    saida = model(id.to(devicee),value.to(devicee))\n",
    "\n",
    "    print(saida, len(saida[0]))\n",
    "    break"
   ]
  },
  {
   "cell_type": "code",
   "execution_count": 79,
   "metadata": {},
   "outputs": [],
   "source": [
    "criterio = nn.CrossEntropyLoss().to(devicee)\n",
    "optimizer = optim.Adam(model.parameters(), lr=1e-4, weight_decay=5e-5)"
   ]
  },
  {
   "cell_type": "code",
   "execution_count": 101,
   "metadata": {},
   "outputs": [],
   "source": [
    "def forward(iterator, num_samples, etapa):\n",
    "  if etapa == 'Treino': model.train()\n",
    "  else: model.eval()\n",
    "\n",
    "  acuracia = 0.\n",
    "  loss_epoca = []\n",
    "  for id, value, rotulo in iterator:\n",
    "\n",
    "    saida = model(id.to(devicee),value.to(devicee))\n",
    "\n",
    "    loss = criterio(saida, rotulo)\n",
    "    loss_epoca.append(loss.detach().cpu().numpy())\n",
    "\n",
    "    _, pred = torch.max(saida, axis=-1)\n",
    "    acuracia += (pred.cpu().data == rotulo.cpu().data).sum()\n",
    "    \n",
    "    if etapa == 'Treino':\n",
    "      # Otimização\n",
    "      optimizer.zero_grad()\n",
    "      loss.backward()\n",
    "      optimizer.step()\n",
    "\n",
    "  loss_epoca = np.asarray(loss_epoca).ravel()\n",
    "  acuracia   = acuracia/float(num_samples)\n",
    "  print('\\n','*'*15 + etapa + '*'*15 )\n",
    "  print('Epoca: {:}, Loss: {:.4f} +/- {:.4f}, Acurácia: {:.4f}'.format(k, loss_epoca.mean(), \n",
    "                                                                        loss_epoca.std(), \n",
    "                                                                        acuracia\n",
    "                                                                       )) \n",
    "  return loss_epoca.mean(), acuracia"
   ]
  },
  {
   "cell_type": "code",
   "execution_count": 115,
   "metadata": {},
   "outputs": [
    {
     "name": "stdout",
     "output_type": "stream",
     "text": [
      "torch.Size([16, 2350, 9])\n"
     ]
    },
    {
     "name": "stderr",
     "output_type": "stream",
     "text": [
      "/tmp/ipykernel_4259/4185926890.py:60: UserWarning: Implicit dimension choice for log_softmax has been deprecated. Change the call to include dim=X as an argument.\n",
      "  output = self.ativacao(self.fc(lstm_out))\n"
     ]
    },
    {
     "ename": "RuntimeError",
     "evalue": "Expected object of device type cuda but got device type cpu for argument #2 'target' in call to _thnn_nll_loss_forward",
     "output_type": "error",
     "traceback": [
      "\u001b[0;31m---------------------------------------------------------------------------\u001b[0m",
      "\u001b[0;31mRuntimeError\u001b[0m                              Traceback (most recent call last)",
      "\u001b[1;32m/home/alebex/pratica-dissertacao/Plano A/projeto/projeto.ipynb Célula 244\u001b[0m line \u001b[0;36m5\n\u001b[1;32m      <a href='vscode-notebook-cell:/home/alebex/pratica-dissertacao/Plano%20A/projeto/projeto.ipynb#Y603sZmlsZQ%3D%3D?line=1'>2</a>\u001b[0m acc_treino, acc_test \u001b[39m=\u001b[39m [], []\n\u001b[1;32m      <a href='vscode-notebook-cell:/home/alebex/pratica-dissertacao/Plano%20A/projeto/projeto.ipynb#Y603sZmlsZQ%3D%3D?line=3'>4</a>\u001b[0m \u001b[39mfor\u001b[39;00m epoca \u001b[39min\u001b[39;00m \u001b[39mrange\u001b[39m(\u001b[39m25\u001b[39m):\n\u001b[0;32m----> <a href='vscode-notebook-cell:/home/alebex/pratica-dissertacao/Plano%20A/projeto/projeto.ipynb#Y603sZmlsZQ%3D%3D?line=4'>5</a>\u001b[0m   loss, acuracia \u001b[39m=\u001b[39m forward(dataloader_train, \u001b[39mlen\u001b[39;49m(dataloader_train), \u001b[39m'\u001b[39;49m\u001b[39mTreino\u001b[39;49m\u001b[39m'\u001b[39;49m)\n\u001b[1;32m      <a href='vscode-notebook-cell:/home/alebex/pratica-dissertacao/Plano%20A/projeto/projeto.ipynb#Y603sZmlsZQ%3D%3D?line=5'>6</a>\u001b[0m   loss_treino\u001b[39m.\u001b[39mappend(loss)\n\u001b[1;32m      <a href='vscode-notebook-cell:/home/alebex/pratica-dissertacao/Plano%20A/projeto/projeto.ipynb#Y603sZmlsZQ%3D%3D?line=6'>7</a>\u001b[0m   acc_treino\u001b[39m.\u001b[39mappend(acuracia)\n",
      "\u001b[1;32m/home/alebex/pratica-dissertacao/Plano A/projeto/projeto.ipynb Célula 244\u001b[0m line \u001b[0;36m1\n\u001b[1;32m      <a href='vscode-notebook-cell:/home/alebex/pratica-dissertacao/Plano%20A/projeto/projeto.ipynb#Y603sZmlsZQ%3D%3D?line=6'>7</a>\u001b[0m \u001b[39mfor\u001b[39;00m \u001b[39mid\u001b[39m, value, rotulo \u001b[39min\u001b[39;00m iterator:\n\u001b[1;32m      <a href='vscode-notebook-cell:/home/alebex/pratica-dissertacao/Plano%20A/projeto/projeto.ipynb#Y603sZmlsZQ%3D%3D?line=8'>9</a>\u001b[0m   saida \u001b[39m=\u001b[39m model(\u001b[39mid\u001b[39m\u001b[39m.\u001b[39mto(devicee),value\u001b[39m.\u001b[39mto(devicee))\n\u001b[0;32m---> <a href='vscode-notebook-cell:/home/alebex/pratica-dissertacao/Plano%20A/projeto/projeto.ipynb#Y603sZmlsZQ%3D%3D?line=10'>11</a>\u001b[0m   loss \u001b[39m=\u001b[39m criterio(saida, rotulo)\n\u001b[1;32m     <a href='vscode-notebook-cell:/home/alebex/pratica-dissertacao/Plano%20A/projeto/projeto.ipynb#Y603sZmlsZQ%3D%3D?line=11'>12</a>\u001b[0m   loss_epoca\u001b[39m.\u001b[39mappend(loss\u001b[39m.\u001b[39mdetach()\u001b[39m.\u001b[39mcpu()\u001b[39m.\u001b[39mnumpy())\n\u001b[1;32m     <a href='vscode-notebook-cell:/home/alebex/pratica-dissertacao/Plano%20A/projeto/projeto.ipynb#Y603sZmlsZQ%3D%3D?line=13'>14</a>\u001b[0m   _, pred \u001b[39m=\u001b[39m torch\u001b[39m.\u001b[39mmax(saida, axis\u001b[39m=\u001b[39m\u001b[39m-\u001b[39m\u001b[39m1\u001b[39m)\n",
      "File \u001b[0;32m~/anaconda3/envs/DissertacaoCmDeepConfig/lib/python3.8/site-packages/torch/nn/modules/module.py:727\u001b[0m, in \u001b[0;36mModule._call_impl\u001b[0;34m(self, *input, **kwargs)\u001b[0m\n\u001b[1;32m    725\u001b[0m     result \u001b[39m=\u001b[39m \u001b[39mself\u001b[39m\u001b[39m.\u001b[39m_slow_forward(\u001b[39m*\u001b[39m\u001b[39minput\u001b[39m, \u001b[39m*\u001b[39m\u001b[39m*\u001b[39mkwargs)\n\u001b[1;32m    726\u001b[0m \u001b[39melse\u001b[39;00m:\n\u001b[0;32m--> 727\u001b[0m     result \u001b[39m=\u001b[39m \u001b[39mself\u001b[39;49m\u001b[39m.\u001b[39;49mforward(\u001b[39m*\u001b[39;49m\u001b[39minput\u001b[39;49m, \u001b[39m*\u001b[39;49m\u001b[39m*\u001b[39;49mkwargs)\n\u001b[1;32m    728\u001b[0m \u001b[39mfor\u001b[39;00m hook \u001b[39min\u001b[39;00m itertools\u001b[39m.\u001b[39mchain(\n\u001b[1;32m    729\u001b[0m         _global_forward_hooks\u001b[39m.\u001b[39mvalues(),\n\u001b[1;32m    730\u001b[0m         \u001b[39mself\u001b[39m\u001b[39m.\u001b[39m_forward_hooks\u001b[39m.\u001b[39mvalues()):\n\u001b[1;32m    731\u001b[0m     hook_result \u001b[39m=\u001b[39m hook(\u001b[39mself\u001b[39m, \u001b[39minput\u001b[39m, result)\n",
      "File \u001b[0;32m~/anaconda3/envs/DissertacaoCmDeepConfig/lib/python3.8/site-packages/torch/nn/modules/loss.py:961\u001b[0m, in \u001b[0;36mCrossEntropyLoss.forward\u001b[0;34m(self, input, target)\u001b[0m\n\u001b[1;32m    960\u001b[0m \u001b[39mdef\u001b[39;00m \u001b[39mforward\u001b[39m(\u001b[39mself\u001b[39m, \u001b[39minput\u001b[39m: Tensor, target: Tensor) \u001b[39m-\u001b[39m\u001b[39m>\u001b[39m Tensor:\n\u001b[0;32m--> 961\u001b[0m     \u001b[39mreturn\u001b[39;00m F\u001b[39m.\u001b[39;49mcross_entropy(\u001b[39minput\u001b[39;49m, target, weight\u001b[39m=\u001b[39;49m\u001b[39mself\u001b[39;49m\u001b[39m.\u001b[39;49mweight,\n\u001b[1;32m    962\u001b[0m                            ignore_index\u001b[39m=\u001b[39;49m\u001b[39mself\u001b[39;49m\u001b[39m.\u001b[39;49mignore_index, reduction\u001b[39m=\u001b[39;49m\u001b[39mself\u001b[39;49m\u001b[39m.\u001b[39;49mreduction)\n",
      "File \u001b[0;32m~/anaconda3/envs/DissertacaoCmDeepConfig/lib/python3.8/site-packages/torch/nn/functional.py:2468\u001b[0m, in \u001b[0;36mcross_entropy\u001b[0;34m(input, target, weight, size_average, ignore_index, reduce, reduction)\u001b[0m\n\u001b[1;32m   2466\u001b[0m \u001b[39mif\u001b[39;00m size_average \u001b[39mis\u001b[39;00m \u001b[39mnot\u001b[39;00m \u001b[39mNone\u001b[39;00m \u001b[39mor\u001b[39;00m reduce \u001b[39mis\u001b[39;00m \u001b[39mnot\u001b[39;00m \u001b[39mNone\u001b[39;00m:\n\u001b[1;32m   2467\u001b[0m     reduction \u001b[39m=\u001b[39m _Reduction\u001b[39m.\u001b[39mlegacy_get_string(size_average, reduce)\n\u001b[0;32m-> 2468\u001b[0m \u001b[39mreturn\u001b[39;00m nll_loss(log_softmax(\u001b[39minput\u001b[39;49m, \u001b[39m1\u001b[39;49m), target, weight, \u001b[39mNone\u001b[39;49;00m, ignore_index, \u001b[39mNone\u001b[39;49;00m, reduction)\n",
      "File \u001b[0;32m~/anaconda3/envs/DissertacaoCmDeepConfig/lib/python3.8/site-packages/torch/nn/functional.py:2264\u001b[0m, in \u001b[0;36mnll_loss\u001b[0;34m(input, target, weight, size_average, ignore_index, reduce, reduction)\u001b[0m\n\u001b[1;32m   2261\u001b[0m     \u001b[39mraise\u001b[39;00m \u001b[39mValueError\u001b[39;00m(\u001b[39m'\u001b[39m\u001b[39mExpected input batch_size (\u001b[39m\u001b[39m{}\u001b[39;00m\u001b[39m) to match target batch_size (\u001b[39m\u001b[39m{}\u001b[39;00m\u001b[39m).\u001b[39m\u001b[39m'\u001b[39m\n\u001b[1;32m   2262\u001b[0m                      \u001b[39m.\u001b[39mformat(\u001b[39minput\u001b[39m\u001b[39m.\u001b[39msize(\u001b[39m0\u001b[39m), target\u001b[39m.\u001b[39msize(\u001b[39m0\u001b[39m)))\n\u001b[1;32m   2263\u001b[0m \u001b[39mif\u001b[39;00m dim \u001b[39m==\u001b[39m \u001b[39m2\u001b[39m:\n\u001b[0;32m-> 2264\u001b[0m     ret \u001b[39m=\u001b[39m torch\u001b[39m.\u001b[39;49m_C\u001b[39m.\u001b[39;49m_nn\u001b[39m.\u001b[39;49mnll_loss(\u001b[39minput\u001b[39;49m, target, weight, _Reduction\u001b[39m.\u001b[39;49mget_enum(reduction), ignore_index)\n\u001b[1;32m   2265\u001b[0m \u001b[39melif\u001b[39;00m dim \u001b[39m==\u001b[39m \u001b[39m4\u001b[39m:\n\u001b[1;32m   2266\u001b[0m     ret \u001b[39m=\u001b[39m torch\u001b[39m.\u001b[39m_C\u001b[39m.\u001b[39m_nn\u001b[39m.\u001b[39mnll_loss2d(\u001b[39minput\u001b[39m, target, weight, _Reduction\u001b[39m.\u001b[39mget_enum(reduction), ignore_index)\n",
      "\u001b[0;31mRuntimeError\u001b[0m: Expected object of device type cuda but got device type cpu for argument #2 'target' in call to _thnn_nll_loss_forward"
     ]
    }
   ],
   "source": [
    "loss_treino, loss_test = [], []\n",
    "acc_treino, acc_test = [], []\n",
    "\n",
    "for epoca in range(25):\n",
    "  loss, acuracia = forward(dataloader_train, len(dataloader_train), 'Treino')\n",
    "  loss_treino.append(loss)\n",
    "  acc_treino.append(acuracia)  "
   ]
  },
  {
   "cell_type": "code",
   "execution_count": 32,
   "metadata": {},
   "outputs": [],
   "source": [
    "concatenated = torch.cat((embeddings, tensor_vl_pad_train.unsqueeze(-1)), dim=2)\n"
   ]
  },
  {
   "cell_type": "code",
   "execution_count": 40,
   "metadata": {},
   "outputs": [
    {
     "data": {
      "text/plain": [
       "tensor([33, 22, 33,  ..., 23, 33, 33])"
      ]
     },
     "execution_count": 40,
     "metadata": {},
     "output_type": "execute_result"
    }
   ],
   "source": [
    "tensor_id_pad_train[0]"
   ]
  },
  {
   "cell_type": "code",
   "execution_count": 52,
   "metadata": {},
   "outputs": [
    {
     "data": {
      "text/plain": [
       "tensor([ 0.0087, -0.1273,  3.3072,  1.6368, -0.6460, -0.4837,  1.1301, -0.1982,\n",
       "         0.4471, -1.0064,  0.3971,  0.6330, -0.8052,  0.5528, -1.0554, -1.4576,\n",
       "         1.0000], dtype=torch.float64, grad_fn=<SelectBackward>)"
      ]
     },
     "execution_count": 52,
     "metadata": {},
     "output_type": "execute_result"
    }
   ],
   "source": [
    "concatenated[0][0]"
   ]
  },
  {
   "cell_type": "code",
   "execution_count": 51,
   "metadata": {},
   "outputs": [
    {
     "data": {
      "text/plain": [
       "('torch.FloatTensor', 'torch.DoubleTensor')"
      ]
     },
     "execution_count": 51,
     "metadata": {},
     "output_type": "execute_result"
    }
   ],
   "source": [
    "embeddings.type(), concatenated.type()"
   ]
  }
 ],
 "metadata": {
  "kernelspec": {
   "display_name": "DissertacaoCmDeepConfig",
   "language": "python",
   "name": "python3"
  },
  "language_info": {
   "codemirror_mode": {
    "name": "ipython",
    "version": 3
   },
   "file_extension": ".py",
   "mimetype": "text/x-python",
   "name": "python",
   "nbconvert_exporter": "python",
   "pygments_lexer": "ipython3",
   "version": "3.8.18"
  },
  "orig_nbformat": 4
 },
 "nbformat": 4,
 "nbformat_minor": 2
}
